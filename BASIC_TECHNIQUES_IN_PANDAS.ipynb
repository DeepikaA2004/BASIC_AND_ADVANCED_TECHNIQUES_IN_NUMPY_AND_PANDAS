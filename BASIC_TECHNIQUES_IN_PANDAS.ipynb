{
  "nbformat": 4,
  "nbformat_minor": 0,
  "metadata": {
    "colab": {
      "provenance": []
    },
    "kernelspec": {
      "name": "python3",
      "display_name": "Python 3"
    },
    "language_info": {
      "name": "python"
    }
  },
  "cells": [
    {
      "cell_type": "markdown",
      "source": [
        "## Basic Operations"
      ],
      "metadata": {
        "id": "SBw4l-AuzjuN"
      }
    },
    {
      "cell_type": "code",
      "source": [
        "import pandas as pd"
      ],
      "metadata": {
        "id": "ZYTfCBaTzmqe"
      },
      "execution_count": null,
      "outputs": []
    },
    {
      "cell_type": "code",
      "source": [
        "pd.__version__"
      ],
      "metadata": {
        "colab": {
          "base_uri": "https://localhost:8080/",
          "height": 36
        },
        "id": "AYZ3wLCpztpB",
        "outputId": "150d3150-aef4-4eb3-9eff-bdd021c83f78"
      },
      "execution_count": null,
      "outputs": [
        {
          "output_type": "execute_result",
          "data": {
            "text/plain": [
              "'1.3.5'"
            ],
            "application/vnd.google.colaboratory.intrinsic+json": {
              "type": "string"
            }
          },
          "metadata": {},
          "execution_count": 2
        }
      ]
    },
    {
      "cell_type": "code",
      "source": [
        "# series is a one-dimensional array holding data of any type.\n",
        "a = [1, 7, 2]\n",
        "myvar = pd.Series(a)\n",
        "print(myvar)"
      ],
      "metadata": {
        "colab": {
          "base_uri": "https://localhost:8080/"
        },
        "id": "KSfbRmQQ_YYA",
        "outputId": "aac59ed8-8fdf-4c2f-da33-39a3f6955b0d"
      },
      "execution_count": null,
      "outputs": [
        {
          "output_type": "stream",
          "name": "stdout",
          "text": [
            "0    1\n",
            "1    7\n",
            "2    2\n",
            "dtype: int64\n"
          ]
        }
      ]
    },
    {
      "cell_type": "code",
      "source": [
        "print(myvar[0])\n"
      ],
      "metadata": {
        "colab": {
          "base_uri": "https://localhost:8080/"
        },
        "id": "mFJJyT9s_uvD",
        "outputId": "14205bb0-18ce-4d4f-d622-256858cf1998"
      },
      "execution_count": null,
      "outputs": [
        {
          "output_type": "stream",
          "name": "stdout",
          "text": [
            "1\n"
          ]
        }
      ]
    },
    {
      "cell_type": "code",
      "source": [
        "# empty series\n",
        "x = pd.Series()\n",
        "print (x)"
      ],
      "metadata": {
        "colab": {
          "base_uri": "https://localhost:8080/"
        },
        "id": "5bcwbZUwBUOY",
        "outputId": "e749754c-7bd4-4f82-866f-56cf56114c37"
      },
      "execution_count": null,
      "outputs": [
        {
          "output_type": "stream",
          "name": "stdout",
          "text": [
            "Series([], dtype: float64)\n"
          ]
        },
        {
          "output_type": "stream",
          "name": "stderr",
          "text": [
            "<ipython-input-13-4230683666cb>:2: DeprecationWarning: The default dtype for empty Series will be 'object' instead of 'float64' in a future version. Specify a dtype explicitly to silence this warning.\n",
            "  x = pd.Series()\n"
          ]
        }
      ]
    },
    {
      "cell_type": "code",
      "source": [
        "x = pd.Series(4, index=[0, 1, 2, 3])\n",
        "print (x)"
      ],
      "metadata": {
        "colab": {
          "base_uri": "https://localhost:8080/"
        },
        "id": "JJGZF3oeBZm_",
        "outputId": "942a510a-61eb-42c0-ce63-815f36738c72"
      },
      "execution_count": null,
      "outputs": [
        {
          "output_type": "stream",
          "name": "stdout",
          "text": [
            "0    4\n",
            "1    4\n",
            "2    4\n",
            "3    4\n",
            "dtype: int64\n"
          ]
        }
      ]
    },
    {
      "cell_type": "code",
      "source": [
        "a = [1, 7, 2]\n",
        "myvar = pd.Series(a, index = [\"x\", \"y\", \"z\"])\n",
        "print(myvar)"
      ],
      "metadata": {
        "colab": {
          "base_uri": "https://localhost:8080/"
        },
        "id": "aIQr2TE4_zeA",
        "outputId": "959e3905-96fe-422a-9265-20af0180db13"
      },
      "execution_count": null,
      "outputs": [
        {
          "output_type": "stream",
          "name": "stdout",
          "text": [
            "x    1\n",
            "y    7\n",
            "z    2\n",
            "dtype: int64\n"
          ]
        }
      ]
    },
    {
      "cell_type": "code",
      "source": [
        "print(myvar[\"y\"])\n"
      ],
      "metadata": {
        "colab": {
          "base_uri": "https://localhost:8080/"
        },
        "id": "Lp1iOiuu_3NF",
        "outputId": "ce87473e-62da-49d1-9b9d-23e003cb58f9"
      },
      "execution_count": null,
      "outputs": [
        {
          "output_type": "stream",
          "name": "stdout",
          "text": [
            "7\n"
          ]
        }
      ]
    },
    {
      "cell_type": "code",
      "source": [
        "#Create a simple Pandas Series from a dictionary:\n",
        "calories = {\"day1\": 420, \"day2\": 380, \"day3\": 390}\n",
        "myvar = pd.Series(calories)\n",
        "print(myvar)"
      ],
      "metadata": {
        "colab": {
          "base_uri": "https://localhost:8080/"
        },
        "id": "JMgedsw-_-Rj",
        "outputId": "2f0f5772-2196-462d-9738-aa478147559b"
      },
      "execution_count": null,
      "outputs": [
        {
          "output_type": "stream",
          "name": "stdout",
          "text": [
            "day1    420\n",
            "day2    380\n",
            "day3    390\n",
            "dtype: int64\n"
          ]
        }
      ]
    },
    {
      "cell_type": "code",
      "source": [
        "#Create a Series using only data from \"day1\" and \"day2\":\n",
        "calories = {\"day1\": 420, \"day2\": 380, \"day3\": 390}\n",
        "myvar = pd.Series(calories, index = [\"day1\", \"day2\"])\n",
        "print(myvar)"
      ],
      "metadata": {
        "colab": {
          "base_uri": "https://localhost:8080/"
        },
        "id": "4qku6KAyAENl",
        "outputId": "6d7b6efa-1e99-47ee-d314-b433e2ee37a0"
      },
      "execution_count": null,
      "outputs": [
        {
          "output_type": "stream",
          "name": "stdout",
          "text": [
            "day1    420\n",
            "day2    380\n",
            "dtype: int64\n"
          ]
        }
      ]
    },
    {
      "cell_type": "code",
      "source": [
        "import numpy as np\n",
        "info = np.array(['P','a','n','d','a','s'])\n",
        "a = pd.Series(info)\n",
        "print(a)"
      ],
      "metadata": {
        "colab": {
          "base_uri": "https://localhost:8080/"
        },
        "id": "qMbfdVN2Ai3J",
        "outputId": "c5ed5a57-0d80-46a6-cf5a-74fb264041fc"
      },
      "execution_count": null,
      "outputs": [
        {
          "output_type": "stream",
          "name": "stdout",
          "text": [
            "0    P\n",
            "1    a\n",
            "2    n\n",
            "3    d\n",
            "4    a\n",
            "5    s\n",
            "dtype: object\n"
          ]
        }
      ]
    },
    {
      "cell_type": "code",
      "source": [
        "data = pd.Series([0.25, 0.5, 0.75, 1.0]) #A Pandas Series is a one-dimensional array of indexed data.\n",
        "data"
      ],
      "metadata": {
        "colab": {
          "base_uri": "https://localhost:8080/"
        },
        "id": "JvWHH8OPz1vZ",
        "outputId": "298cb48e-a6cc-4a18-9094-ac783c38b83f"
      },
      "execution_count": null,
      "outputs": [
        {
          "output_type": "execute_result",
          "data": {
            "text/plain": [
              "0    0.25\n",
              "1    0.50\n",
              "2    0.75\n",
              "3    1.00\n",
              "dtype: float64"
            ]
          },
          "metadata": {},
          "execution_count": 3
        }
      ]
    },
    {
      "cell_type": "code",
      "source": [
        "# series is a one dimensional array containing a sequence of values of any type\n",
        "series1=pd.Series([10,20,30])"
      ],
      "metadata": {
        "id": "_qfIOwYd1UqA"
      },
      "execution_count": null,
      "outputs": []
    },
    {
      "cell_type": "code",
      "source": [
        "series1"
      ],
      "metadata": {
        "colab": {
          "base_uri": "https://localhost:8080/"
        },
        "id": "lpWnyuyczLzy",
        "outputId": "d89121b1-b78e-471a-8d14-76d7f3b711c5"
      },
      "execution_count": null,
      "outputs": [
        {
          "output_type": "execute_result",
          "data": {
            "text/plain": [
              "0    10\n",
              "1    20\n",
              "2    30\n",
              "dtype: int64"
            ]
          },
          "metadata": {},
          "execution_count": 5
        }
      ]
    },
    {
      "cell_type": "code",
      "source": [
        "series2=pd.Series(['kavi','kumar','ram'],index=[3,5,1])"
      ],
      "metadata": {
        "id": "9XFvwgZ0zRqW"
      },
      "execution_count": null,
      "outputs": []
    },
    {
      "cell_type": "code",
      "source": [
        "series2"
      ],
      "metadata": {
        "colab": {
          "base_uri": "https://localhost:8080/"
        },
        "id": "Io75wnYHzbiS",
        "outputId": "0d80d19b-b380-44ec-cfc0-de64ae865f15"
      },
      "execution_count": null,
      "outputs": [
        {
          "output_type": "execute_result",
          "data": {
            "text/plain": [
              "3     kavi\n",
              "5    kumar\n",
              "1      ram\n",
              "dtype: object"
            ]
          },
          "metadata": {},
          "execution_count": 7
        }
      ]
    },
    {
      "cell_type": "code",
      "source": [
        "data.values"
      ],
      "metadata": {
        "colab": {
          "base_uri": "https://localhost:8080/"
        },
        "id": "s7A-kcTH0ALc",
        "outputId": "21c25ac0-fd6e-45d8-f643-7e9fc9c188be"
      },
      "execution_count": null,
      "outputs": [
        {
          "output_type": "execute_result",
          "data": {
            "text/plain": [
              "array([0.25, 0.5 , 0.75, 1.  ])"
            ]
          },
          "metadata": {},
          "execution_count": 8
        }
      ]
    },
    {
      "cell_type": "code",
      "source": [
        "data.index"
      ],
      "metadata": {
        "colab": {
          "base_uri": "https://localhost:8080/"
        },
        "id": "YS93hVqC0T_R",
        "outputId": "1399c279-ab13-4eb6-bbfd-9c45ef540121"
      },
      "execution_count": null,
      "outputs": [
        {
          "output_type": "execute_result",
          "data": {
            "text/plain": [
              "RangeIndex(start=0, stop=4, step=1)"
            ]
          },
          "metadata": {},
          "execution_count": 9
        }
      ]
    },
    {
      "cell_type": "code",
      "source": [
        "data[1]"
      ],
      "metadata": {
        "colab": {
          "base_uri": "https://localhost:8080/"
        },
        "id": "gtqldyEX0Y_g",
        "outputId": "11670c1a-742d-4dff-8a2b-74c5e11ce795"
      },
      "execution_count": null,
      "outputs": [
        {
          "output_type": "execute_result",
          "data": {
            "text/plain": [
              "0.5"
            ]
          },
          "metadata": {},
          "execution_count": 10
        }
      ]
    },
    {
      "cell_type": "code",
      "source": [
        "data[1:3]"
      ],
      "metadata": {
        "colab": {
          "base_uri": "https://localhost:8080/"
        },
        "id": "z74CdFq_0sam",
        "outputId": "1d8f6881-3dac-459a-b887-bdb07183d3c3"
      },
      "execution_count": null,
      "outputs": [
        {
          "output_type": "execute_result",
          "data": {
            "text/plain": [
              "1    0.50\n",
              "2    0.75\n",
              "dtype: float64"
            ]
          },
          "metadata": {},
          "execution_count": 11
        }
      ]
    },
    {
      "cell_type": "code",
      "source": [
        "data = pd.Series([0.25, 0.5, 0.75, 1.0],index=['a', 'b', 'c', 'd'])\n",
        "data"
      ],
      "metadata": {
        "colab": {
          "base_uri": "https://localhost:8080/"
        },
        "id": "BjpezN5X0uOc",
        "outputId": "2cd67ebb-aad4-484c-eaa2-b060ace3b4a6"
      },
      "execution_count": null,
      "outputs": [
        {
          "output_type": "execute_result",
          "data": {
            "text/plain": [
              "a    0.25\n",
              "b    0.50\n",
              "c    0.75\n",
              "d    1.00\n",
              "dtype: float64"
            ]
          },
          "metadata": {},
          "execution_count": 12
        }
      ]
    },
    {
      "cell_type": "code",
      "source": [
        "data['b']"
      ],
      "metadata": {
        "colab": {
          "base_uri": "https://localhost:8080/"
        },
        "id": "X_Y8qQUl06TS",
        "outputId": "62054f1b-b455-4353-c493-e735032ff5d6"
      },
      "execution_count": null,
      "outputs": [
        {
          "output_type": "execute_result",
          "data": {
            "text/plain": [
              "0.5"
            ]
          },
          "metadata": {},
          "execution_count": 13
        }
      ]
    },
    {
      "cell_type": "code",
      "source": [
        "data = pd.Series([0.25, 0.5, 0.75, 1.0],index=[2, 5, 3, 7]) #even use noncontiguous or nonsequential indices\n",
        "data"
      ],
      "metadata": {
        "colab": {
          "base_uri": "https://localhost:8080/"
        },
        "id": "BE_NBcsn0442",
        "outputId": "f49d7998-2cdd-4805-a984-153a00c6ad58"
      },
      "execution_count": null,
      "outputs": [
        {
          "output_type": "execute_result",
          "data": {
            "text/plain": [
              "2    0.25\n",
              "5    0.50\n",
              "3    0.75\n",
              "7    1.00\n",
              "dtype: float64"
            ]
          },
          "metadata": {},
          "execution_count": 14
        }
      ]
    },
    {
      "cell_type": "code",
      "source": [
        "data[5]"
      ],
      "metadata": {
        "colab": {
          "base_uri": "https://localhost:8080/"
        },
        "id": "NCn3KiFq1Q9M",
        "outputId": "c793fdaa-28da-4fd0-c2f7-6f2b762937cb"
      },
      "execution_count": null,
      "outputs": [
        {
          "output_type": "execute_result",
          "data": {
            "text/plain": [
              "0.5"
            ]
          },
          "metadata": {},
          "execution_count": 15
        }
      ]
    },
    {
      "cell_type": "code",
      "source": [
        "population_dict = {'California': 38332521,'Texas': 26448193,'New York': 19651127,'Florida': 19552860,'Illinois': 12882135}\n",
        "population = pd.Series(population_dict)\n",
        "population"
      ],
      "metadata": {
        "colab": {
          "base_uri": "https://localhost:8080/"
        },
        "id": "ugu5KcOL1Vx_",
        "outputId": "72d79713-0fb7-433c-a097-2c7472f73420"
      },
      "execution_count": null,
      "outputs": [
        {
          "output_type": "execute_result",
          "data": {
            "text/plain": [
              "California    38332521\n",
              "Texas         26448193\n",
              "New York      19651127\n",
              "Florida       19552860\n",
              "Illinois      12882135\n",
              "dtype: int64"
            ]
          },
          "metadata": {},
          "execution_count": 16
        }
      ]
    },
    {
      "cell_type": "code",
      "source": [
        "population['California']"
      ],
      "metadata": {
        "colab": {
          "base_uri": "https://localhost:8080/"
        },
        "id": "wMqqK_eK1qJ0",
        "outputId": "10d04b18-390e-45d0-ea5b-9b0e55a0bdb1"
      },
      "execution_count": null,
      "outputs": [
        {
          "output_type": "execute_result",
          "data": {
            "text/plain": [
              "38332521"
            ]
          },
          "metadata": {},
          "execution_count": 17
        }
      ]
    },
    {
      "cell_type": "code",
      "source": [
        "population['California':'Illinois']"
      ],
      "metadata": {
        "colab": {
          "base_uri": "https://localhost:8080/"
        },
        "id": "59DR8Nsw2ERJ",
        "outputId": "4add6e54-6d7f-498c-c6c5-40670241e2c5"
      },
      "execution_count": null,
      "outputs": [
        {
          "output_type": "execute_result",
          "data": {
            "text/plain": [
              "California    38332521\n",
              "Texas         26448193\n",
              "New York      19651127\n",
              "Florida       19552860\n",
              "Illinois      12882135\n",
              "dtype: int64"
            ]
          },
          "metadata": {},
          "execution_count": 18
        }
      ]
    },
    {
      "cell_type": "code",
      "source": [
        "pd.Series([2, 4, 6]) # index is optional argument\n"
      ],
      "metadata": {
        "colab": {
          "base_uri": "https://localhost:8080/"
        },
        "id": "b3U-qy2n2HDk",
        "outputId": "b5af9f89-3302-4a63-c11c-df5f81af0d0e"
      },
      "execution_count": null,
      "outputs": [
        {
          "output_type": "execute_result",
          "data": {
            "text/plain": [
              "0    2\n",
              "1    4\n",
              "2    6\n",
              "dtype: int64"
            ]
          },
          "metadata": {},
          "execution_count": 19
        }
      ]
    },
    {
      "cell_type": "code",
      "source": [
        "pd.Series(5, index=[100, 200, 300])#data can be a scalar, which is repeated to fill the specified index"
      ],
      "metadata": {
        "colab": {
          "base_uri": "https://localhost:8080/"
        },
        "id": "ssSluhCZ2jfI",
        "outputId": "e728d1b7-2d26-42fe-d949-91f96239d57b"
      },
      "execution_count": null,
      "outputs": [
        {
          "output_type": "execute_result",
          "data": {
            "text/plain": [
              "100    5\n",
              "200    5\n",
              "300    5\n",
              "dtype: int64"
            ]
          },
          "metadata": {},
          "execution_count": 20
        }
      ]
    },
    {
      "cell_type": "code",
      "source": [
        "pd.Series({2:'a', 1:'b', 3:'c'}) #data can be a dictionary, in which index defaults to the sorted dictionary keys"
      ],
      "metadata": {
        "colab": {
          "base_uri": "https://localhost:8080/"
        },
        "id": "LCF11n9a29XI",
        "outputId": "d8a96c9c-c61a-4d9a-c922-ffb4601044f4"
      },
      "execution_count": null,
      "outputs": [
        {
          "output_type": "execute_result",
          "data": {
            "text/plain": [
              "2    a\n",
              "1    b\n",
              "3    c\n",
              "dtype: object"
            ]
          },
          "metadata": {},
          "execution_count": 21
        }
      ]
    },
    {
      "cell_type": "code",
      "source": [
        "pd.Series({2:'a', 1:'b', 3:'c'}, index=[3, 2]) #the index can be explicitly set if a different result is preferred"
      ],
      "metadata": {
        "colab": {
          "base_uri": "https://localhost:8080/"
        },
        "id": "ze3YKxSs3ckQ",
        "outputId": "fdb873d8-1feb-4390-c8e0-0b295ec205ce"
      },
      "execution_count": null,
      "outputs": [
        {
          "output_type": "execute_result",
          "data": {
            "text/plain": [
              "3    c\n",
              "2    a\n",
              "dtype: object"
            ]
          },
          "metadata": {},
          "execution_count": 22
        }
      ]
    },
    {
      "cell_type": "code",
      "source": [
        "# creating of series from numpy arrays\n",
        "import numpy as np\n",
        "import pandas as pd\n",
        "array1=np.array([1,2,3,4])\n",
        "series3=pd.Series(array1)\n",
        "print(series3)"
      ],
      "metadata": {
        "colab": {
          "base_uri": "https://localhost:8080/"
        },
        "id": "ZHniW-hn000P",
        "outputId": "6d9636a6-ac25-499d-b7ec-a692b353ae0d"
      },
      "execution_count": null,
      "outputs": [
        {
          "output_type": "stream",
          "name": "stdout",
          "text": [
            "0    1\n",
            "1    2\n",
            "2    3\n",
            "3    4\n",
            "dtype: int64\n"
          ]
        }
      ]
    },
    {
      "cell_type": "code",
      "source": [
        "series4=pd.Series(array1,index=['jan','feb','mar','apr'])\n",
        "series4"
      ],
      "metadata": {
        "colab": {
          "base_uri": "https://localhost:8080/"
        },
        "id": "n9FnQSmz055I",
        "outputId": "74e6ca3e-c56b-4ca1-f5c4-8f6d9a30480a"
      },
      "execution_count": null,
      "outputs": [
        {
          "output_type": "execute_result",
          "data": {
            "text/plain": [
              "jan    1\n",
              "feb    2\n",
              "mar    3\n",
              "apr    4\n",
              "dtype: int64"
            ]
          },
          "metadata": {},
          "execution_count": 27
        }
      ]
    },
    {
      "cell_type": "code",
      "source": [
        "#creation of series from dictionary\n",
        "dict1={'India':'NewDelhi','Uk':'London','japan':'tokyo'}\n",
        "dict1"
      ],
      "metadata": {
        "colab": {
          "base_uri": "https://localhost:8080/"
        },
        "id": "p3nCxK3X1h7X",
        "outputId": "f06673b6-3366-4793-b583-c28b0ab74e08"
      },
      "execution_count": null,
      "outputs": [
        {
          "output_type": "execute_result",
          "data": {
            "text/plain": [
              "{'India': 'NewDelhi', 'Uk': 'London', 'japan': 'tokyo'}"
            ]
          },
          "metadata": {},
          "execution_count": 29
        }
      ]
    },
    {
      "cell_type": "markdown",
      "source": [
        "##DataFrame as a generalized NumPy array"
      ],
      "metadata": {
        "id": "7sQpR1oB4d1b"
      }
    },
    {
      "cell_type": "code",
      "source": [
        "area_dict = {'California': 423967, 'Texas': 695662, 'New York': 141297,'Florida': 170312, 'Illinois': 149995}"
      ],
      "metadata": {
        "id": "xAqsf6mk4k_v"
      },
      "execution_count": null,
      "outputs": []
    },
    {
      "cell_type": "code",
      "source": [
        "area = pd.Series(area_dict)\n",
        "area"
      ],
      "metadata": {
        "colab": {
          "base_uri": "https://localhost:8080/"
        },
        "id": "ynF3PqIO4oBc",
        "outputId": "826b721d-a89e-4015-9a08-65513cbac7c0"
      },
      "execution_count": null,
      "outputs": [
        {
          "output_type": "execute_result",
          "data": {
            "text/plain": [
              "California    423967\n",
              "Texas         695662\n",
              "New York      141297\n",
              "Florida       170312\n",
              "Illinois      149995\n",
              "dtype: int64"
            ]
          },
          "metadata": {},
          "execution_count": 24
        }
      ]
    },
    {
      "cell_type": "code",
      "source": [
        "states = pd.DataFrame({'population': population,'area': area}) # dictionary to construct a single two-dimensional object\n",
        "# area single dimensional obejct and population another single dimensional object - we combined two objects\n",
        "states"
      ],
      "metadata": {
        "colab": {
          "base_uri": "https://localhost:8080/",
          "height": 206
        },
        "id": "ddKX-1lC4i2X",
        "outputId": "eba12b2c-aa3c-45f2-8954-994874310f42"
      },
      "execution_count": null,
      "outputs": [
        {
          "output_type": "execute_result",
          "data": {
            "text/plain": [
              "            population    area\n",
              "California    38332521  423967\n",
              "Texas         26448193  695662\n",
              "New York      19651127  141297\n",
              "Florida       19552860  170312\n",
              "Illinois      12882135  149995"
            ],
            "text/html": [
              "\n",
              "  <div id=\"df-fcde87ad-80ca-4eef-836d-c4dd4ab1ae93\">\n",
              "    <div class=\"colab-df-container\">\n",
              "      <div>\n",
              "<style scoped>\n",
              "    .dataframe tbody tr th:only-of-type {\n",
              "        vertical-align: middle;\n",
              "    }\n",
              "\n",
              "    .dataframe tbody tr th {\n",
              "        vertical-align: top;\n",
              "    }\n",
              "\n",
              "    .dataframe thead th {\n",
              "        text-align: right;\n",
              "    }\n",
              "</style>\n",
              "<table border=\"1\" class=\"dataframe\">\n",
              "  <thead>\n",
              "    <tr style=\"text-align: right;\">\n",
              "      <th></th>\n",
              "      <th>population</th>\n",
              "      <th>area</th>\n",
              "    </tr>\n",
              "  </thead>\n",
              "  <tbody>\n",
              "    <tr>\n",
              "      <th>California</th>\n",
              "      <td>38332521</td>\n",
              "      <td>423967</td>\n",
              "    </tr>\n",
              "    <tr>\n",
              "      <th>Texas</th>\n",
              "      <td>26448193</td>\n",
              "      <td>695662</td>\n",
              "    </tr>\n",
              "    <tr>\n",
              "      <th>New York</th>\n",
              "      <td>19651127</td>\n",
              "      <td>141297</td>\n",
              "    </tr>\n",
              "    <tr>\n",
              "      <th>Florida</th>\n",
              "      <td>19552860</td>\n",
              "      <td>170312</td>\n",
              "    </tr>\n",
              "    <tr>\n",
              "      <th>Illinois</th>\n",
              "      <td>12882135</td>\n",
              "      <td>149995</td>\n",
              "    </tr>\n",
              "  </tbody>\n",
              "</table>\n",
              "</div>\n",
              "      <button class=\"colab-df-convert\" onclick=\"convertToInteractive('df-fcde87ad-80ca-4eef-836d-c4dd4ab1ae93')\"\n",
              "              title=\"Convert this dataframe to an interactive table.\"\n",
              "              style=\"display:none;\">\n",
              "        \n",
              "  <svg xmlns=\"http://www.w3.org/2000/svg\" height=\"24px\"viewBox=\"0 0 24 24\"\n",
              "       width=\"24px\">\n",
              "    <path d=\"M0 0h24v24H0V0z\" fill=\"none\"/>\n",
              "    <path d=\"M18.56 5.44l.94 2.06.94-2.06 2.06-.94-2.06-.94-.94-2.06-.94 2.06-2.06.94zm-11 1L8.5 8.5l.94-2.06 2.06-.94-2.06-.94L8.5 2.5l-.94 2.06-2.06.94zm10 10l.94 2.06.94-2.06 2.06-.94-2.06-.94-.94-2.06-.94 2.06-2.06.94z\"/><path d=\"M17.41 7.96l-1.37-1.37c-.4-.4-.92-.59-1.43-.59-.52 0-1.04.2-1.43.59L10.3 9.45l-7.72 7.72c-.78.78-.78 2.05 0 2.83L4 21.41c.39.39.9.59 1.41.59.51 0 1.02-.2 1.41-.59l7.78-7.78 2.81-2.81c.8-.78.8-2.07 0-2.86zM5.41 20L4 18.59l7.72-7.72 1.47 1.35L5.41 20z\"/>\n",
              "  </svg>\n",
              "      </button>\n",
              "      \n",
              "  <style>\n",
              "    .colab-df-container {\n",
              "      display:flex;\n",
              "      flex-wrap:wrap;\n",
              "      gap: 12px;\n",
              "    }\n",
              "\n",
              "    .colab-df-convert {\n",
              "      background-color: #E8F0FE;\n",
              "      border: none;\n",
              "      border-radius: 50%;\n",
              "      cursor: pointer;\n",
              "      display: none;\n",
              "      fill: #1967D2;\n",
              "      height: 32px;\n",
              "      padding: 0 0 0 0;\n",
              "      width: 32px;\n",
              "    }\n",
              "\n",
              "    .colab-df-convert:hover {\n",
              "      background-color: #E2EBFA;\n",
              "      box-shadow: 0px 1px 2px rgba(60, 64, 67, 0.3), 0px 1px 3px 1px rgba(60, 64, 67, 0.15);\n",
              "      fill: #174EA6;\n",
              "    }\n",
              "\n",
              "    [theme=dark] .colab-df-convert {\n",
              "      background-color: #3B4455;\n",
              "      fill: #D2E3FC;\n",
              "    }\n",
              "\n",
              "    [theme=dark] .colab-df-convert:hover {\n",
              "      background-color: #434B5C;\n",
              "      box-shadow: 0px 1px 3px 1px rgba(0, 0, 0, 0.15);\n",
              "      filter: drop-shadow(0px 1px 2px rgba(0, 0, 0, 0.3));\n",
              "      fill: #FFFFFF;\n",
              "    }\n",
              "  </style>\n",
              "\n",
              "      <script>\n",
              "        const buttonEl =\n",
              "          document.querySelector('#df-fcde87ad-80ca-4eef-836d-c4dd4ab1ae93 button.colab-df-convert');\n",
              "        buttonEl.style.display =\n",
              "          google.colab.kernel.accessAllowed ? 'block' : 'none';\n",
              "\n",
              "        async function convertToInteractive(key) {\n",
              "          const element = document.querySelector('#df-fcde87ad-80ca-4eef-836d-c4dd4ab1ae93');\n",
              "          const dataTable =\n",
              "            await google.colab.kernel.invokeFunction('convertToInteractive',\n",
              "                                                     [key], {});\n",
              "          if (!dataTable) return;\n",
              "\n",
              "          const docLinkHtml = 'Like what you see? Visit the ' +\n",
              "            '<a target=\"_blank\" href=https://colab.research.google.com/notebooks/data_table.ipynb>data table notebook</a>'\n",
              "            + ' to learn more about interactive tables.';\n",
              "          element.innerHTML = '';\n",
              "          dataTable['output_type'] = 'display_data';\n",
              "          await google.colab.output.renderOutput(dataTable, element);\n",
              "          const docLink = document.createElement('div');\n",
              "          docLink.innerHTML = docLinkHtml;\n",
              "          element.appendChild(docLink);\n",
              "        }\n",
              "      </script>\n",
              "    </div>\n",
              "  </div>\n",
              "  "
            ]
          },
          "metadata": {},
          "execution_count": 25
        }
      ]
    },
    {
      "cell_type": "code",
      "source": [
        "states.index"
      ],
      "metadata": {
        "colab": {
          "base_uri": "https://localhost:8080/"
        },
        "id": "2VabuOfN5GHL",
        "outputId": "e3c034c8-244f-4b8f-b87b-05d68d00effc"
      },
      "execution_count": null,
      "outputs": [
        {
          "output_type": "execute_result",
          "data": {
            "text/plain": [
              "Index(['California', 'Texas', 'New York', 'Florida', 'Illinois'], dtype='object')"
            ]
          },
          "metadata": {},
          "execution_count": 61
        }
      ]
    },
    {
      "cell_type": "code",
      "source": [
        "states.columns"
      ],
      "metadata": {
        "colab": {
          "base_uri": "https://localhost:8080/"
        },
        "id": "-hBA7w_Z5qRi",
        "outputId": "29f1802c-23cf-4ad5-afd9-1d9fcd4cb50c"
      },
      "execution_count": null,
      "outputs": [
        {
          "output_type": "execute_result",
          "data": {
            "text/plain": [
              "Index(['population', 'area'], dtype='object')"
            ]
          },
          "metadata": {},
          "execution_count": 62
        }
      ]
    },
    {
      "cell_type": "markdown",
      "source": [
        "##DataFrame as specialized dictionary\n"
      ],
      "metadata": {
        "id": "3ZL3CnBF7Bj2"
      }
    },
    {
      "cell_type": "code",
      "source": [
        "# create simple dataframe\n",
        "x = ['Python', 'Pandas']\n",
        "# Calling DataFrame constructor on list\n",
        "df = pd.DataFrame(x)\n",
        "print(df)"
      ],
      "metadata": {
        "colab": {
          "base_uri": "https://localhost:8080/"
        },
        "id": "Cp-2e8t9BBTy",
        "outputId": "312a1f64-5cae-41c4-f9ce-2ea74dacd3bc"
      },
      "execution_count": null,
      "outputs": [
        {
          "output_type": "stream",
          "name": "stdout",
          "text": [
            "        0\n",
            "0  Python\n",
            "1  Pandas\n"
          ]
        }
      ]
    },
    {
      "cell_type": "code",
      "source": [
        "states['area']"
      ],
      "metadata": {
        "colab": {
          "base_uri": "https://localhost:8080/"
        },
        "id": "MUZc3Lcd7JNu",
        "outputId": "6a82a352-53c1-4ccd-fece-c8c5b1edde9e"
      },
      "execution_count": null,
      "outputs": [
        {
          "output_type": "execute_result",
          "data": {
            "text/plain": [
              "California    423967\n",
              "Texas         695662\n",
              "New York      141297\n",
              "Florida       170312\n",
              "Illinois      149995\n",
              "Name: area, dtype: int64"
            ]
          },
          "metadata": {},
          "execution_count": 30
        }
      ]
    },
    {
      "cell_type": "code",
      "source": [
        "pd.DataFrame(population, columns=['population']) #A DataFrame is a collection of Series objects, and a singlecolumn\n",
        "#DataFrame can be constructed from a single Series"
      ],
      "metadata": {
        "colab": {
          "base_uri": "https://localhost:8080/",
          "height": 206
        },
        "id": "UKDjkyiT7f_n",
        "outputId": "7911b727-8d1d-42b5-ece2-d5922bd920af"
      },
      "execution_count": null,
      "outputs": [
        {
          "output_type": "execute_result",
          "data": {
            "text/plain": [
              "            population\n",
              "California    38332521\n",
              "Texas         26448193\n",
              "New York      19651127\n",
              "Florida       19552860\n",
              "Illinois      12882135"
            ],
            "text/html": [
              "\n",
              "  <div id=\"df-e81b8f5e-9970-492d-9952-1770198fb731\">\n",
              "    <div class=\"colab-df-container\">\n",
              "      <div>\n",
              "<style scoped>\n",
              "    .dataframe tbody tr th:only-of-type {\n",
              "        vertical-align: middle;\n",
              "    }\n",
              "\n",
              "    .dataframe tbody tr th {\n",
              "        vertical-align: top;\n",
              "    }\n",
              "\n",
              "    .dataframe thead th {\n",
              "        text-align: right;\n",
              "    }\n",
              "</style>\n",
              "<table border=\"1\" class=\"dataframe\">\n",
              "  <thead>\n",
              "    <tr style=\"text-align: right;\">\n",
              "      <th></th>\n",
              "      <th>population</th>\n",
              "    </tr>\n",
              "  </thead>\n",
              "  <tbody>\n",
              "    <tr>\n",
              "      <th>California</th>\n",
              "      <td>38332521</td>\n",
              "    </tr>\n",
              "    <tr>\n",
              "      <th>Texas</th>\n",
              "      <td>26448193</td>\n",
              "    </tr>\n",
              "    <tr>\n",
              "      <th>New York</th>\n",
              "      <td>19651127</td>\n",
              "    </tr>\n",
              "    <tr>\n",
              "      <th>Florida</th>\n",
              "      <td>19552860</td>\n",
              "    </tr>\n",
              "    <tr>\n",
              "      <th>Illinois</th>\n",
              "      <td>12882135</td>\n",
              "    </tr>\n",
              "  </tbody>\n",
              "</table>\n",
              "</div>\n",
              "      <button class=\"colab-df-convert\" onclick=\"convertToInteractive('df-e81b8f5e-9970-492d-9952-1770198fb731')\"\n",
              "              title=\"Convert this dataframe to an interactive table.\"\n",
              "              style=\"display:none;\">\n",
              "        \n",
              "  <svg xmlns=\"http://www.w3.org/2000/svg\" height=\"24px\"viewBox=\"0 0 24 24\"\n",
              "       width=\"24px\">\n",
              "    <path d=\"M0 0h24v24H0V0z\" fill=\"none\"/>\n",
              "    <path d=\"M18.56 5.44l.94 2.06.94-2.06 2.06-.94-2.06-.94-.94-2.06-.94 2.06-2.06.94zm-11 1L8.5 8.5l.94-2.06 2.06-.94-2.06-.94L8.5 2.5l-.94 2.06-2.06.94zm10 10l.94 2.06.94-2.06 2.06-.94-2.06-.94-.94-2.06-.94 2.06-2.06.94z\"/><path d=\"M17.41 7.96l-1.37-1.37c-.4-.4-.92-.59-1.43-.59-.52 0-1.04.2-1.43.59L10.3 9.45l-7.72 7.72c-.78.78-.78 2.05 0 2.83L4 21.41c.39.39.9.59 1.41.59.51 0 1.02-.2 1.41-.59l7.78-7.78 2.81-2.81c.8-.78.8-2.07 0-2.86zM5.41 20L4 18.59l7.72-7.72 1.47 1.35L5.41 20z\"/>\n",
              "  </svg>\n",
              "      </button>\n",
              "      \n",
              "  <style>\n",
              "    .colab-df-container {\n",
              "      display:flex;\n",
              "      flex-wrap:wrap;\n",
              "      gap: 12px;\n",
              "    }\n",
              "\n",
              "    .colab-df-convert {\n",
              "      background-color: #E8F0FE;\n",
              "      border: none;\n",
              "      border-radius: 50%;\n",
              "      cursor: pointer;\n",
              "      display: none;\n",
              "      fill: #1967D2;\n",
              "      height: 32px;\n",
              "      padding: 0 0 0 0;\n",
              "      width: 32px;\n",
              "    }\n",
              "\n",
              "    .colab-df-convert:hover {\n",
              "      background-color: #E2EBFA;\n",
              "      box-shadow: 0px 1px 2px rgba(60, 64, 67, 0.3), 0px 1px 3px 1px rgba(60, 64, 67, 0.15);\n",
              "      fill: #174EA6;\n",
              "    }\n",
              "\n",
              "    [theme=dark] .colab-df-convert {\n",
              "      background-color: #3B4455;\n",
              "      fill: #D2E3FC;\n",
              "    }\n",
              "\n",
              "    [theme=dark] .colab-df-convert:hover {\n",
              "      background-color: #434B5C;\n",
              "      box-shadow: 0px 1px 3px 1px rgba(0, 0, 0, 0.15);\n",
              "      filter: drop-shadow(0px 1px 2px rgba(0, 0, 0, 0.3));\n",
              "      fill: #FFFFFF;\n",
              "    }\n",
              "  </style>\n",
              "\n",
              "      <script>\n",
              "        const buttonEl =\n",
              "          document.querySelector('#df-e81b8f5e-9970-492d-9952-1770198fb731 button.colab-df-convert');\n",
              "        buttonEl.style.display =\n",
              "          google.colab.kernel.accessAllowed ? 'block' : 'none';\n",
              "\n",
              "        async function convertToInteractive(key) {\n",
              "          const element = document.querySelector('#df-e81b8f5e-9970-492d-9952-1770198fb731');\n",
              "          const dataTable =\n",
              "            await google.colab.kernel.invokeFunction('convertToInteractive',\n",
              "                                                     [key], {});\n",
              "          if (!dataTable) return;\n",
              "\n",
              "          const docLinkHtml = 'Like what you see? Visit the ' +\n",
              "            '<a target=\"_blank\" href=https://colab.research.google.com/notebooks/data_table.ipynb>data table notebook</a>'\n",
              "            + ' to learn more about interactive tables.';\n",
              "          element.innerHTML = '';\n",
              "          dataTable['output_type'] = 'display_data';\n",
              "          await google.colab.output.renderOutput(dataTable, element);\n",
              "          const docLink = document.createElement('div');\n",
              "          docLink.innerHTML = docLinkHtml;\n",
              "          element.appendChild(docLink);\n",
              "        }\n",
              "      </script>\n",
              "    </div>\n",
              "  </div>\n",
              "  "
            ]
          },
          "metadata": {},
          "execution_count": 31
        }
      ]
    },
    {
      "cell_type": "code",
      "source": [
        "data = [{'a': i, 'b': 2 * i} # Any list of dictionaries can be made into a DataFrame. We’ll use a\n",
        "#simple list comprehension to create some data:\n",
        "for i in range(3)]\n",
        "pd.DataFrame(data)"
      ],
      "metadata": {
        "colab": {
          "base_uri": "https://localhost:8080/",
          "height": 143
        },
        "id": "FyYfMWwD7xTC",
        "outputId": "d34a2352-9d9e-4b88-b32d-d4738898300b"
      },
      "execution_count": null,
      "outputs": [
        {
          "output_type": "execute_result",
          "data": {
            "text/plain": [
              "   a  b\n",
              "0  0  0\n",
              "1  1  2\n",
              "2  2  4"
            ],
            "text/html": [
              "\n",
              "  <div id=\"df-9b2049a7-6dac-4631-9bf9-18439c56b951\">\n",
              "    <div class=\"colab-df-container\">\n",
              "      <div>\n",
              "<style scoped>\n",
              "    .dataframe tbody tr th:only-of-type {\n",
              "        vertical-align: middle;\n",
              "    }\n",
              "\n",
              "    .dataframe tbody tr th {\n",
              "        vertical-align: top;\n",
              "    }\n",
              "\n",
              "    .dataframe thead th {\n",
              "        text-align: right;\n",
              "    }\n",
              "</style>\n",
              "<table border=\"1\" class=\"dataframe\">\n",
              "  <thead>\n",
              "    <tr style=\"text-align: right;\">\n",
              "      <th></th>\n",
              "      <th>a</th>\n",
              "      <th>b</th>\n",
              "    </tr>\n",
              "  </thead>\n",
              "  <tbody>\n",
              "    <tr>\n",
              "      <th>0</th>\n",
              "      <td>0</td>\n",
              "      <td>0</td>\n",
              "    </tr>\n",
              "    <tr>\n",
              "      <th>1</th>\n",
              "      <td>1</td>\n",
              "      <td>2</td>\n",
              "    </tr>\n",
              "    <tr>\n",
              "      <th>2</th>\n",
              "      <td>2</td>\n",
              "      <td>4</td>\n",
              "    </tr>\n",
              "  </tbody>\n",
              "</table>\n",
              "</div>\n",
              "      <button class=\"colab-df-convert\" onclick=\"convertToInteractive('df-9b2049a7-6dac-4631-9bf9-18439c56b951')\"\n",
              "              title=\"Convert this dataframe to an interactive table.\"\n",
              "              style=\"display:none;\">\n",
              "        \n",
              "  <svg xmlns=\"http://www.w3.org/2000/svg\" height=\"24px\"viewBox=\"0 0 24 24\"\n",
              "       width=\"24px\">\n",
              "    <path d=\"M0 0h24v24H0V0z\" fill=\"none\"/>\n",
              "    <path d=\"M18.56 5.44l.94 2.06.94-2.06 2.06-.94-2.06-.94-.94-2.06-.94 2.06-2.06.94zm-11 1L8.5 8.5l.94-2.06 2.06-.94-2.06-.94L8.5 2.5l-.94 2.06-2.06.94zm10 10l.94 2.06.94-2.06 2.06-.94-2.06-.94-.94-2.06-.94 2.06-2.06.94z\"/><path d=\"M17.41 7.96l-1.37-1.37c-.4-.4-.92-.59-1.43-.59-.52 0-1.04.2-1.43.59L10.3 9.45l-7.72 7.72c-.78.78-.78 2.05 0 2.83L4 21.41c.39.39.9.59 1.41.59.51 0 1.02-.2 1.41-.59l7.78-7.78 2.81-2.81c.8-.78.8-2.07 0-2.86zM5.41 20L4 18.59l7.72-7.72 1.47 1.35L5.41 20z\"/>\n",
              "  </svg>\n",
              "      </button>\n",
              "      \n",
              "  <style>\n",
              "    .colab-df-container {\n",
              "      display:flex;\n",
              "      flex-wrap:wrap;\n",
              "      gap: 12px;\n",
              "    }\n",
              "\n",
              "    .colab-df-convert {\n",
              "      background-color: #E8F0FE;\n",
              "      border: none;\n",
              "      border-radius: 50%;\n",
              "      cursor: pointer;\n",
              "      display: none;\n",
              "      fill: #1967D2;\n",
              "      height: 32px;\n",
              "      padding: 0 0 0 0;\n",
              "      width: 32px;\n",
              "    }\n",
              "\n",
              "    .colab-df-convert:hover {\n",
              "      background-color: #E2EBFA;\n",
              "      box-shadow: 0px 1px 2px rgba(60, 64, 67, 0.3), 0px 1px 3px 1px rgba(60, 64, 67, 0.15);\n",
              "      fill: #174EA6;\n",
              "    }\n",
              "\n",
              "    [theme=dark] .colab-df-convert {\n",
              "      background-color: #3B4455;\n",
              "      fill: #D2E3FC;\n",
              "    }\n",
              "\n",
              "    [theme=dark] .colab-df-convert:hover {\n",
              "      background-color: #434B5C;\n",
              "      box-shadow: 0px 1px 3px 1px rgba(0, 0, 0, 0.15);\n",
              "      filter: drop-shadow(0px 1px 2px rgba(0, 0, 0, 0.3));\n",
              "      fill: #FFFFFF;\n",
              "    }\n",
              "  </style>\n",
              "\n",
              "      <script>\n",
              "        const buttonEl =\n",
              "          document.querySelector('#df-9b2049a7-6dac-4631-9bf9-18439c56b951 button.colab-df-convert');\n",
              "        buttonEl.style.display =\n",
              "          google.colab.kernel.accessAllowed ? 'block' : 'none';\n",
              "\n",
              "        async function convertToInteractive(key) {\n",
              "          const element = document.querySelector('#df-9b2049a7-6dac-4631-9bf9-18439c56b951');\n",
              "          const dataTable =\n",
              "            await google.colab.kernel.invokeFunction('convertToInteractive',\n",
              "                                                     [key], {});\n",
              "          if (!dataTable) return;\n",
              "\n",
              "          const docLinkHtml = 'Like what you see? Visit the ' +\n",
              "            '<a target=\"_blank\" href=https://colab.research.google.com/notebooks/data_table.ipynb>data table notebook</a>'\n",
              "            + ' to learn more about interactive tables.';\n",
              "          element.innerHTML = '';\n",
              "          dataTable['output_type'] = 'display_data';\n",
              "          await google.colab.output.renderOutput(dataTable, element);\n",
              "          const docLink = document.createElement('div');\n",
              "          docLink.innerHTML = docLinkHtml;\n",
              "          element.appendChild(docLink);\n",
              "        }\n",
              "      </script>\n",
              "    </div>\n",
              "  </div>\n",
              "  "
            ]
          },
          "metadata": {},
          "execution_count": 33
        }
      ]
    },
    {
      "cell_type": "code",
      "source": [
        "pd.DataFrame([{'a': 1, 'b': 2}, {'b': 3, 'c': 4}]) #Pandas will fill them in with NaN (i.e., #“not a number”)"
      ],
      "metadata": {
        "colab": {
          "base_uri": "https://localhost:8080/",
          "height": 112
        },
        "id": "u-uqPspA8cdK",
        "outputId": "158cc21c-b33d-433a-f24b-32371a418682"
      },
      "execution_count": null,
      "outputs": [
        {
          "output_type": "execute_result",
          "data": {
            "text/plain": [
              "     a  b    c\n",
              "0  1.0  2  NaN\n",
              "1  NaN  3  4.0"
            ],
            "text/html": [
              "\n",
              "  <div id=\"df-f7af5935-3858-4d79-b94a-1ba3b52b0451\">\n",
              "    <div class=\"colab-df-container\">\n",
              "      <div>\n",
              "<style scoped>\n",
              "    .dataframe tbody tr th:only-of-type {\n",
              "        vertical-align: middle;\n",
              "    }\n",
              "\n",
              "    .dataframe tbody tr th {\n",
              "        vertical-align: top;\n",
              "    }\n",
              "\n",
              "    .dataframe thead th {\n",
              "        text-align: right;\n",
              "    }\n",
              "</style>\n",
              "<table border=\"1\" class=\"dataframe\">\n",
              "  <thead>\n",
              "    <tr style=\"text-align: right;\">\n",
              "      <th></th>\n",
              "      <th>a</th>\n",
              "      <th>b</th>\n",
              "      <th>c</th>\n",
              "    </tr>\n",
              "  </thead>\n",
              "  <tbody>\n",
              "    <tr>\n",
              "      <th>0</th>\n",
              "      <td>1.0</td>\n",
              "      <td>2</td>\n",
              "      <td>NaN</td>\n",
              "    </tr>\n",
              "    <tr>\n",
              "      <th>1</th>\n",
              "      <td>NaN</td>\n",
              "      <td>3</td>\n",
              "      <td>4.0</td>\n",
              "    </tr>\n",
              "  </tbody>\n",
              "</table>\n",
              "</div>\n",
              "      <button class=\"colab-df-convert\" onclick=\"convertToInteractive('df-f7af5935-3858-4d79-b94a-1ba3b52b0451')\"\n",
              "              title=\"Convert this dataframe to an interactive table.\"\n",
              "              style=\"display:none;\">\n",
              "        \n",
              "  <svg xmlns=\"http://www.w3.org/2000/svg\" height=\"24px\"viewBox=\"0 0 24 24\"\n",
              "       width=\"24px\">\n",
              "    <path d=\"M0 0h24v24H0V0z\" fill=\"none\"/>\n",
              "    <path d=\"M18.56 5.44l.94 2.06.94-2.06 2.06-.94-2.06-.94-.94-2.06-.94 2.06-2.06.94zm-11 1L8.5 8.5l.94-2.06 2.06-.94-2.06-.94L8.5 2.5l-.94 2.06-2.06.94zm10 10l.94 2.06.94-2.06 2.06-.94-2.06-.94-.94-2.06-.94 2.06-2.06.94z\"/><path d=\"M17.41 7.96l-1.37-1.37c-.4-.4-.92-.59-1.43-.59-.52 0-1.04.2-1.43.59L10.3 9.45l-7.72 7.72c-.78.78-.78 2.05 0 2.83L4 21.41c.39.39.9.59 1.41.59.51 0 1.02-.2 1.41-.59l7.78-7.78 2.81-2.81c.8-.78.8-2.07 0-2.86zM5.41 20L4 18.59l7.72-7.72 1.47 1.35L5.41 20z\"/>\n",
              "  </svg>\n",
              "      </button>\n",
              "      \n",
              "  <style>\n",
              "    .colab-df-container {\n",
              "      display:flex;\n",
              "      flex-wrap:wrap;\n",
              "      gap: 12px;\n",
              "    }\n",
              "\n",
              "    .colab-df-convert {\n",
              "      background-color: #E8F0FE;\n",
              "      border: none;\n",
              "      border-radius: 50%;\n",
              "      cursor: pointer;\n",
              "      display: none;\n",
              "      fill: #1967D2;\n",
              "      height: 32px;\n",
              "      padding: 0 0 0 0;\n",
              "      width: 32px;\n",
              "    }\n",
              "\n",
              "    .colab-df-convert:hover {\n",
              "      background-color: #E2EBFA;\n",
              "      box-shadow: 0px 1px 2px rgba(60, 64, 67, 0.3), 0px 1px 3px 1px rgba(60, 64, 67, 0.15);\n",
              "      fill: #174EA6;\n",
              "    }\n",
              "\n",
              "    [theme=dark] .colab-df-convert {\n",
              "      background-color: #3B4455;\n",
              "      fill: #D2E3FC;\n",
              "    }\n",
              "\n",
              "    [theme=dark] .colab-df-convert:hover {\n",
              "      background-color: #434B5C;\n",
              "      box-shadow: 0px 1px 3px 1px rgba(0, 0, 0, 0.15);\n",
              "      filter: drop-shadow(0px 1px 2px rgba(0, 0, 0, 0.3));\n",
              "      fill: #FFFFFF;\n",
              "    }\n",
              "  </style>\n",
              "\n",
              "      <script>\n",
              "        const buttonEl =\n",
              "          document.querySelector('#df-f7af5935-3858-4d79-b94a-1ba3b52b0451 button.colab-df-convert');\n",
              "        buttonEl.style.display =\n",
              "          google.colab.kernel.accessAllowed ? 'block' : 'none';\n",
              "\n",
              "        async function convertToInteractive(key) {\n",
              "          const element = document.querySelector('#df-f7af5935-3858-4d79-b94a-1ba3b52b0451');\n",
              "          const dataTable =\n",
              "            await google.colab.kernel.invokeFunction('convertToInteractive',\n",
              "                                                     [key], {});\n",
              "          if (!dataTable) return;\n",
              "\n",
              "          const docLinkHtml = 'Like what you see? Visit the ' +\n",
              "            '<a target=\"_blank\" href=https://colab.research.google.com/notebooks/data_table.ipynb>data table notebook</a>'\n",
              "            + ' to learn more about interactive tables.';\n",
              "          element.innerHTML = '';\n",
              "          dataTable['output_type'] = 'display_data';\n",
              "          await google.colab.output.renderOutput(dataTable, element);\n",
              "          const docLink = document.createElement('div');\n",
              "          docLink.innerHTML = docLinkHtml;\n",
              "          element.appendChild(docLink);\n",
              "        }\n",
              "      </script>\n",
              "    </div>\n",
              "  </div>\n",
              "  "
            ]
          },
          "metadata": {},
          "execution_count": 35
        }
      ]
    },
    {
      "cell_type": "code",
      "source": [
        "pd.DataFrame(np.random.rand(3, 2),columns=['foo', 'bar'],index=['a', 'b', 'c'])\n",
        "#create a DataFrame with any specified column and index names"
      ],
      "metadata": {
        "colab": {
          "base_uri": "https://localhost:8080/",
          "height": 143
        },
        "id": "zssK2g0ZBHzT",
        "outputId": "ffd5c4f9-8aef-4ee3-f2d0-678637eebf82"
      },
      "execution_count": null,
      "outputs": [
        {
          "output_type": "execute_result",
          "data": {
            "text/plain": [
              "        foo       bar\n",
              "a  0.008710  0.340650\n",
              "b  0.562638  0.512012\n",
              "c  0.656258  0.157982"
            ],
            "text/html": [
              "\n",
              "  <div id=\"df-bb9cf9dc-74aa-43a7-a798-af8cad908a1d\">\n",
              "    <div class=\"colab-df-container\">\n",
              "      <div>\n",
              "<style scoped>\n",
              "    .dataframe tbody tr th:only-of-type {\n",
              "        vertical-align: middle;\n",
              "    }\n",
              "\n",
              "    .dataframe tbody tr th {\n",
              "        vertical-align: top;\n",
              "    }\n",
              "\n",
              "    .dataframe thead th {\n",
              "        text-align: right;\n",
              "    }\n",
              "</style>\n",
              "<table border=\"1\" class=\"dataframe\">\n",
              "  <thead>\n",
              "    <tr style=\"text-align: right;\">\n",
              "      <th></th>\n",
              "      <th>foo</th>\n",
              "      <th>bar</th>\n",
              "    </tr>\n",
              "  </thead>\n",
              "  <tbody>\n",
              "    <tr>\n",
              "      <th>a</th>\n",
              "      <td>0.008710</td>\n",
              "      <td>0.340650</td>\n",
              "    </tr>\n",
              "    <tr>\n",
              "      <th>b</th>\n",
              "      <td>0.562638</td>\n",
              "      <td>0.512012</td>\n",
              "    </tr>\n",
              "    <tr>\n",
              "      <th>c</th>\n",
              "      <td>0.656258</td>\n",
              "      <td>0.157982</td>\n",
              "    </tr>\n",
              "  </tbody>\n",
              "</table>\n",
              "</div>\n",
              "      <button class=\"colab-df-convert\" onclick=\"convertToInteractive('df-bb9cf9dc-74aa-43a7-a798-af8cad908a1d')\"\n",
              "              title=\"Convert this dataframe to an interactive table.\"\n",
              "              style=\"display:none;\">\n",
              "        \n",
              "  <svg xmlns=\"http://www.w3.org/2000/svg\" height=\"24px\"viewBox=\"0 0 24 24\"\n",
              "       width=\"24px\">\n",
              "    <path d=\"M0 0h24v24H0V0z\" fill=\"none\"/>\n",
              "    <path d=\"M18.56 5.44l.94 2.06.94-2.06 2.06-.94-2.06-.94-.94-2.06-.94 2.06-2.06.94zm-11 1L8.5 8.5l.94-2.06 2.06-.94-2.06-.94L8.5 2.5l-.94 2.06-2.06.94zm10 10l.94 2.06.94-2.06 2.06-.94-2.06-.94-.94-2.06-.94 2.06-2.06.94z\"/><path d=\"M17.41 7.96l-1.37-1.37c-.4-.4-.92-.59-1.43-.59-.52 0-1.04.2-1.43.59L10.3 9.45l-7.72 7.72c-.78.78-.78 2.05 0 2.83L4 21.41c.39.39.9.59 1.41.59.51 0 1.02-.2 1.41-.59l7.78-7.78 2.81-2.81c.8-.78.8-2.07 0-2.86zM5.41 20L4 18.59l7.72-7.72 1.47 1.35L5.41 20z\"/>\n",
              "  </svg>\n",
              "      </button>\n",
              "      \n",
              "  <style>\n",
              "    .colab-df-container {\n",
              "      display:flex;\n",
              "      flex-wrap:wrap;\n",
              "      gap: 12px;\n",
              "    }\n",
              "\n",
              "    .colab-df-convert {\n",
              "      background-color: #E8F0FE;\n",
              "      border: none;\n",
              "      border-radius: 50%;\n",
              "      cursor: pointer;\n",
              "      display: none;\n",
              "      fill: #1967D2;\n",
              "      height: 32px;\n",
              "      padding: 0 0 0 0;\n",
              "      width: 32px;\n",
              "    }\n",
              "\n",
              "    .colab-df-convert:hover {\n",
              "      background-color: #E2EBFA;\n",
              "      box-shadow: 0px 1px 2px rgba(60, 64, 67, 0.3), 0px 1px 3px 1px rgba(60, 64, 67, 0.15);\n",
              "      fill: #174EA6;\n",
              "    }\n",
              "\n",
              "    [theme=dark] .colab-df-convert {\n",
              "      background-color: #3B4455;\n",
              "      fill: #D2E3FC;\n",
              "    }\n",
              "\n",
              "    [theme=dark] .colab-df-convert:hover {\n",
              "      background-color: #434B5C;\n",
              "      box-shadow: 0px 1px 3px 1px rgba(0, 0, 0, 0.15);\n",
              "      filter: drop-shadow(0px 1px 2px rgba(0, 0, 0, 0.3));\n",
              "      fill: #FFFFFF;\n",
              "    }\n",
              "  </style>\n",
              "\n",
              "      <script>\n",
              "        const buttonEl =\n",
              "          document.querySelector('#df-bb9cf9dc-74aa-43a7-a798-af8cad908a1d button.colab-df-convert');\n",
              "        buttonEl.style.display =\n",
              "          google.colab.kernel.accessAllowed ? 'block' : 'none';\n",
              "\n",
              "        async function convertToInteractive(key) {\n",
              "          const element = document.querySelector('#df-bb9cf9dc-74aa-43a7-a798-af8cad908a1d');\n",
              "          const dataTable =\n",
              "            await google.colab.kernel.invokeFunction('convertToInteractive',\n",
              "                                                     [key], {});\n",
              "          if (!dataTable) return;\n",
              "\n",
              "          const docLinkHtml = 'Like what you see? Visit the ' +\n",
              "            '<a target=\"_blank\" href=https://colab.research.google.com/notebooks/data_table.ipynb>data table notebook</a>'\n",
              "            + ' to learn more about interactive tables.';\n",
              "          element.innerHTML = '';\n",
              "          dataTable['output_type'] = 'display_data';\n",
              "          await google.colab.output.renderOutput(dataTable, element);\n",
              "          const docLink = document.createElement('div');\n",
              "          docLink.innerHTML = docLinkHtml;\n",
              "          element.appendChild(docLink);\n",
              "        }\n",
              "      </script>\n",
              "    </div>\n",
              "  </div>\n",
              "  "
            ]
          },
          "metadata": {},
          "execution_count": 36
        }
      ]
    },
    {
      "cell_type": "code",
      "source": [
        "A = np.zeros(3, dtype=[('A', 'i8'), ('B', 'f8')]) # from numpy array we can create dataframe\n",
        "A"
      ],
      "metadata": {
        "colab": {
          "base_uri": "https://localhost:8080/"
        },
        "id": "Gj71FkQWBddS",
        "outputId": "8b4bd7cc-ec8f-4468-fcff-e3058ac07a42"
      },
      "execution_count": null,
      "outputs": [
        {
          "output_type": "execute_result",
          "data": {
            "text/plain": [
              "array([(0, 0.), (0, 0.), (0, 0.)], dtype=[('A', '<i8'), ('B', '<f8')])"
            ]
          },
          "metadata": {},
          "execution_count": 37
        }
      ]
    },
    {
      "cell_type": "code",
      "source": [
        "pd.DataFrame(A)"
      ],
      "metadata": {
        "colab": {
          "base_uri": "https://localhost:8080/",
          "height": 143
        },
        "id": "2LRbOQwhBq-B",
        "outputId": "cba985ed-68bb-4353-8150-37b115ffa34b"
      },
      "execution_count": null,
      "outputs": [
        {
          "output_type": "execute_result",
          "data": {
            "text/plain": [
              "   A    B\n",
              "0  0  0.0\n",
              "1  0  0.0\n",
              "2  0  0.0"
            ],
            "text/html": [
              "\n",
              "  <div id=\"df-74324f32-b03f-4ef8-8718-0264c13b750e\">\n",
              "    <div class=\"colab-df-container\">\n",
              "      <div>\n",
              "<style scoped>\n",
              "    .dataframe tbody tr th:only-of-type {\n",
              "        vertical-align: middle;\n",
              "    }\n",
              "\n",
              "    .dataframe tbody tr th {\n",
              "        vertical-align: top;\n",
              "    }\n",
              "\n",
              "    .dataframe thead th {\n",
              "        text-align: right;\n",
              "    }\n",
              "</style>\n",
              "<table border=\"1\" class=\"dataframe\">\n",
              "  <thead>\n",
              "    <tr style=\"text-align: right;\">\n",
              "      <th></th>\n",
              "      <th>A</th>\n",
              "      <th>B</th>\n",
              "    </tr>\n",
              "  </thead>\n",
              "  <tbody>\n",
              "    <tr>\n",
              "      <th>0</th>\n",
              "      <td>0</td>\n",
              "      <td>0.0</td>\n",
              "    </tr>\n",
              "    <tr>\n",
              "      <th>1</th>\n",
              "      <td>0</td>\n",
              "      <td>0.0</td>\n",
              "    </tr>\n",
              "    <tr>\n",
              "      <th>2</th>\n",
              "      <td>0</td>\n",
              "      <td>0.0</td>\n",
              "    </tr>\n",
              "  </tbody>\n",
              "</table>\n",
              "</div>\n",
              "      <button class=\"colab-df-convert\" onclick=\"convertToInteractive('df-74324f32-b03f-4ef8-8718-0264c13b750e')\"\n",
              "              title=\"Convert this dataframe to an interactive table.\"\n",
              "              style=\"display:none;\">\n",
              "        \n",
              "  <svg xmlns=\"http://www.w3.org/2000/svg\" height=\"24px\"viewBox=\"0 0 24 24\"\n",
              "       width=\"24px\">\n",
              "    <path d=\"M0 0h24v24H0V0z\" fill=\"none\"/>\n",
              "    <path d=\"M18.56 5.44l.94 2.06.94-2.06 2.06-.94-2.06-.94-.94-2.06-.94 2.06-2.06.94zm-11 1L8.5 8.5l.94-2.06 2.06-.94-2.06-.94L8.5 2.5l-.94 2.06-2.06.94zm10 10l.94 2.06.94-2.06 2.06-.94-2.06-.94-.94-2.06-.94 2.06-2.06.94z\"/><path d=\"M17.41 7.96l-1.37-1.37c-.4-.4-.92-.59-1.43-.59-.52 0-1.04.2-1.43.59L10.3 9.45l-7.72 7.72c-.78.78-.78 2.05 0 2.83L4 21.41c.39.39.9.59 1.41.59.51 0 1.02-.2 1.41-.59l7.78-7.78 2.81-2.81c.8-.78.8-2.07 0-2.86zM5.41 20L4 18.59l7.72-7.72 1.47 1.35L5.41 20z\"/>\n",
              "  </svg>\n",
              "      </button>\n",
              "      \n",
              "  <style>\n",
              "    .colab-df-container {\n",
              "      display:flex;\n",
              "      flex-wrap:wrap;\n",
              "      gap: 12px;\n",
              "    }\n",
              "\n",
              "    .colab-df-convert {\n",
              "      background-color: #E8F0FE;\n",
              "      border: none;\n",
              "      border-radius: 50%;\n",
              "      cursor: pointer;\n",
              "      display: none;\n",
              "      fill: #1967D2;\n",
              "      height: 32px;\n",
              "      padding: 0 0 0 0;\n",
              "      width: 32px;\n",
              "    }\n",
              "\n",
              "    .colab-df-convert:hover {\n",
              "      background-color: #E2EBFA;\n",
              "      box-shadow: 0px 1px 2px rgba(60, 64, 67, 0.3), 0px 1px 3px 1px rgba(60, 64, 67, 0.15);\n",
              "      fill: #174EA6;\n",
              "    }\n",
              "\n",
              "    [theme=dark] .colab-df-convert {\n",
              "      background-color: #3B4455;\n",
              "      fill: #D2E3FC;\n",
              "    }\n",
              "\n",
              "    [theme=dark] .colab-df-convert:hover {\n",
              "      background-color: #434B5C;\n",
              "      box-shadow: 0px 1px 3px 1px rgba(0, 0, 0, 0.15);\n",
              "      filter: drop-shadow(0px 1px 2px rgba(0, 0, 0, 0.3));\n",
              "      fill: #FFFFFF;\n",
              "    }\n",
              "  </style>\n",
              "\n",
              "      <script>\n",
              "        const buttonEl =\n",
              "          document.querySelector('#df-74324f32-b03f-4ef8-8718-0264c13b750e button.colab-df-convert');\n",
              "        buttonEl.style.display =\n",
              "          google.colab.kernel.accessAllowed ? 'block' : 'none';\n",
              "\n",
              "        async function convertToInteractive(key) {\n",
              "          const element = document.querySelector('#df-74324f32-b03f-4ef8-8718-0264c13b750e');\n",
              "          const dataTable =\n",
              "            await google.colab.kernel.invokeFunction('convertToInteractive',\n",
              "                                                     [key], {});\n",
              "          if (!dataTable) return;\n",
              "\n",
              "          const docLinkHtml = 'Like what you see? Visit the ' +\n",
              "            '<a target=\"_blank\" href=https://colab.research.google.com/notebooks/data_table.ipynb>data table notebook</a>'\n",
              "            + ' to learn more about interactive tables.';\n",
              "          element.innerHTML = '';\n",
              "          dataTable['output_type'] = 'display_data';\n",
              "          await google.colab.output.renderOutput(dataTable, element);\n",
              "          const docLink = document.createElement('div');\n",
              "          docLink.innerHTML = docLinkHtml;\n",
              "          element.appendChild(docLink);\n",
              "        }\n",
              "      </script>\n",
              "    </div>\n",
              "  </div>\n",
              "  "
            ]
          },
          "metadata": {},
          "execution_count": 38
        }
      ]
    },
    {
      "cell_type": "markdown",
      "source": [
        "##The Pandas Index Object"
      ],
      "metadata": {
        "id": "34kq838bCQxd"
      }
    },
    {
      "cell_type": "code",
      "source": [
        "ind = pd.Index([2, 3, 5, 7, 11])\n",
        "ind"
      ],
      "metadata": {
        "colab": {
          "base_uri": "https://localhost:8080/"
        },
        "id": "ffb0gqe1CR_U",
        "outputId": "689cd4bb-ad0d-4856-c9d6-8b4e17b6ba0f"
      },
      "execution_count": null,
      "outputs": [
        {
          "output_type": "execute_result",
          "data": {
            "text/plain": [
              "Int64Index([2, 3, 5, 7, 11], dtype='int64')"
            ]
          },
          "metadata": {},
          "execution_count": 39
        }
      ]
    },
    {
      "cell_type": "code",
      "source": [
        "ind[1]  # Index as immutable array"
      ],
      "metadata": {
        "colab": {
          "base_uri": "https://localhost:8080/"
        },
        "id": "EKEL_UXWCUZX",
        "outputId": "36d2519a-5fae-4ef5-8c21-95b34cda5606"
      },
      "execution_count": null,
      "outputs": [
        {
          "output_type": "execute_result",
          "data": {
            "text/plain": [
              "3"
            ]
          },
          "metadata": {},
          "execution_count": 40
        }
      ]
    },
    {
      "cell_type": "code",
      "source": [
        "ind[::2]"
      ],
      "metadata": {
        "colab": {
          "base_uri": "https://localhost:8080/"
        },
        "id": "kypvfwErCaHt",
        "outputId": "cb1ca128-1bdc-425f-c7b2-fb648fc6fc85"
      },
      "execution_count": null,
      "outputs": [
        {
          "output_type": "execute_result",
          "data": {
            "text/plain": [
              "Int64Index([2, 5, 11], dtype='int64')"
            ]
          },
          "metadata": {},
          "execution_count": 41
        }
      ]
    },
    {
      "cell_type": "code",
      "source": [
        "print(ind.size, ind.shape, ind.ndim, ind.dtype)"
      ],
      "metadata": {
        "colab": {
          "base_uri": "https://localhost:8080/"
        },
        "id": "tvADva1NCcAH",
        "outputId": "b89cc07d-d0f1-48c8-a100-e151e6888f8e"
      },
      "execution_count": null,
      "outputs": [
        {
          "output_type": "stream",
          "name": "stdout",
          "text": [
            "5 (5,) 1 int64\n"
          ]
        }
      ]
    },
    {
      "cell_type": "markdown",
      "source": [
        "###Index as ordered set"
      ],
      "metadata": {
        "id": "0McKk5exC2-S"
      }
    },
    {
      "cell_type": "code",
      "source": [
        "indA = pd.Index([1, 3, 5, 7, 9])\n",
        "indB = pd.Index([2, 3, 5, 7, 11])"
      ],
      "metadata": {
        "id": "BTXZOrEeC39s"
      },
      "execution_count": null,
      "outputs": []
    },
    {
      "cell_type": "code",
      "source": [
        "indA & indB # intersection"
      ],
      "metadata": {
        "colab": {
          "base_uri": "https://localhost:8080/"
        },
        "id": "m2dxzbSgC6Tv",
        "outputId": "cfafc8fc-e12d-4124-bbeb-eb0101de52bb"
      },
      "execution_count": null,
      "outputs": [
        {
          "output_type": "stream",
          "name": "stderr",
          "text": [
            "<ipython-input-44-f400ec9c4e08>:1: FutureWarning: Index.__and__ operating as a set operation is deprecated, in the future this will be a logical operation matching Series.__and__.  Use index.intersection(other) instead\n",
            "  indA & indB # intersection\n"
          ]
        },
        {
          "output_type": "execute_result",
          "data": {
            "text/plain": [
              "Int64Index([3, 5, 7], dtype='int64')"
            ]
          },
          "metadata": {},
          "execution_count": 44
        }
      ]
    },
    {
      "cell_type": "code",
      "source": [
        "indA | indB # union"
      ],
      "metadata": {
        "colab": {
          "base_uri": "https://localhost:8080/"
        },
        "id": "QnhdX9-cC_7A",
        "outputId": "878b2f98-04de-4974-df93-3ff1899d0d9e"
      },
      "execution_count": null,
      "outputs": [
        {
          "output_type": "stream",
          "name": "stderr",
          "text": [
            "<ipython-input-45-0a17b8447828>:1: FutureWarning: Index.__or__ operating as a set operation is deprecated, in the future this will be a logical operation matching Series.__or__.  Use index.union(other) instead\n",
            "  indA | indB # union\n"
          ]
        },
        {
          "output_type": "execute_result",
          "data": {
            "text/plain": [
              "Int64Index([1, 2, 3, 5, 7, 9, 11], dtype='int64')"
            ]
          },
          "metadata": {},
          "execution_count": 45
        }
      ]
    },
    {
      "cell_type": "code",
      "source": [
        "indA ^ indB # symmetric difference"
      ],
      "metadata": {
        "colab": {
          "base_uri": "https://localhost:8080/"
        },
        "id": "j7q8XqoFDFD7",
        "outputId": "94c88c32-f3fb-414d-bc4d-a7547ce46ec1"
      },
      "execution_count": null,
      "outputs": [
        {
          "output_type": "stream",
          "name": "stderr",
          "text": [
            "<ipython-input-46-aebc1839486a>:1: FutureWarning: Index.__xor__ operating as a set operation is deprecated, in the future this will be a logical operation matching Series.__xor__.  Use index.symmetric_difference(other) instead\n",
            "  indA ^ indB # symmetric difference\n"
          ]
        },
        {
          "output_type": "execute_result",
          "data": {
            "text/plain": [
              "Int64Index([1, 2, 9, 11], dtype='int64')"
            ]
          },
          "metadata": {},
          "execution_count": 46
        }
      ]
    },
    {
      "cell_type": "markdown",
      "source": [
        "###Data Selection in Series"
      ],
      "metadata": {
        "id": "BchaqA4cDWF7"
      }
    },
    {
      "cell_type": "code",
      "source": [
        "import pandas as pd\n",
        "data = pd.Series([0.25, 0.5, 0.75, 1.0],index=['a', 'b', 'c', 'd'])\n",
        "data"
      ],
      "metadata": {
        "colab": {
          "base_uri": "https://localhost:8080/"
        },
        "id": "KPBVAqhCDXBL",
        "outputId": "2288b458-21b3-4ef0-b537-a8baddefa049"
      },
      "execution_count": null,
      "outputs": [
        {
          "output_type": "execute_result",
          "data": {
            "text/plain": [
              "a    0.25\n",
              "b    0.50\n",
              "c    0.75\n",
              "d    1.00\n",
              "dtype: float64"
            ]
          },
          "metadata": {},
          "execution_count": 47
        }
      ]
    },
    {
      "cell_type": "code",
      "source": [
        "data['b']"
      ],
      "metadata": {
        "colab": {
          "base_uri": "https://localhost:8080/"
        },
        "id": "Mh_VXxx_DaEd",
        "outputId": "0c1f663a-cb80-48cd-94a0-a3e485ac5d04"
      },
      "execution_count": null,
      "outputs": [
        {
          "output_type": "execute_result",
          "data": {
            "text/plain": [
              "0.5"
            ]
          },
          "metadata": {},
          "execution_count": 48
        }
      ]
    },
    {
      "cell_type": "code",
      "source": [
        "'a' in data"
      ],
      "metadata": {
        "colab": {
          "base_uri": "https://localhost:8080/"
        },
        "id": "8Vvy6LInDdVW",
        "outputId": "5ac2e4fc-e9c0-41c3-a9aa-24627dcf361d"
      },
      "execution_count": null,
      "outputs": [
        {
          "output_type": "execute_result",
          "data": {
            "text/plain": [
              "True"
            ]
          },
          "metadata": {},
          "execution_count": 49
        }
      ]
    },
    {
      "cell_type": "code",
      "source": [
        "data.keys()"
      ],
      "metadata": {
        "colab": {
          "base_uri": "https://localhost:8080/"
        },
        "id": "3kq_o2RXDfKV",
        "outputId": "e3e8f117-b8d1-43e8-eb90-4757150137ce"
      },
      "execution_count": null,
      "outputs": [
        {
          "output_type": "execute_result",
          "data": {
            "text/plain": [
              "Index(['a', 'b', 'c', 'd'], dtype='object')"
            ]
          },
          "metadata": {},
          "execution_count": 50
        }
      ]
    },
    {
      "cell_type": "code",
      "source": [
        "list(data.items())"
      ],
      "metadata": {
        "colab": {
          "base_uri": "https://localhost:8080/"
        },
        "id": "HryIBwmnDhFW",
        "outputId": "313abb3b-011c-4faa-8eaa-101e9acf2ba1"
      },
      "execution_count": null,
      "outputs": [
        {
          "output_type": "execute_result",
          "data": {
            "text/plain": [
              "[('a', 0.25), ('b', 0.5), ('c', 0.75), ('d', 1.0)]"
            ]
          },
          "metadata": {},
          "execution_count": 51
        }
      ]
    },
    {
      "cell_type": "code",
      "source": [
        "data['e'] = 1.25\n",
        "data\n"
      ],
      "metadata": {
        "colab": {
          "base_uri": "https://localhost:8080/"
        },
        "id": "QA5hvfS1Dn7q",
        "outputId": "43b2b0c2-3cab-4f62-dc2c-5e2099fbf092"
      },
      "execution_count": null,
      "outputs": [
        {
          "output_type": "execute_result",
          "data": {
            "text/plain": [
              "a    0.25\n",
              "b    0.50\n",
              "c    0.75\n",
              "d    1.00\n",
              "e    1.25\n",
              "dtype: float64"
            ]
          },
          "metadata": {},
          "execution_count": 52
        }
      ]
    },
    {
      "cell_type": "markdown",
      "source": [
        "###Series as one-dimensional array"
      ],
      "metadata": {
        "id": "WFPyI6Rr0_e4"
      }
    },
    {
      "cell_type": "code",
      "source": [
        "data"
      ],
      "metadata": {
        "colab": {
          "base_uri": "https://localhost:8080/"
        },
        "id": "61bl43LCHpWA",
        "outputId": "4dd71d09-f6dc-43bc-824b-92a18dd9281c"
      },
      "execution_count": null,
      "outputs": [
        {
          "output_type": "execute_result",
          "data": {
            "text/plain": [
              "0    0.25\n",
              "1    0.50\n",
              "2    0.75\n",
              "3    1.00\n",
              "dtype: float64"
            ]
          },
          "metadata": {},
          "execution_count": 22
        }
      ]
    },
    {
      "cell_type": "code",
      "source": [
        "data['a':'c']"
      ],
      "metadata": {
        "colab": {
          "base_uri": "https://localhost:8080/"
        },
        "id": "L1Us0uuU1A6E",
        "outputId": "585a97a5-0179-4f65-aa12-c8c401577e09"
      },
      "execution_count": null,
      "outputs": [
        {
          "output_type": "execute_result",
          "data": {
            "text/plain": [
              "a    0.25\n",
              "b    0.50\n",
              "c    0.75\n",
              "dtype: float64"
            ]
          },
          "metadata": {},
          "execution_count": 53
        }
      ]
    },
    {
      "cell_type": "code",
      "source": [
        "data[0:2]"
      ],
      "metadata": {
        "colab": {
          "base_uri": "https://localhost:8080/"
        },
        "id": "W6jDNIa41Dlh",
        "outputId": "2454435c-d7b8-4870-ce5c-82bd2d05f3ad"
      },
      "execution_count": null,
      "outputs": [
        {
          "output_type": "execute_result",
          "data": {
            "text/plain": [
              "a    0.25\n",
              "b    0.50\n",
              "dtype: float64"
            ]
          },
          "metadata": {},
          "execution_count": 54
        }
      ]
    },
    {
      "cell_type": "code",
      "source": [
        "data[(data > 0.3) & (data < 0.8)]"
      ],
      "metadata": {
        "colab": {
          "base_uri": "https://localhost:8080/"
        },
        "id": "m9IROU7n1GkK",
        "outputId": "39542da6-5973-4bb7-db12-2f61cb347ff4"
      },
      "execution_count": null,
      "outputs": [
        {
          "output_type": "execute_result",
          "data": {
            "text/plain": [
              "b    0.50\n",
              "c    0.75\n",
              "dtype: float64"
            ]
          },
          "metadata": {},
          "execution_count": 55
        }
      ]
    },
    {
      "cell_type": "code",
      "source": [
        "data[['a', 'e']]"
      ],
      "metadata": {
        "colab": {
          "base_uri": "https://localhost:8080/"
        },
        "id": "E2u-CC151Jhw",
        "outputId": "db0f167b-7a12-4440-bff9-9ff052be68b1"
      },
      "execution_count": null,
      "outputs": [
        {
          "output_type": "execute_result",
          "data": {
            "text/plain": [
              "a    0.25\n",
              "e    1.25\n",
              "dtype: float64"
            ]
          },
          "metadata": {},
          "execution_count": 56
        }
      ]
    },
    {
      "cell_type": "markdown",
      "source": [
        "###Indexers: loc, iloc, and ix"
      ],
      "metadata": {
        "id": "-l453xEU1UJ2"
      }
    },
    {
      "cell_type": "code",
      "source": [
        "data = pd.Series(['a', 'b', 'c'], index=[1, 3, 5])\n",
        "data"
      ],
      "metadata": {
        "colab": {
          "base_uri": "https://localhost:8080/"
        },
        "id": "rSJJJEiT1VHY",
        "outputId": "30ca6da9-b5dc-494b-85f5-fa45b8b28477"
      },
      "execution_count": null,
      "outputs": [
        {
          "output_type": "execute_result",
          "data": {
            "text/plain": [
              "1    a\n",
              "3    b\n",
              "5    c\n",
              "dtype: object"
            ]
          },
          "metadata": {},
          "execution_count": 57
        }
      ]
    },
    {
      "cell_type": "code",
      "source": [
        "data[1]"
      ],
      "metadata": {
        "colab": {
          "base_uri": "https://localhost:8080/",
          "height": 36
        },
        "id": "lVhlRCfB1XBP",
        "outputId": "1d2d51f0-ee10-4966-8db0-b5dcc13964a1"
      },
      "execution_count": null,
      "outputs": [
        {
          "output_type": "execute_result",
          "data": {
            "text/plain": [
              "'a'"
            ],
            "application/vnd.google.colaboratory.intrinsic+json": {
              "type": "string"
            }
          },
          "metadata": {},
          "execution_count": 58
        }
      ]
    },
    {
      "cell_type": "code",
      "source": [
        "data[1:3]"
      ],
      "metadata": {
        "colab": {
          "base_uri": "https://localhost:8080/"
        },
        "id": "iFZnMBJ01alj",
        "outputId": "e3b6056c-8674-42f7-a976-a8c5977a03c6"
      },
      "execution_count": null,
      "outputs": [
        {
          "output_type": "execute_result",
          "data": {
            "text/plain": [
              "3    b\n",
              "5    c\n",
              "dtype: object"
            ]
          },
          "metadata": {},
          "execution_count": 59
        }
      ]
    },
    {
      "cell_type": "code",
      "source": [
        "data.loc[1]"
      ],
      "metadata": {
        "colab": {
          "base_uri": "https://localhost:8080/",
          "height": 36
        },
        "id": "_kFrtrP81eXe",
        "outputId": "842ceb7d-60ce-4bfd-cc30-d5f786a7638e"
      },
      "execution_count": null,
      "outputs": [
        {
          "output_type": "execute_result",
          "data": {
            "text/plain": [
              "'a'"
            ],
            "application/vnd.google.colaboratory.intrinsic+json": {
              "type": "string"
            }
          },
          "metadata": {},
          "execution_count": 60
        }
      ]
    },
    {
      "cell_type": "code",
      "source": [
        "data.loc[1:3]"
      ],
      "metadata": {
        "colab": {
          "base_uri": "https://localhost:8080/"
        },
        "id": "LjaqyDyM1ie6",
        "outputId": "ea0febf5-0648-4554-a336-0ec90ff508fb"
      },
      "execution_count": null,
      "outputs": [
        {
          "output_type": "execute_result",
          "data": {
            "text/plain": [
              "1    a\n",
              "3    b\n",
              "dtype: object"
            ]
          },
          "metadata": {},
          "execution_count": 61
        }
      ]
    },
    {
      "cell_type": "code",
      "source": [
        "data.iloc[2]"
      ],
      "metadata": {
        "colab": {
          "base_uri": "https://localhost:8080/",
          "height": 36
        },
        "id": "FX6svn2o1lqg",
        "outputId": "0f7a5733-ebc2-44eb-c131-208a14176201"
      },
      "execution_count": null,
      "outputs": [
        {
          "output_type": "execute_result",
          "data": {
            "text/plain": [
              "'c'"
            ],
            "application/vnd.google.colaboratory.intrinsic+json": {
              "type": "string"
            }
          },
          "metadata": {},
          "execution_count": 62
        }
      ]
    },
    {
      "cell_type": "code",
      "source": [
        "data.iloc[1:3]"
      ],
      "metadata": {
        "colab": {
          "base_uri": "https://localhost:8080/"
        },
        "id": "b7dOMYMn1t7p",
        "outputId": "684b5ceb-b086-41b2-bc79-5373f12d7dbe"
      },
      "execution_count": null,
      "outputs": [
        {
          "output_type": "execute_result",
          "data": {
            "text/plain": [
              "3    b\n",
              "5    c\n",
              "dtype: object"
            ]
          },
          "metadata": {},
          "execution_count": 63
        }
      ]
    },
    {
      "cell_type": "markdown",
      "source": [
        "###Data Selection in DataFrame"
      ],
      "metadata": {
        "id": "iEPzw8Dc2oGj"
      }
    },
    {
      "cell_type": "code",
      "source": [
        "area = pd.Series({'California': 423967, 'Texas': 695662,'New York': 141297, 'Florida': 170312,'Illinois': 149995})\n",
        "pop = pd.Series({'California': 38332521, 'Texas': 26448193,'New York': 19651127, 'Florida': 19552860,'Illinois': 12882135})\n",
        "data = pd.DataFrame({'area':area, 'pop':pop})\n",
        "data"
      ],
      "metadata": {
        "colab": {
          "base_uri": "https://localhost:8080/",
          "height": 206
        },
        "id": "uO2tSWCr2o8w",
        "outputId": "fd1cc3ef-8cbc-49d6-9f50-a37f82ab8a0b"
      },
      "execution_count": null,
      "outputs": [
        {
          "output_type": "execute_result",
          "data": {
            "text/plain": [
              "              area       pop\n",
              "California  423967  38332521\n",
              "Texas       695662  26448193\n",
              "New York    141297  19651127\n",
              "Florida     170312  19552860\n",
              "Illinois    149995  12882135"
            ],
            "text/html": [
              "\n",
              "  <div id=\"df-d581d71b-24d6-4bb7-a401-3647c4459b66\">\n",
              "    <div class=\"colab-df-container\">\n",
              "      <div>\n",
              "<style scoped>\n",
              "    .dataframe tbody tr th:only-of-type {\n",
              "        vertical-align: middle;\n",
              "    }\n",
              "\n",
              "    .dataframe tbody tr th {\n",
              "        vertical-align: top;\n",
              "    }\n",
              "\n",
              "    .dataframe thead th {\n",
              "        text-align: right;\n",
              "    }\n",
              "</style>\n",
              "<table border=\"1\" class=\"dataframe\">\n",
              "  <thead>\n",
              "    <tr style=\"text-align: right;\">\n",
              "      <th></th>\n",
              "      <th>area</th>\n",
              "      <th>pop</th>\n",
              "    </tr>\n",
              "  </thead>\n",
              "  <tbody>\n",
              "    <tr>\n",
              "      <th>California</th>\n",
              "      <td>423967</td>\n",
              "      <td>38332521</td>\n",
              "    </tr>\n",
              "    <tr>\n",
              "      <th>Texas</th>\n",
              "      <td>695662</td>\n",
              "      <td>26448193</td>\n",
              "    </tr>\n",
              "    <tr>\n",
              "      <th>New York</th>\n",
              "      <td>141297</td>\n",
              "      <td>19651127</td>\n",
              "    </tr>\n",
              "    <tr>\n",
              "      <th>Florida</th>\n",
              "      <td>170312</td>\n",
              "      <td>19552860</td>\n",
              "    </tr>\n",
              "    <tr>\n",
              "      <th>Illinois</th>\n",
              "      <td>149995</td>\n",
              "      <td>12882135</td>\n",
              "    </tr>\n",
              "  </tbody>\n",
              "</table>\n",
              "</div>\n",
              "      <button class=\"colab-df-convert\" onclick=\"convertToInteractive('df-d581d71b-24d6-4bb7-a401-3647c4459b66')\"\n",
              "              title=\"Convert this dataframe to an interactive table.\"\n",
              "              style=\"display:none;\">\n",
              "        \n",
              "  <svg xmlns=\"http://www.w3.org/2000/svg\" height=\"24px\"viewBox=\"0 0 24 24\"\n",
              "       width=\"24px\">\n",
              "    <path d=\"M0 0h24v24H0V0z\" fill=\"none\"/>\n",
              "    <path d=\"M18.56 5.44l.94 2.06.94-2.06 2.06-.94-2.06-.94-.94-2.06-.94 2.06-2.06.94zm-11 1L8.5 8.5l.94-2.06 2.06-.94-2.06-.94L8.5 2.5l-.94 2.06-2.06.94zm10 10l.94 2.06.94-2.06 2.06-.94-2.06-.94-.94-2.06-.94 2.06-2.06.94z\"/><path d=\"M17.41 7.96l-1.37-1.37c-.4-.4-.92-.59-1.43-.59-.52 0-1.04.2-1.43.59L10.3 9.45l-7.72 7.72c-.78.78-.78 2.05 0 2.83L4 21.41c.39.39.9.59 1.41.59.51 0 1.02-.2 1.41-.59l7.78-7.78 2.81-2.81c.8-.78.8-2.07 0-2.86zM5.41 20L4 18.59l7.72-7.72 1.47 1.35L5.41 20z\"/>\n",
              "  </svg>\n",
              "      </button>\n",
              "      \n",
              "  <style>\n",
              "    .colab-df-container {\n",
              "      display:flex;\n",
              "      flex-wrap:wrap;\n",
              "      gap: 12px;\n",
              "    }\n",
              "\n",
              "    .colab-df-convert {\n",
              "      background-color: #E8F0FE;\n",
              "      border: none;\n",
              "      border-radius: 50%;\n",
              "      cursor: pointer;\n",
              "      display: none;\n",
              "      fill: #1967D2;\n",
              "      height: 32px;\n",
              "      padding: 0 0 0 0;\n",
              "      width: 32px;\n",
              "    }\n",
              "\n",
              "    .colab-df-convert:hover {\n",
              "      background-color: #E2EBFA;\n",
              "      box-shadow: 0px 1px 2px rgba(60, 64, 67, 0.3), 0px 1px 3px 1px rgba(60, 64, 67, 0.15);\n",
              "      fill: #174EA6;\n",
              "    }\n",
              "\n",
              "    [theme=dark] .colab-df-convert {\n",
              "      background-color: #3B4455;\n",
              "      fill: #D2E3FC;\n",
              "    }\n",
              "\n",
              "    [theme=dark] .colab-df-convert:hover {\n",
              "      background-color: #434B5C;\n",
              "      box-shadow: 0px 1px 3px 1px rgba(0, 0, 0, 0.15);\n",
              "      filter: drop-shadow(0px 1px 2px rgba(0, 0, 0, 0.3));\n",
              "      fill: #FFFFFF;\n",
              "    }\n",
              "  </style>\n",
              "\n",
              "      <script>\n",
              "        const buttonEl =\n",
              "          document.querySelector('#df-d581d71b-24d6-4bb7-a401-3647c4459b66 button.colab-df-convert');\n",
              "        buttonEl.style.display =\n",
              "          google.colab.kernel.accessAllowed ? 'block' : 'none';\n",
              "\n",
              "        async function convertToInteractive(key) {\n",
              "          const element = document.querySelector('#df-d581d71b-24d6-4bb7-a401-3647c4459b66');\n",
              "          const dataTable =\n",
              "            await google.colab.kernel.invokeFunction('convertToInteractive',\n",
              "                                                     [key], {});\n",
              "          if (!dataTable) return;\n",
              "\n",
              "          const docLinkHtml = 'Like what you see? Visit the ' +\n",
              "            '<a target=\"_blank\" href=https://colab.research.google.com/notebooks/data_table.ipynb>data table notebook</a>'\n",
              "            + ' to learn more about interactive tables.';\n",
              "          element.innerHTML = '';\n",
              "          dataTable['output_type'] = 'display_data';\n",
              "          await google.colab.output.renderOutput(dataTable, element);\n",
              "          const docLink = document.createElement('div');\n",
              "          docLink.innerHTML = docLinkHtml;\n",
              "          element.appendChild(docLink);\n",
              "        }\n",
              "      </script>\n",
              "    </div>\n",
              "  </div>\n",
              "  "
            ]
          },
          "metadata": {},
          "execution_count": 66
        }
      ]
    },
    {
      "cell_type": "code",
      "source": [
        "data['area']"
      ],
      "metadata": {
        "colab": {
          "base_uri": "https://localhost:8080/"
        },
        "id": "jbP0jFXW2vAs",
        "outputId": "5ea66b77-8639-46d5-c634-7c99958c3943"
      },
      "execution_count": null,
      "outputs": [
        {
          "output_type": "execute_result",
          "data": {
            "text/plain": [
              "California    423967\n",
              "Texas         695662\n",
              "New York      141297\n",
              "Florida       170312\n",
              "Illinois      149995\n",
              "Name: area, dtype: int64"
            ]
          },
          "metadata": {},
          "execution_count": 67
        }
      ]
    },
    {
      "cell_type": "code",
      "source": [
        "data.area"
      ],
      "metadata": {
        "colab": {
          "base_uri": "https://localhost:8080/"
        },
        "id": "FsSh8SDY3BPL",
        "outputId": "7b2d0c08-bc95-49fa-95a3-77e50999fb5a"
      },
      "execution_count": null,
      "outputs": [
        {
          "output_type": "execute_result",
          "data": {
            "text/plain": [
              "California    423967\n",
              "Texas         695662\n",
              "New York      141297\n",
              "Florida       170312\n",
              "Illinois      149995\n",
              "Name: area, dtype: int64"
            ]
          },
          "metadata": {},
          "execution_count": 68
        }
      ]
    },
    {
      "cell_type": "code",
      "source": [
        "data.area is data['area']"
      ],
      "metadata": {
        "colab": {
          "base_uri": "https://localhost:8080/"
        },
        "id": "2bK6WFDg3E2H",
        "outputId": "cf3d103e-b9d3-49eb-bbe4-de7502877fa0"
      },
      "execution_count": null,
      "outputs": [
        {
          "output_type": "execute_result",
          "data": {
            "text/plain": [
              "True"
            ]
          },
          "metadata": {},
          "execution_count": 69
        }
      ]
    },
    {
      "cell_type": "code",
      "source": [
        "data.pop is data['pop'] ## here it is pointing to the method so false above no method called area"
      ],
      "metadata": {
        "colab": {
          "base_uri": "https://localhost:8080/"
        },
        "id": "BwFhGLMb3L_9",
        "outputId": "51edeeb3-7ba2-4db1-bac3-19ea0a07bea7"
      },
      "execution_count": null,
      "outputs": [
        {
          "output_type": "execute_result",
          "data": {
            "text/plain": [
              "False"
            ]
          },
          "metadata": {},
          "execution_count": 70
        }
      ]
    },
    {
      "cell_type": "code",
      "source": [
        "data['density'] = data['pop'] / data['area']\n",
        "data"
      ],
      "metadata": {
        "colab": {
          "base_uri": "https://localhost:8080/",
          "height": 206
        },
        "id": "PXw0PeID3Tqu",
        "outputId": "23c3aa7f-4928-478c-8df8-38116de5aa49"
      },
      "execution_count": null,
      "outputs": [
        {
          "output_type": "execute_result",
          "data": {
            "text/plain": [
              "              area       pop     density\n",
              "California  423967  38332521   90.413926\n",
              "Texas       695662  26448193   38.018740\n",
              "New York    141297  19651127  139.076746\n",
              "Florida     170312  19552860  114.806121\n",
              "Illinois    149995  12882135   85.883763"
            ],
            "text/html": [
              "\n",
              "  <div id=\"df-cc92ed1d-9e03-459f-bb78-fffdbbc24a76\">\n",
              "    <div class=\"colab-df-container\">\n",
              "      <div>\n",
              "<style scoped>\n",
              "    .dataframe tbody tr th:only-of-type {\n",
              "        vertical-align: middle;\n",
              "    }\n",
              "\n",
              "    .dataframe tbody tr th {\n",
              "        vertical-align: top;\n",
              "    }\n",
              "\n",
              "    .dataframe thead th {\n",
              "        text-align: right;\n",
              "    }\n",
              "</style>\n",
              "<table border=\"1\" class=\"dataframe\">\n",
              "  <thead>\n",
              "    <tr style=\"text-align: right;\">\n",
              "      <th></th>\n",
              "      <th>area</th>\n",
              "      <th>pop</th>\n",
              "      <th>density</th>\n",
              "    </tr>\n",
              "  </thead>\n",
              "  <tbody>\n",
              "    <tr>\n",
              "      <th>California</th>\n",
              "      <td>423967</td>\n",
              "      <td>38332521</td>\n",
              "      <td>90.413926</td>\n",
              "    </tr>\n",
              "    <tr>\n",
              "      <th>Texas</th>\n",
              "      <td>695662</td>\n",
              "      <td>26448193</td>\n",
              "      <td>38.018740</td>\n",
              "    </tr>\n",
              "    <tr>\n",
              "      <th>New York</th>\n",
              "      <td>141297</td>\n",
              "      <td>19651127</td>\n",
              "      <td>139.076746</td>\n",
              "    </tr>\n",
              "    <tr>\n",
              "      <th>Florida</th>\n",
              "      <td>170312</td>\n",
              "      <td>19552860</td>\n",
              "      <td>114.806121</td>\n",
              "    </tr>\n",
              "    <tr>\n",
              "      <th>Illinois</th>\n",
              "      <td>149995</td>\n",
              "      <td>12882135</td>\n",
              "      <td>85.883763</td>\n",
              "    </tr>\n",
              "  </tbody>\n",
              "</table>\n",
              "</div>\n",
              "      <button class=\"colab-df-convert\" onclick=\"convertToInteractive('df-cc92ed1d-9e03-459f-bb78-fffdbbc24a76')\"\n",
              "              title=\"Convert this dataframe to an interactive table.\"\n",
              "              style=\"display:none;\">\n",
              "        \n",
              "  <svg xmlns=\"http://www.w3.org/2000/svg\" height=\"24px\"viewBox=\"0 0 24 24\"\n",
              "       width=\"24px\">\n",
              "    <path d=\"M0 0h24v24H0V0z\" fill=\"none\"/>\n",
              "    <path d=\"M18.56 5.44l.94 2.06.94-2.06 2.06-.94-2.06-.94-.94-2.06-.94 2.06-2.06.94zm-11 1L8.5 8.5l.94-2.06 2.06-.94-2.06-.94L8.5 2.5l-.94 2.06-2.06.94zm10 10l.94 2.06.94-2.06 2.06-.94-2.06-.94-.94-2.06-.94 2.06-2.06.94z\"/><path d=\"M17.41 7.96l-1.37-1.37c-.4-.4-.92-.59-1.43-.59-.52 0-1.04.2-1.43.59L10.3 9.45l-7.72 7.72c-.78.78-.78 2.05 0 2.83L4 21.41c.39.39.9.59 1.41.59.51 0 1.02-.2 1.41-.59l7.78-7.78 2.81-2.81c.8-.78.8-2.07 0-2.86zM5.41 20L4 18.59l7.72-7.72 1.47 1.35L5.41 20z\"/>\n",
              "  </svg>\n",
              "      </button>\n",
              "      \n",
              "  <style>\n",
              "    .colab-df-container {\n",
              "      display:flex;\n",
              "      flex-wrap:wrap;\n",
              "      gap: 12px;\n",
              "    }\n",
              "\n",
              "    .colab-df-convert {\n",
              "      background-color: #E8F0FE;\n",
              "      border: none;\n",
              "      border-radius: 50%;\n",
              "      cursor: pointer;\n",
              "      display: none;\n",
              "      fill: #1967D2;\n",
              "      height: 32px;\n",
              "      padding: 0 0 0 0;\n",
              "      width: 32px;\n",
              "    }\n",
              "\n",
              "    .colab-df-convert:hover {\n",
              "      background-color: #E2EBFA;\n",
              "      box-shadow: 0px 1px 2px rgba(60, 64, 67, 0.3), 0px 1px 3px 1px rgba(60, 64, 67, 0.15);\n",
              "      fill: #174EA6;\n",
              "    }\n",
              "\n",
              "    [theme=dark] .colab-df-convert {\n",
              "      background-color: #3B4455;\n",
              "      fill: #D2E3FC;\n",
              "    }\n",
              "\n",
              "    [theme=dark] .colab-df-convert:hover {\n",
              "      background-color: #434B5C;\n",
              "      box-shadow: 0px 1px 3px 1px rgba(0, 0, 0, 0.15);\n",
              "      filter: drop-shadow(0px 1px 2px rgba(0, 0, 0, 0.3));\n",
              "      fill: #FFFFFF;\n",
              "    }\n",
              "  </style>\n",
              "\n",
              "      <script>\n",
              "        const buttonEl =\n",
              "          document.querySelector('#df-cc92ed1d-9e03-459f-bb78-fffdbbc24a76 button.colab-df-convert');\n",
              "        buttonEl.style.display =\n",
              "          google.colab.kernel.accessAllowed ? 'block' : 'none';\n",
              "\n",
              "        async function convertToInteractive(key) {\n",
              "          const element = document.querySelector('#df-cc92ed1d-9e03-459f-bb78-fffdbbc24a76');\n",
              "          const dataTable =\n",
              "            await google.colab.kernel.invokeFunction('convertToInteractive',\n",
              "                                                     [key], {});\n",
              "          if (!dataTable) return;\n",
              "\n",
              "          const docLinkHtml = 'Like what you see? Visit the ' +\n",
              "            '<a target=\"_blank\" href=https://colab.research.google.com/notebooks/data_table.ipynb>data table notebook</a>'\n",
              "            + ' to learn more about interactive tables.';\n",
              "          element.innerHTML = '';\n",
              "          dataTable['output_type'] = 'display_data';\n",
              "          await google.colab.output.renderOutput(dataTable, element);\n",
              "          const docLink = document.createElement('div');\n",
              "          docLink.innerHTML = docLinkHtml;\n",
              "          element.appendChild(docLink);\n",
              "        }\n",
              "      </script>\n",
              "    </div>\n",
              "  </div>\n",
              "  "
            ]
          },
          "metadata": {},
          "execution_count": 71
        }
      ]
    },
    {
      "cell_type": "markdown",
      "source": [
        "###DataFrame as two-dimensional array"
      ],
      "metadata": {
        "id": "g1IYZ1FZ3319"
      }
    },
    {
      "cell_type": "code",
      "source": [
        "data.values"
      ],
      "metadata": {
        "colab": {
          "base_uri": "https://localhost:8080/"
        },
        "id": "4nN2cnWn349z",
        "outputId": "91d81a65-c24b-4425-991b-f62961c272da"
      },
      "execution_count": null,
      "outputs": [
        {
          "output_type": "execute_result",
          "data": {
            "text/plain": [
              "array([[4.23967000e+05, 3.83325210e+07, 9.04139261e+01],\n",
              "       [6.95662000e+05, 2.64481930e+07, 3.80187404e+01],\n",
              "       [1.41297000e+05, 1.96511270e+07, 1.39076746e+02],\n",
              "       [1.70312000e+05, 1.95528600e+07, 1.14806121e+02],\n",
              "       [1.49995000e+05, 1.28821350e+07, 8.58837628e+01]])"
            ]
          },
          "metadata": {},
          "execution_count": 72
        }
      ]
    },
    {
      "cell_type": "code",
      "source": [
        "data.T"
      ],
      "metadata": {
        "colab": {
          "base_uri": "https://localhost:8080/",
          "height": 143
        },
        "id": "uomH4if636mg",
        "outputId": "e5c9e084-57ba-4293-9253-9f23ffe16e36"
      },
      "execution_count": null,
      "outputs": [
        {
          "output_type": "execute_result",
          "data": {
            "text/plain": [
              "           California         Texas      New York       Florida      Illinois\n",
              "area     4.239670e+05  6.956620e+05  1.412970e+05  1.703120e+05  1.499950e+05\n",
              "pop      3.833252e+07  2.644819e+07  1.965113e+07  1.955286e+07  1.288214e+07\n",
              "density  9.041393e+01  3.801874e+01  1.390767e+02  1.148061e+02  8.588376e+01"
            ],
            "text/html": [
              "\n",
              "  <div id=\"df-28466ef2-a38c-4c5c-b5af-13797359cbf0\">\n",
              "    <div class=\"colab-df-container\">\n",
              "      <div>\n",
              "<style scoped>\n",
              "    .dataframe tbody tr th:only-of-type {\n",
              "        vertical-align: middle;\n",
              "    }\n",
              "\n",
              "    .dataframe tbody tr th {\n",
              "        vertical-align: top;\n",
              "    }\n",
              "\n",
              "    .dataframe thead th {\n",
              "        text-align: right;\n",
              "    }\n",
              "</style>\n",
              "<table border=\"1\" class=\"dataframe\">\n",
              "  <thead>\n",
              "    <tr style=\"text-align: right;\">\n",
              "      <th></th>\n",
              "      <th>California</th>\n",
              "      <th>Texas</th>\n",
              "      <th>New York</th>\n",
              "      <th>Florida</th>\n",
              "      <th>Illinois</th>\n",
              "    </tr>\n",
              "  </thead>\n",
              "  <tbody>\n",
              "    <tr>\n",
              "      <th>area</th>\n",
              "      <td>4.239670e+05</td>\n",
              "      <td>6.956620e+05</td>\n",
              "      <td>1.412970e+05</td>\n",
              "      <td>1.703120e+05</td>\n",
              "      <td>1.499950e+05</td>\n",
              "    </tr>\n",
              "    <tr>\n",
              "      <th>pop</th>\n",
              "      <td>3.833252e+07</td>\n",
              "      <td>2.644819e+07</td>\n",
              "      <td>1.965113e+07</td>\n",
              "      <td>1.955286e+07</td>\n",
              "      <td>1.288214e+07</td>\n",
              "    </tr>\n",
              "    <tr>\n",
              "      <th>density</th>\n",
              "      <td>9.041393e+01</td>\n",
              "      <td>3.801874e+01</td>\n",
              "      <td>1.390767e+02</td>\n",
              "      <td>1.148061e+02</td>\n",
              "      <td>8.588376e+01</td>\n",
              "    </tr>\n",
              "  </tbody>\n",
              "</table>\n",
              "</div>\n",
              "      <button class=\"colab-df-convert\" onclick=\"convertToInteractive('df-28466ef2-a38c-4c5c-b5af-13797359cbf0')\"\n",
              "              title=\"Convert this dataframe to an interactive table.\"\n",
              "              style=\"display:none;\">\n",
              "        \n",
              "  <svg xmlns=\"http://www.w3.org/2000/svg\" height=\"24px\"viewBox=\"0 0 24 24\"\n",
              "       width=\"24px\">\n",
              "    <path d=\"M0 0h24v24H0V0z\" fill=\"none\"/>\n",
              "    <path d=\"M18.56 5.44l.94 2.06.94-2.06 2.06-.94-2.06-.94-.94-2.06-.94 2.06-2.06.94zm-11 1L8.5 8.5l.94-2.06 2.06-.94-2.06-.94L8.5 2.5l-.94 2.06-2.06.94zm10 10l.94 2.06.94-2.06 2.06-.94-2.06-.94-.94-2.06-.94 2.06-2.06.94z\"/><path d=\"M17.41 7.96l-1.37-1.37c-.4-.4-.92-.59-1.43-.59-.52 0-1.04.2-1.43.59L10.3 9.45l-7.72 7.72c-.78.78-.78 2.05 0 2.83L4 21.41c.39.39.9.59 1.41.59.51 0 1.02-.2 1.41-.59l7.78-7.78 2.81-2.81c.8-.78.8-2.07 0-2.86zM5.41 20L4 18.59l7.72-7.72 1.47 1.35L5.41 20z\"/>\n",
              "  </svg>\n",
              "      </button>\n",
              "      \n",
              "  <style>\n",
              "    .colab-df-container {\n",
              "      display:flex;\n",
              "      flex-wrap:wrap;\n",
              "      gap: 12px;\n",
              "    }\n",
              "\n",
              "    .colab-df-convert {\n",
              "      background-color: #E8F0FE;\n",
              "      border: none;\n",
              "      border-radius: 50%;\n",
              "      cursor: pointer;\n",
              "      display: none;\n",
              "      fill: #1967D2;\n",
              "      height: 32px;\n",
              "      padding: 0 0 0 0;\n",
              "      width: 32px;\n",
              "    }\n",
              "\n",
              "    .colab-df-convert:hover {\n",
              "      background-color: #E2EBFA;\n",
              "      box-shadow: 0px 1px 2px rgba(60, 64, 67, 0.3), 0px 1px 3px 1px rgba(60, 64, 67, 0.15);\n",
              "      fill: #174EA6;\n",
              "    }\n",
              "\n",
              "    [theme=dark] .colab-df-convert {\n",
              "      background-color: #3B4455;\n",
              "      fill: #D2E3FC;\n",
              "    }\n",
              "\n",
              "    [theme=dark] .colab-df-convert:hover {\n",
              "      background-color: #434B5C;\n",
              "      box-shadow: 0px 1px 3px 1px rgba(0, 0, 0, 0.15);\n",
              "      filter: drop-shadow(0px 1px 2px rgba(0, 0, 0, 0.3));\n",
              "      fill: #FFFFFF;\n",
              "    }\n",
              "  </style>\n",
              "\n",
              "      <script>\n",
              "        const buttonEl =\n",
              "          document.querySelector('#df-28466ef2-a38c-4c5c-b5af-13797359cbf0 button.colab-df-convert');\n",
              "        buttonEl.style.display =\n",
              "          google.colab.kernel.accessAllowed ? 'block' : 'none';\n",
              "\n",
              "        async function convertToInteractive(key) {\n",
              "          const element = document.querySelector('#df-28466ef2-a38c-4c5c-b5af-13797359cbf0');\n",
              "          const dataTable =\n",
              "            await google.colab.kernel.invokeFunction('convertToInteractive',\n",
              "                                                     [key], {});\n",
              "          if (!dataTable) return;\n",
              "\n",
              "          const docLinkHtml = 'Like what you see? Visit the ' +\n",
              "            '<a target=\"_blank\" href=https://colab.research.google.com/notebooks/data_table.ipynb>data table notebook</a>'\n",
              "            + ' to learn more about interactive tables.';\n",
              "          element.innerHTML = '';\n",
              "          dataTable['output_type'] = 'display_data';\n",
              "          await google.colab.output.renderOutput(dataTable, element);\n",
              "          const docLink = document.createElement('div');\n",
              "          docLink.innerHTML = docLinkHtml;\n",
              "          element.appendChild(docLink);\n",
              "        }\n",
              "      </script>\n",
              "    </div>\n",
              "  </div>\n",
              "  "
            ]
          },
          "metadata": {},
          "execution_count": 73
        }
      ]
    },
    {
      "cell_type": "code",
      "source": [
        "data['area']"
      ],
      "metadata": {
        "colab": {
          "base_uri": "https://localhost:8080/"
        },
        "id": "HQFFImC83-CI",
        "outputId": "b97cac30-4777-4c92-dcbe-5c85c04b9057"
      },
      "execution_count": null,
      "outputs": [
        {
          "output_type": "execute_result",
          "data": {
            "text/plain": [
              "California    423967\n",
              "Texas         695662\n",
              "New York      141297\n",
              "Florida       170312\n",
              "Illinois      149995\n",
              "Name: area, dtype: int64"
            ]
          },
          "metadata": {},
          "execution_count": 74
        }
      ]
    },
    {
      "cell_type": "code",
      "source": [
        "data.iloc[:3, :2]"
      ],
      "metadata": {
        "colab": {
          "base_uri": "https://localhost:8080/",
          "height": 143
        },
        "id": "8AGGd_VH1wV_",
        "outputId": "fbd1121f-b65c-46d5-ce5d-a1f24118dded"
      },
      "execution_count": null,
      "outputs": [
        {
          "output_type": "execute_result",
          "data": {
            "text/plain": [
              "              area       pop\n",
              "California  423967  38332521\n",
              "Texas       695662  26448193\n",
              "New York    141297  19651127"
            ],
            "text/html": [
              "\n",
              "  <div id=\"df-7841a1a4-1313-4eeb-a0cc-fe897d906008\">\n",
              "    <div class=\"colab-df-container\">\n",
              "      <div>\n",
              "<style scoped>\n",
              "    .dataframe tbody tr th:only-of-type {\n",
              "        vertical-align: middle;\n",
              "    }\n",
              "\n",
              "    .dataframe tbody tr th {\n",
              "        vertical-align: top;\n",
              "    }\n",
              "\n",
              "    .dataframe thead th {\n",
              "        text-align: right;\n",
              "    }\n",
              "</style>\n",
              "<table border=\"1\" class=\"dataframe\">\n",
              "  <thead>\n",
              "    <tr style=\"text-align: right;\">\n",
              "      <th></th>\n",
              "      <th>area</th>\n",
              "      <th>pop</th>\n",
              "    </tr>\n",
              "  </thead>\n",
              "  <tbody>\n",
              "    <tr>\n",
              "      <th>California</th>\n",
              "      <td>423967</td>\n",
              "      <td>38332521</td>\n",
              "    </tr>\n",
              "    <tr>\n",
              "      <th>Texas</th>\n",
              "      <td>695662</td>\n",
              "      <td>26448193</td>\n",
              "    </tr>\n",
              "    <tr>\n",
              "      <th>New York</th>\n",
              "      <td>141297</td>\n",
              "      <td>19651127</td>\n",
              "    </tr>\n",
              "  </tbody>\n",
              "</table>\n",
              "</div>\n",
              "      <button class=\"colab-df-convert\" onclick=\"convertToInteractive('df-7841a1a4-1313-4eeb-a0cc-fe897d906008')\"\n",
              "              title=\"Convert this dataframe to an interactive table.\"\n",
              "              style=\"display:none;\">\n",
              "        \n",
              "  <svg xmlns=\"http://www.w3.org/2000/svg\" height=\"24px\"viewBox=\"0 0 24 24\"\n",
              "       width=\"24px\">\n",
              "    <path d=\"M0 0h24v24H0V0z\" fill=\"none\"/>\n",
              "    <path d=\"M18.56 5.44l.94 2.06.94-2.06 2.06-.94-2.06-.94-.94-2.06-.94 2.06-2.06.94zm-11 1L8.5 8.5l.94-2.06 2.06-.94-2.06-.94L8.5 2.5l-.94 2.06-2.06.94zm10 10l.94 2.06.94-2.06 2.06-.94-2.06-.94-.94-2.06-.94 2.06-2.06.94z\"/><path d=\"M17.41 7.96l-1.37-1.37c-.4-.4-.92-.59-1.43-.59-.52 0-1.04.2-1.43.59L10.3 9.45l-7.72 7.72c-.78.78-.78 2.05 0 2.83L4 21.41c.39.39.9.59 1.41.59.51 0 1.02-.2 1.41-.59l7.78-7.78 2.81-2.81c.8-.78.8-2.07 0-2.86zM5.41 20L4 18.59l7.72-7.72 1.47 1.35L5.41 20z\"/>\n",
              "  </svg>\n",
              "      </button>\n",
              "      \n",
              "  <style>\n",
              "    .colab-df-container {\n",
              "      display:flex;\n",
              "      flex-wrap:wrap;\n",
              "      gap: 12px;\n",
              "    }\n",
              "\n",
              "    .colab-df-convert {\n",
              "      background-color: #E8F0FE;\n",
              "      border: none;\n",
              "      border-radius: 50%;\n",
              "      cursor: pointer;\n",
              "      display: none;\n",
              "      fill: #1967D2;\n",
              "      height: 32px;\n",
              "      padding: 0 0 0 0;\n",
              "      width: 32px;\n",
              "    }\n",
              "\n",
              "    .colab-df-convert:hover {\n",
              "      background-color: #E2EBFA;\n",
              "      box-shadow: 0px 1px 2px rgba(60, 64, 67, 0.3), 0px 1px 3px 1px rgba(60, 64, 67, 0.15);\n",
              "      fill: #174EA6;\n",
              "    }\n",
              "\n",
              "    [theme=dark] .colab-df-convert {\n",
              "      background-color: #3B4455;\n",
              "      fill: #D2E3FC;\n",
              "    }\n",
              "\n",
              "    [theme=dark] .colab-df-convert:hover {\n",
              "      background-color: #434B5C;\n",
              "      box-shadow: 0px 1px 3px 1px rgba(0, 0, 0, 0.15);\n",
              "      filter: drop-shadow(0px 1px 2px rgba(0, 0, 0, 0.3));\n",
              "      fill: #FFFFFF;\n",
              "    }\n",
              "  </style>\n",
              "\n",
              "      <script>\n",
              "        const buttonEl =\n",
              "          document.querySelector('#df-7841a1a4-1313-4eeb-a0cc-fe897d906008 button.colab-df-convert');\n",
              "        buttonEl.style.display =\n",
              "          google.colab.kernel.accessAllowed ? 'block' : 'none';\n",
              "\n",
              "        async function convertToInteractive(key) {\n",
              "          const element = document.querySelector('#df-7841a1a4-1313-4eeb-a0cc-fe897d906008');\n",
              "          const dataTable =\n",
              "            await google.colab.kernel.invokeFunction('convertToInteractive',\n",
              "                                                     [key], {});\n",
              "          if (!dataTable) return;\n",
              "\n",
              "          const docLinkHtml = 'Like what you see? Visit the ' +\n",
              "            '<a target=\"_blank\" href=https://colab.research.google.com/notebooks/data_table.ipynb>data table notebook</a>'\n",
              "            + ' to learn more about interactive tables.';\n",
              "          element.innerHTML = '';\n",
              "          dataTable['output_type'] = 'display_data';\n",
              "          await google.colab.output.renderOutput(dataTable, element);\n",
              "          const docLink = document.createElement('div');\n",
              "          docLink.innerHTML = docLinkHtml;\n",
              "          element.appendChild(docLink);\n",
              "        }\n",
              "      </script>\n",
              "    </div>\n",
              "  </div>\n",
              "  "
            ]
          },
          "metadata": {},
          "execution_count": 75
        }
      ]
    },
    {
      "cell_type": "code",
      "source": [
        "data.loc[:'Illinois', :'pop']"
      ],
      "metadata": {
        "colab": {
          "base_uri": "https://localhost:8080/",
          "height": 206
        },
        "id": "DF5cfe9t4NWW",
        "outputId": "783d7643-34a1-4a30-b086-5dd8eb8f1f8b"
      },
      "execution_count": null,
      "outputs": [
        {
          "output_type": "execute_result",
          "data": {
            "text/plain": [
              "              area       pop\n",
              "California  423967  38332521\n",
              "Texas       695662  26448193\n",
              "New York    141297  19651127\n",
              "Florida     170312  19552860\n",
              "Illinois    149995  12882135"
            ],
            "text/html": [
              "\n",
              "  <div id=\"df-f62ea6cf-e639-4145-a47f-f1a15b8fa1f3\">\n",
              "    <div class=\"colab-df-container\">\n",
              "      <div>\n",
              "<style scoped>\n",
              "    .dataframe tbody tr th:only-of-type {\n",
              "        vertical-align: middle;\n",
              "    }\n",
              "\n",
              "    .dataframe tbody tr th {\n",
              "        vertical-align: top;\n",
              "    }\n",
              "\n",
              "    .dataframe thead th {\n",
              "        text-align: right;\n",
              "    }\n",
              "</style>\n",
              "<table border=\"1\" class=\"dataframe\">\n",
              "  <thead>\n",
              "    <tr style=\"text-align: right;\">\n",
              "      <th></th>\n",
              "      <th>area</th>\n",
              "      <th>pop</th>\n",
              "    </tr>\n",
              "  </thead>\n",
              "  <tbody>\n",
              "    <tr>\n",
              "      <th>California</th>\n",
              "      <td>423967</td>\n",
              "      <td>38332521</td>\n",
              "    </tr>\n",
              "    <tr>\n",
              "      <th>Texas</th>\n",
              "      <td>695662</td>\n",
              "      <td>26448193</td>\n",
              "    </tr>\n",
              "    <tr>\n",
              "      <th>New York</th>\n",
              "      <td>141297</td>\n",
              "      <td>19651127</td>\n",
              "    </tr>\n",
              "    <tr>\n",
              "      <th>Florida</th>\n",
              "      <td>170312</td>\n",
              "      <td>19552860</td>\n",
              "    </tr>\n",
              "    <tr>\n",
              "      <th>Illinois</th>\n",
              "      <td>149995</td>\n",
              "      <td>12882135</td>\n",
              "    </tr>\n",
              "  </tbody>\n",
              "</table>\n",
              "</div>\n",
              "      <button class=\"colab-df-convert\" onclick=\"convertToInteractive('df-f62ea6cf-e639-4145-a47f-f1a15b8fa1f3')\"\n",
              "              title=\"Convert this dataframe to an interactive table.\"\n",
              "              style=\"display:none;\">\n",
              "        \n",
              "  <svg xmlns=\"http://www.w3.org/2000/svg\" height=\"24px\"viewBox=\"0 0 24 24\"\n",
              "       width=\"24px\">\n",
              "    <path d=\"M0 0h24v24H0V0z\" fill=\"none\"/>\n",
              "    <path d=\"M18.56 5.44l.94 2.06.94-2.06 2.06-.94-2.06-.94-.94-2.06-.94 2.06-2.06.94zm-11 1L8.5 8.5l.94-2.06 2.06-.94-2.06-.94L8.5 2.5l-.94 2.06-2.06.94zm10 10l.94 2.06.94-2.06 2.06-.94-2.06-.94-.94-2.06-.94 2.06-2.06.94z\"/><path d=\"M17.41 7.96l-1.37-1.37c-.4-.4-.92-.59-1.43-.59-.52 0-1.04.2-1.43.59L10.3 9.45l-7.72 7.72c-.78.78-.78 2.05 0 2.83L4 21.41c.39.39.9.59 1.41.59.51 0 1.02-.2 1.41-.59l7.78-7.78 2.81-2.81c.8-.78.8-2.07 0-2.86zM5.41 20L4 18.59l7.72-7.72 1.47 1.35L5.41 20z\"/>\n",
              "  </svg>\n",
              "      </button>\n",
              "      \n",
              "  <style>\n",
              "    .colab-df-container {\n",
              "      display:flex;\n",
              "      flex-wrap:wrap;\n",
              "      gap: 12px;\n",
              "    }\n",
              "\n",
              "    .colab-df-convert {\n",
              "      background-color: #E8F0FE;\n",
              "      border: none;\n",
              "      border-radius: 50%;\n",
              "      cursor: pointer;\n",
              "      display: none;\n",
              "      fill: #1967D2;\n",
              "      height: 32px;\n",
              "      padding: 0 0 0 0;\n",
              "      width: 32px;\n",
              "    }\n",
              "\n",
              "    .colab-df-convert:hover {\n",
              "      background-color: #E2EBFA;\n",
              "      box-shadow: 0px 1px 2px rgba(60, 64, 67, 0.3), 0px 1px 3px 1px rgba(60, 64, 67, 0.15);\n",
              "      fill: #174EA6;\n",
              "    }\n",
              "\n",
              "    [theme=dark] .colab-df-convert {\n",
              "      background-color: #3B4455;\n",
              "      fill: #D2E3FC;\n",
              "    }\n",
              "\n",
              "    [theme=dark] .colab-df-convert:hover {\n",
              "      background-color: #434B5C;\n",
              "      box-shadow: 0px 1px 3px 1px rgba(0, 0, 0, 0.15);\n",
              "      filter: drop-shadow(0px 1px 2px rgba(0, 0, 0, 0.3));\n",
              "      fill: #FFFFFF;\n",
              "    }\n",
              "  </style>\n",
              "\n",
              "      <script>\n",
              "        const buttonEl =\n",
              "          document.querySelector('#df-f62ea6cf-e639-4145-a47f-f1a15b8fa1f3 button.colab-df-convert');\n",
              "        buttonEl.style.display =\n",
              "          google.colab.kernel.accessAllowed ? 'block' : 'none';\n",
              "\n",
              "        async function convertToInteractive(key) {\n",
              "          const element = document.querySelector('#df-f62ea6cf-e639-4145-a47f-f1a15b8fa1f3');\n",
              "          const dataTable =\n",
              "            await google.colab.kernel.invokeFunction('convertToInteractive',\n",
              "                                                     [key], {});\n",
              "          if (!dataTable) return;\n",
              "\n",
              "          const docLinkHtml = 'Like what you see? Visit the ' +\n",
              "            '<a target=\"_blank\" href=https://colab.research.google.com/notebooks/data_table.ipynb>data table notebook</a>'\n",
              "            + ' to learn more about interactive tables.';\n",
              "          element.innerHTML = '';\n",
              "          dataTable['output_type'] = 'display_data';\n",
              "          await google.colab.output.renderOutput(dataTable, element);\n",
              "          const docLink = document.createElement('div');\n",
              "          docLink.innerHTML = docLinkHtml;\n",
              "          element.appendChild(docLink);\n",
              "        }\n",
              "      </script>\n",
              "    </div>\n",
              "  </div>\n",
              "  "
            ]
          },
          "metadata": {},
          "execution_count": 76
        }
      ]
    },
    {
      "cell_type": "code",
      "source": [
        "data.loc[data.density > 100, ['pop', 'density']]"
      ],
      "metadata": {
        "colab": {
          "base_uri": "https://localhost:8080/",
          "height": 112
        },
        "id": "t1lz_ztB4SO_",
        "outputId": "600ebe75-1c1e-4896-bb3b-9f415b1aa0c2"
      },
      "execution_count": null,
      "outputs": [
        {
          "output_type": "execute_result",
          "data": {
            "text/plain": [
              "               pop     density\n",
              "New York  19651127  139.076746\n",
              "Florida   19552860  114.806121"
            ],
            "text/html": [
              "\n",
              "  <div id=\"df-dd309192-9620-4bc3-a953-15afc4e33226\">\n",
              "    <div class=\"colab-df-container\">\n",
              "      <div>\n",
              "<style scoped>\n",
              "    .dataframe tbody tr th:only-of-type {\n",
              "        vertical-align: middle;\n",
              "    }\n",
              "\n",
              "    .dataframe tbody tr th {\n",
              "        vertical-align: top;\n",
              "    }\n",
              "\n",
              "    .dataframe thead th {\n",
              "        text-align: right;\n",
              "    }\n",
              "</style>\n",
              "<table border=\"1\" class=\"dataframe\">\n",
              "  <thead>\n",
              "    <tr style=\"text-align: right;\">\n",
              "      <th></th>\n",
              "      <th>pop</th>\n",
              "      <th>density</th>\n",
              "    </tr>\n",
              "  </thead>\n",
              "  <tbody>\n",
              "    <tr>\n",
              "      <th>New York</th>\n",
              "      <td>19651127</td>\n",
              "      <td>139.076746</td>\n",
              "    </tr>\n",
              "    <tr>\n",
              "      <th>Florida</th>\n",
              "      <td>19552860</td>\n",
              "      <td>114.806121</td>\n",
              "    </tr>\n",
              "  </tbody>\n",
              "</table>\n",
              "</div>\n",
              "      <button class=\"colab-df-convert\" onclick=\"convertToInteractive('df-dd309192-9620-4bc3-a953-15afc4e33226')\"\n",
              "              title=\"Convert this dataframe to an interactive table.\"\n",
              "              style=\"display:none;\">\n",
              "        \n",
              "  <svg xmlns=\"http://www.w3.org/2000/svg\" height=\"24px\"viewBox=\"0 0 24 24\"\n",
              "       width=\"24px\">\n",
              "    <path d=\"M0 0h24v24H0V0z\" fill=\"none\"/>\n",
              "    <path d=\"M18.56 5.44l.94 2.06.94-2.06 2.06-.94-2.06-.94-.94-2.06-.94 2.06-2.06.94zm-11 1L8.5 8.5l.94-2.06 2.06-.94-2.06-.94L8.5 2.5l-.94 2.06-2.06.94zm10 10l.94 2.06.94-2.06 2.06-.94-2.06-.94-.94-2.06-.94 2.06-2.06.94z\"/><path d=\"M17.41 7.96l-1.37-1.37c-.4-.4-.92-.59-1.43-.59-.52 0-1.04.2-1.43.59L10.3 9.45l-7.72 7.72c-.78.78-.78 2.05 0 2.83L4 21.41c.39.39.9.59 1.41.59.51 0 1.02-.2 1.41-.59l7.78-7.78 2.81-2.81c.8-.78.8-2.07 0-2.86zM5.41 20L4 18.59l7.72-7.72 1.47 1.35L5.41 20z\"/>\n",
              "  </svg>\n",
              "      </button>\n",
              "      \n",
              "  <style>\n",
              "    .colab-df-container {\n",
              "      display:flex;\n",
              "      flex-wrap:wrap;\n",
              "      gap: 12px;\n",
              "    }\n",
              "\n",
              "    .colab-df-convert {\n",
              "      background-color: #E8F0FE;\n",
              "      border: none;\n",
              "      border-radius: 50%;\n",
              "      cursor: pointer;\n",
              "      display: none;\n",
              "      fill: #1967D2;\n",
              "      height: 32px;\n",
              "      padding: 0 0 0 0;\n",
              "      width: 32px;\n",
              "    }\n",
              "\n",
              "    .colab-df-convert:hover {\n",
              "      background-color: #E2EBFA;\n",
              "      box-shadow: 0px 1px 2px rgba(60, 64, 67, 0.3), 0px 1px 3px 1px rgba(60, 64, 67, 0.15);\n",
              "      fill: #174EA6;\n",
              "    }\n",
              "\n",
              "    [theme=dark] .colab-df-convert {\n",
              "      background-color: #3B4455;\n",
              "      fill: #D2E3FC;\n",
              "    }\n",
              "\n",
              "    [theme=dark] .colab-df-convert:hover {\n",
              "      background-color: #434B5C;\n",
              "      box-shadow: 0px 1px 3px 1px rgba(0, 0, 0, 0.15);\n",
              "      filter: drop-shadow(0px 1px 2px rgba(0, 0, 0, 0.3));\n",
              "      fill: #FFFFFF;\n",
              "    }\n",
              "  </style>\n",
              "\n",
              "      <script>\n",
              "        const buttonEl =\n",
              "          document.querySelector('#df-dd309192-9620-4bc3-a953-15afc4e33226 button.colab-df-convert');\n",
              "        buttonEl.style.display =\n",
              "          google.colab.kernel.accessAllowed ? 'block' : 'none';\n",
              "\n",
              "        async function convertToInteractive(key) {\n",
              "          const element = document.querySelector('#df-dd309192-9620-4bc3-a953-15afc4e33226');\n",
              "          const dataTable =\n",
              "            await google.colab.kernel.invokeFunction('convertToInteractive',\n",
              "                                                     [key], {});\n",
              "          if (!dataTable) return;\n",
              "\n",
              "          const docLinkHtml = 'Like what you see? Visit the ' +\n",
              "            '<a target=\"_blank\" href=https://colab.research.google.com/notebooks/data_table.ipynb>data table notebook</a>'\n",
              "            + ' to learn more about interactive tables.';\n",
              "          element.innerHTML = '';\n",
              "          dataTable['output_type'] = 'display_data';\n",
              "          await google.colab.output.renderOutput(dataTable, element);\n",
              "          const docLink = document.createElement('div');\n",
              "          docLink.innerHTML = docLinkHtml;\n",
              "          element.appendChild(docLink);\n",
              "        }\n",
              "      </script>\n",
              "    </div>\n",
              "  </div>\n",
              "  "
            ]
          },
          "metadata": {},
          "execution_count": 77
        }
      ]
    },
    {
      "cell_type": "code",
      "source": [
        "data.iloc[0, 2] = 90\n",
        "data"
      ],
      "metadata": {
        "colab": {
          "base_uri": "https://localhost:8080/",
          "height": 206
        },
        "id": "XJ7IdeA85Lws",
        "outputId": "854ec21e-fad2-47a7-ca51-64c5fff5fb6f"
      },
      "execution_count": null,
      "outputs": [
        {
          "output_type": "execute_result",
          "data": {
            "text/plain": [
              "              area       pop     density\n",
              "California  423967  38332521   90.000000\n",
              "Texas       695662  26448193   38.018740\n",
              "New York    141297  19651127  139.076746\n",
              "Florida     170312  19552860  114.806121\n",
              "Illinois    149995  12882135   85.883763"
            ],
            "text/html": [
              "\n",
              "  <div id=\"df-f72ad9c7-6fd1-408f-a6e8-a20f360c9eb2\">\n",
              "    <div class=\"colab-df-container\">\n",
              "      <div>\n",
              "<style scoped>\n",
              "    .dataframe tbody tr th:only-of-type {\n",
              "        vertical-align: middle;\n",
              "    }\n",
              "\n",
              "    .dataframe tbody tr th {\n",
              "        vertical-align: top;\n",
              "    }\n",
              "\n",
              "    .dataframe thead th {\n",
              "        text-align: right;\n",
              "    }\n",
              "</style>\n",
              "<table border=\"1\" class=\"dataframe\">\n",
              "  <thead>\n",
              "    <tr style=\"text-align: right;\">\n",
              "      <th></th>\n",
              "      <th>area</th>\n",
              "      <th>pop</th>\n",
              "      <th>density</th>\n",
              "    </tr>\n",
              "  </thead>\n",
              "  <tbody>\n",
              "    <tr>\n",
              "      <th>California</th>\n",
              "      <td>423967</td>\n",
              "      <td>38332521</td>\n",
              "      <td>90.000000</td>\n",
              "    </tr>\n",
              "    <tr>\n",
              "      <th>Texas</th>\n",
              "      <td>695662</td>\n",
              "      <td>26448193</td>\n",
              "      <td>38.018740</td>\n",
              "    </tr>\n",
              "    <tr>\n",
              "      <th>New York</th>\n",
              "      <td>141297</td>\n",
              "      <td>19651127</td>\n",
              "      <td>139.076746</td>\n",
              "    </tr>\n",
              "    <tr>\n",
              "      <th>Florida</th>\n",
              "      <td>170312</td>\n",
              "      <td>19552860</td>\n",
              "      <td>114.806121</td>\n",
              "    </tr>\n",
              "    <tr>\n",
              "      <th>Illinois</th>\n",
              "      <td>149995</td>\n",
              "      <td>12882135</td>\n",
              "      <td>85.883763</td>\n",
              "    </tr>\n",
              "  </tbody>\n",
              "</table>\n",
              "</div>\n",
              "      <button class=\"colab-df-convert\" onclick=\"convertToInteractive('df-f72ad9c7-6fd1-408f-a6e8-a20f360c9eb2')\"\n",
              "              title=\"Convert this dataframe to an interactive table.\"\n",
              "              style=\"display:none;\">\n",
              "        \n",
              "  <svg xmlns=\"http://www.w3.org/2000/svg\" height=\"24px\"viewBox=\"0 0 24 24\"\n",
              "       width=\"24px\">\n",
              "    <path d=\"M0 0h24v24H0V0z\" fill=\"none\"/>\n",
              "    <path d=\"M18.56 5.44l.94 2.06.94-2.06 2.06-.94-2.06-.94-.94-2.06-.94 2.06-2.06.94zm-11 1L8.5 8.5l.94-2.06 2.06-.94-2.06-.94L8.5 2.5l-.94 2.06-2.06.94zm10 10l.94 2.06.94-2.06 2.06-.94-2.06-.94-.94-2.06-.94 2.06-2.06.94z\"/><path d=\"M17.41 7.96l-1.37-1.37c-.4-.4-.92-.59-1.43-.59-.52 0-1.04.2-1.43.59L10.3 9.45l-7.72 7.72c-.78.78-.78 2.05 0 2.83L4 21.41c.39.39.9.59 1.41.59.51 0 1.02-.2 1.41-.59l7.78-7.78 2.81-2.81c.8-.78.8-2.07 0-2.86zM5.41 20L4 18.59l7.72-7.72 1.47 1.35L5.41 20z\"/>\n",
              "  </svg>\n",
              "      </button>\n",
              "      \n",
              "  <style>\n",
              "    .colab-df-container {\n",
              "      display:flex;\n",
              "      flex-wrap:wrap;\n",
              "      gap: 12px;\n",
              "    }\n",
              "\n",
              "    .colab-df-convert {\n",
              "      background-color: #E8F0FE;\n",
              "      border: none;\n",
              "      border-radius: 50%;\n",
              "      cursor: pointer;\n",
              "      display: none;\n",
              "      fill: #1967D2;\n",
              "      height: 32px;\n",
              "      padding: 0 0 0 0;\n",
              "      width: 32px;\n",
              "    }\n",
              "\n",
              "    .colab-df-convert:hover {\n",
              "      background-color: #E2EBFA;\n",
              "      box-shadow: 0px 1px 2px rgba(60, 64, 67, 0.3), 0px 1px 3px 1px rgba(60, 64, 67, 0.15);\n",
              "      fill: #174EA6;\n",
              "    }\n",
              "\n",
              "    [theme=dark] .colab-df-convert {\n",
              "      background-color: #3B4455;\n",
              "      fill: #D2E3FC;\n",
              "    }\n",
              "\n",
              "    [theme=dark] .colab-df-convert:hover {\n",
              "      background-color: #434B5C;\n",
              "      box-shadow: 0px 1px 3px 1px rgba(0, 0, 0, 0.15);\n",
              "      filter: drop-shadow(0px 1px 2px rgba(0, 0, 0, 0.3));\n",
              "      fill: #FFFFFF;\n",
              "    }\n",
              "  </style>\n",
              "\n",
              "      <script>\n",
              "        const buttonEl =\n",
              "          document.querySelector('#df-f72ad9c7-6fd1-408f-a6e8-a20f360c9eb2 button.colab-df-convert');\n",
              "        buttonEl.style.display =\n",
              "          google.colab.kernel.accessAllowed ? 'block' : 'none';\n",
              "\n",
              "        async function convertToInteractive(key) {\n",
              "          const element = document.querySelector('#df-f72ad9c7-6fd1-408f-a6e8-a20f360c9eb2');\n",
              "          const dataTable =\n",
              "            await google.colab.kernel.invokeFunction('convertToInteractive',\n",
              "                                                     [key], {});\n",
              "          if (!dataTable) return;\n",
              "\n",
              "          const docLinkHtml = 'Like what you see? Visit the ' +\n",
              "            '<a target=\"_blank\" href=https://colab.research.google.com/notebooks/data_table.ipynb>data table notebook</a>'\n",
              "            + ' to learn more about interactive tables.';\n",
              "          element.innerHTML = '';\n",
              "          dataTable['output_type'] = 'display_data';\n",
              "          await google.colab.output.renderOutput(dataTable, element);\n",
              "          const docLink = document.createElement('div');\n",
              "          docLink.innerHTML = docLinkHtml;\n",
              "          element.appendChild(docLink);\n",
              "        }\n",
              "      </script>\n",
              "    </div>\n",
              "  </div>\n",
              "  "
            ]
          },
          "metadata": {},
          "execution_count": 78
        }
      ]
    },
    {
      "cell_type": "code",
      "source": [
        "data['Florida':'Illinois']"
      ],
      "metadata": {
        "colab": {
          "base_uri": "https://localhost:8080/",
          "height": 112
        },
        "id": "e-dofRgA5QWo",
        "outputId": "b6c120db-4e77-4bff-97c1-d4fdab2fecf7"
      },
      "execution_count": null,
      "outputs": [
        {
          "output_type": "execute_result",
          "data": {
            "text/plain": [
              "            area       pop     density\n",
              "Florida   170312  19552860  114.806121\n",
              "Illinois  149995  12882135   85.883763"
            ],
            "text/html": [
              "\n",
              "  <div id=\"df-aaf7114d-76aa-4235-8e95-7ac18b6831c0\">\n",
              "    <div class=\"colab-df-container\">\n",
              "      <div>\n",
              "<style scoped>\n",
              "    .dataframe tbody tr th:only-of-type {\n",
              "        vertical-align: middle;\n",
              "    }\n",
              "\n",
              "    .dataframe tbody tr th {\n",
              "        vertical-align: top;\n",
              "    }\n",
              "\n",
              "    .dataframe thead th {\n",
              "        text-align: right;\n",
              "    }\n",
              "</style>\n",
              "<table border=\"1\" class=\"dataframe\">\n",
              "  <thead>\n",
              "    <tr style=\"text-align: right;\">\n",
              "      <th></th>\n",
              "      <th>area</th>\n",
              "      <th>pop</th>\n",
              "      <th>density</th>\n",
              "    </tr>\n",
              "  </thead>\n",
              "  <tbody>\n",
              "    <tr>\n",
              "      <th>Florida</th>\n",
              "      <td>170312</td>\n",
              "      <td>19552860</td>\n",
              "      <td>114.806121</td>\n",
              "    </tr>\n",
              "    <tr>\n",
              "      <th>Illinois</th>\n",
              "      <td>149995</td>\n",
              "      <td>12882135</td>\n",
              "      <td>85.883763</td>\n",
              "    </tr>\n",
              "  </tbody>\n",
              "</table>\n",
              "</div>\n",
              "      <button class=\"colab-df-convert\" onclick=\"convertToInteractive('df-aaf7114d-76aa-4235-8e95-7ac18b6831c0')\"\n",
              "              title=\"Convert this dataframe to an interactive table.\"\n",
              "              style=\"display:none;\">\n",
              "        \n",
              "  <svg xmlns=\"http://www.w3.org/2000/svg\" height=\"24px\"viewBox=\"0 0 24 24\"\n",
              "       width=\"24px\">\n",
              "    <path d=\"M0 0h24v24H0V0z\" fill=\"none\"/>\n",
              "    <path d=\"M18.56 5.44l.94 2.06.94-2.06 2.06-.94-2.06-.94-.94-2.06-.94 2.06-2.06.94zm-11 1L8.5 8.5l.94-2.06 2.06-.94-2.06-.94L8.5 2.5l-.94 2.06-2.06.94zm10 10l.94 2.06.94-2.06 2.06-.94-2.06-.94-.94-2.06-.94 2.06-2.06.94z\"/><path d=\"M17.41 7.96l-1.37-1.37c-.4-.4-.92-.59-1.43-.59-.52 0-1.04.2-1.43.59L10.3 9.45l-7.72 7.72c-.78.78-.78 2.05 0 2.83L4 21.41c.39.39.9.59 1.41.59.51 0 1.02-.2 1.41-.59l7.78-7.78 2.81-2.81c.8-.78.8-2.07 0-2.86zM5.41 20L4 18.59l7.72-7.72 1.47 1.35L5.41 20z\"/>\n",
              "  </svg>\n",
              "      </button>\n",
              "      \n",
              "  <style>\n",
              "    .colab-df-container {\n",
              "      display:flex;\n",
              "      flex-wrap:wrap;\n",
              "      gap: 12px;\n",
              "    }\n",
              "\n",
              "    .colab-df-convert {\n",
              "      background-color: #E8F0FE;\n",
              "      border: none;\n",
              "      border-radius: 50%;\n",
              "      cursor: pointer;\n",
              "      display: none;\n",
              "      fill: #1967D2;\n",
              "      height: 32px;\n",
              "      padding: 0 0 0 0;\n",
              "      width: 32px;\n",
              "    }\n",
              "\n",
              "    .colab-df-convert:hover {\n",
              "      background-color: #E2EBFA;\n",
              "      box-shadow: 0px 1px 2px rgba(60, 64, 67, 0.3), 0px 1px 3px 1px rgba(60, 64, 67, 0.15);\n",
              "      fill: #174EA6;\n",
              "    }\n",
              "\n",
              "    [theme=dark] .colab-df-convert {\n",
              "      background-color: #3B4455;\n",
              "      fill: #D2E3FC;\n",
              "    }\n",
              "\n",
              "    [theme=dark] .colab-df-convert:hover {\n",
              "      background-color: #434B5C;\n",
              "      box-shadow: 0px 1px 3px 1px rgba(0, 0, 0, 0.15);\n",
              "      filter: drop-shadow(0px 1px 2px rgba(0, 0, 0, 0.3));\n",
              "      fill: #FFFFFF;\n",
              "    }\n",
              "  </style>\n",
              "\n",
              "      <script>\n",
              "        const buttonEl =\n",
              "          document.querySelector('#df-aaf7114d-76aa-4235-8e95-7ac18b6831c0 button.colab-df-convert');\n",
              "        buttonEl.style.display =\n",
              "          google.colab.kernel.accessAllowed ? 'block' : 'none';\n",
              "\n",
              "        async function convertToInteractive(key) {\n",
              "          const element = document.querySelector('#df-aaf7114d-76aa-4235-8e95-7ac18b6831c0');\n",
              "          const dataTable =\n",
              "            await google.colab.kernel.invokeFunction('convertToInteractive',\n",
              "                                                     [key], {});\n",
              "          if (!dataTable) return;\n",
              "\n",
              "          const docLinkHtml = 'Like what you see? Visit the ' +\n",
              "            '<a target=\"_blank\" href=https://colab.research.google.com/notebooks/data_table.ipynb>data table notebook</a>'\n",
              "            + ' to learn more about interactive tables.';\n",
              "          element.innerHTML = '';\n",
              "          dataTable['output_type'] = 'display_data';\n",
              "          await google.colab.output.renderOutput(dataTable, element);\n",
              "          const docLink = document.createElement('div');\n",
              "          docLink.innerHTML = docLinkHtml;\n",
              "          element.appendChild(docLink);\n",
              "        }\n",
              "      </script>\n",
              "    </div>\n",
              "  </div>\n",
              "  "
            ]
          },
          "metadata": {},
          "execution_count": 79
        }
      ]
    },
    {
      "cell_type": "code",
      "source": [
        "data[1:3] # Such slices can also refer to rows by number rather than by index"
      ],
      "metadata": {
        "colab": {
          "base_uri": "https://localhost:8080/",
          "height": 112
        },
        "id": "_CGWUHTM5njR",
        "outputId": "6c401d4e-2923-43ff-da4d-0c8eaf299d45"
      },
      "execution_count": null,
      "outputs": [
        {
          "output_type": "execute_result",
          "data": {
            "text/plain": [
              "            area       pop     density\n",
              "Texas     695662  26448193   38.018740\n",
              "New York  141297  19651127  139.076746"
            ],
            "text/html": [
              "\n",
              "  <div id=\"df-854d3282-37b5-48bd-881a-979678f17e30\">\n",
              "    <div class=\"colab-df-container\">\n",
              "      <div>\n",
              "<style scoped>\n",
              "    .dataframe tbody tr th:only-of-type {\n",
              "        vertical-align: middle;\n",
              "    }\n",
              "\n",
              "    .dataframe tbody tr th {\n",
              "        vertical-align: top;\n",
              "    }\n",
              "\n",
              "    .dataframe thead th {\n",
              "        text-align: right;\n",
              "    }\n",
              "</style>\n",
              "<table border=\"1\" class=\"dataframe\">\n",
              "  <thead>\n",
              "    <tr style=\"text-align: right;\">\n",
              "      <th></th>\n",
              "      <th>area</th>\n",
              "      <th>pop</th>\n",
              "      <th>density</th>\n",
              "    </tr>\n",
              "  </thead>\n",
              "  <tbody>\n",
              "    <tr>\n",
              "      <th>Texas</th>\n",
              "      <td>695662</td>\n",
              "      <td>26448193</td>\n",
              "      <td>38.018740</td>\n",
              "    </tr>\n",
              "    <tr>\n",
              "      <th>New York</th>\n",
              "      <td>141297</td>\n",
              "      <td>19651127</td>\n",
              "      <td>139.076746</td>\n",
              "    </tr>\n",
              "  </tbody>\n",
              "</table>\n",
              "</div>\n",
              "      <button class=\"colab-df-convert\" onclick=\"convertToInteractive('df-854d3282-37b5-48bd-881a-979678f17e30')\"\n",
              "              title=\"Convert this dataframe to an interactive table.\"\n",
              "              style=\"display:none;\">\n",
              "        \n",
              "  <svg xmlns=\"http://www.w3.org/2000/svg\" height=\"24px\"viewBox=\"0 0 24 24\"\n",
              "       width=\"24px\">\n",
              "    <path d=\"M0 0h24v24H0V0z\" fill=\"none\"/>\n",
              "    <path d=\"M18.56 5.44l.94 2.06.94-2.06 2.06-.94-2.06-.94-.94-2.06-.94 2.06-2.06.94zm-11 1L8.5 8.5l.94-2.06 2.06-.94-2.06-.94L8.5 2.5l-.94 2.06-2.06.94zm10 10l.94 2.06.94-2.06 2.06-.94-2.06-.94-.94-2.06-.94 2.06-2.06.94z\"/><path d=\"M17.41 7.96l-1.37-1.37c-.4-.4-.92-.59-1.43-.59-.52 0-1.04.2-1.43.59L10.3 9.45l-7.72 7.72c-.78.78-.78 2.05 0 2.83L4 21.41c.39.39.9.59 1.41.59.51 0 1.02-.2 1.41-.59l7.78-7.78 2.81-2.81c.8-.78.8-2.07 0-2.86zM5.41 20L4 18.59l7.72-7.72 1.47 1.35L5.41 20z\"/>\n",
              "  </svg>\n",
              "      </button>\n",
              "      \n",
              "  <style>\n",
              "    .colab-df-container {\n",
              "      display:flex;\n",
              "      flex-wrap:wrap;\n",
              "      gap: 12px;\n",
              "    }\n",
              "\n",
              "    .colab-df-convert {\n",
              "      background-color: #E8F0FE;\n",
              "      border: none;\n",
              "      border-radius: 50%;\n",
              "      cursor: pointer;\n",
              "      display: none;\n",
              "      fill: #1967D2;\n",
              "      height: 32px;\n",
              "      padding: 0 0 0 0;\n",
              "      width: 32px;\n",
              "    }\n",
              "\n",
              "    .colab-df-convert:hover {\n",
              "      background-color: #E2EBFA;\n",
              "      box-shadow: 0px 1px 2px rgba(60, 64, 67, 0.3), 0px 1px 3px 1px rgba(60, 64, 67, 0.15);\n",
              "      fill: #174EA6;\n",
              "    }\n",
              "\n",
              "    [theme=dark] .colab-df-convert {\n",
              "      background-color: #3B4455;\n",
              "      fill: #D2E3FC;\n",
              "    }\n",
              "\n",
              "    [theme=dark] .colab-df-convert:hover {\n",
              "      background-color: #434B5C;\n",
              "      box-shadow: 0px 1px 3px 1px rgba(0, 0, 0, 0.15);\n",
              "      filter: drop-shadow(0px 1px 2px rgba(0, 0, 0, 0.3));\n",
              "      fill: #FFFFFF;\n",
              "    }\n",
              "  </style>\n",
              "\n",
              "      <script>\n",
              "        const buttonEl =\n",
              "          document.querySelector('#df-854d3282-37b5-48bd-881a-979678f17e30 button.colab-df-convert');\n",
              "        buttonEl.style.display =\n",
              "          google.colab.kernel.accessAllowed ? 'block' : 'none';\n",
              "\n",
              "        async function convertToInteractive(key) {\n",
              "          const element = document.querySelector('#df-854d3282-37b5-48bd-881a-979678f17e30');\n",
              "          const dataTable =\n",
              "            await google.colab.kernel.invokeFunction('convertToInteractive',\n",
              "                                                     [key], {});\n",
              "          if (!dataTable) return;\n",
              "\n",
              "          const docLinkHtml = 'Like what you see? Visit the ' +\n",
              "            '<a target=\"_blank\" href=https://colab.research.google.com/notebooks/data_table.ipynb>data table notebook</a>'\n",
              "            + ' to learn more about interactive tables.';\n",
              "          element.innerHTML = '';\n",
              "          dataTable['output_type'] = 'display_data';\n",
              "          await google.colab.output.renderOutput(dataTable, element);\n",
              "          const docLink = document.createElement('div');\n",
              "          docLink.innerHTML = docLinkHtml;\n",
              "          element.appendChild(docLink);\n",
              "        }\n",
              "      </script>\n",
              "    </div>\n",
              "  </div>\n",
              "  "
            ]
          },
          "metadata": {},
          "execution_count": 80
        }
      ]
    },
    {
      "cell_type": "markdown",
      "source": [
        "# loc and iloc\n",
        "![1.jpg](data:image/jpeg;base64,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)"
      ],
      "metadata": {
        "id": "iiNk1jfTJIut"
      }
    },
    {
      "cell_type": "markdown",
      "source": [
        "#Operating on Data in Pandas"
      ],
      "metadata": {
        "id": "gil348Yd6D5C"
      }
    },
    {
      "cell_type": "code",
      "source": [
        "import pandas as pd\n",
        "import numpy as np"
      ],
      "metadata": {
        "id": "B2c4res16ILQ"
      },
      "execution_count": null,
      "outputs": []
    },
    {
      "cell_type": "code",
      "source": [
        "rng = np.random.RandomState(8)\n",
        "ser = pd.Series(rng.randint(0, 10, 4))\n",
        "ser"
      ],
      "metadata": {
        "colab": {
          "base_uri": "https://localhost:8080/"
        },
        "id": "jaWIO4CV8XOo",
        "outputId": "c052c3fa-8075-4dac-c73a-fa1c1c1ae587"
      },
      "execution_count": null,
      "outputs": [
        {
          "output_type": "execute_result",
          "data": {
            "text/plain": [
              "0    3\n",
              "1    4\n",
              "2    1\n",
              "3    9\n",
              "dtype: int64"
            ]
          },
          "metadata": {},
          "execution_count": 83
        }
      ]
    },
    {
      "cell_type": "code",
      "source": [
        "df = pd.DataFrame(rng.randint(0, 10, (3, 4)),\n",
        "columns=['A', 'B', 'C', 'D'])\n",
        "df"
      ],
      "metadata": {
        "colab": {
          "base_uri": "https://localhost:8080/",
          "height": 143
        },
        "id": "3qm4N5nI8hdm",
        "outputId": "c7289142-fcd1-4f2b-f7c4-647c27496a28"
      },
      "execution_count": null,
      "outputs": [
        {
          "output_type": "execute_result",
          "data": {
            "text/plain": [
              "   A  B  C  D\n",
              "0  5  8  3  8\n",
              "1  0  5  1  3\n",
              "2  9  2  2  6"
            ],
            "text/html": [
              "\n",
              "  <div id=\"df-38c16727-2395-4878-a724-d768f88c71bf\">\n",
              "    <div class=\"colab-df-container\">\n",
              "      <div>\n",
              "<style scoped>\n",
              "    .dataframe tbody tr th:only-of-type {\n",
              "        vertical-align: middle;\n",
              "    }\n",
              "\n",
              "    .dataframe tbody tr th {\n",
              "        vertical-align: top;\n",
              "    }\n",
              "\n",
              "    .dataframe thead th {\n",
              "        text-align: right;\n",
              "    }\n",
              "</style>\n",
              "<table border=\"1\" class=\"dataframe\">\n",
              "  <thead>\n",
              "    <tr style=\"text-align: right;\">\n",
              "      <th></th>\n",
              "      <th>A</th>\n",
              "      <th>B</th>\n",
              "      <th>C</th>\n",
              "      <th>D</th>\n",
              "    </tr>\n",
              "  </thead>\n",
              "  <tbody>\n",
              "    <tr>\n",
              "      <th>0</th>\n",
              "      <td>5</td>\n",
              "      <td>8</td>\n",
              "      <td>3</td>\n",
              "      <td>8</td>\n",
              "    </tr>\n",
              "    <tr>\n",
              "      <th>1</th>\n",
              "      <td>0</td>\n",
              "      <td>5</td>\n",
              "      <td>1</td>\n",
              "      <td>3</td>\n",
              "    </tr>\n",
              "    <tr>\n",
              "      <th>2</th>\n",
              "      <td>9</td>\n",
              "      <td>2</td>\n",
              "      <td>2</td>\n",
              "      <td>6</td>\n",
              "    </tr>\n",
              "  </tbody>\n",
              "</table>\n",
              "</div>\n",
              "      <button class=\"colab-df-convert\" onclick=\"convertToInteractive('df-38c16727-2395-4878-a724-d768f88c71bf')\"\n",
              "              title=\"Convert this dataframe to an interactive table.\"\n",
              "              style=\"display:none;\">\n",
              "        \n",
              "  <svg xmlns=\"http://www.w3.org/2000/svg\" height=\"24px\"viewBox=\"0 0 24 24\"\n",
              "       width=\"24px\">\n",
              "    <path d=\"M0 0h24v24H0V0z\" fill=\"none\"/>\n",
              "    <path d=\"M18.56 5.44l.94 2.06.94-2.06 2.06-.94-2.06-.94-.94-2.06-.94 2.06-2.06.94zm-11 1L8.5 8.5l.94-2.06 2.06-.94-2.06-.94L8.5 2.5l-.94 2.06-2.06.94zm10 10l.94 2.06.94-2.06 2.06-.94-2.06-.94-.94-2.06-.94 2.06-2.06.94z\"/><path d=\"M17.41 7.96l-1.37-1.37c-.4-.4-.92-.59-1.43-.59-.52 0-1.04.2-1.43.59L10.3 9.45l-7.72 7.72c-.78.78-.78 2.05 0 2.83L4 21.41c.39.39.9.59 1.41.59.51 0 1.02-.2 1.41-.59l7.78-7.78 2.81-2.81c.8-.78.8-2.07 0-2.86zM5.41 20L4 18.59l7.72-7.72 1.47 1.35L5.41 20z\"/>\n",
              "  </svg>\n",
              "      </button>\n",
              "      \n",
              "  <style>\n",
              "    .colab-df-container {\n",
              "      display:flex;\n",
              "      flex-wrap:wrap;\n",
              "      gap: 12px;\n",
              "    }\n",
              "\n",
              "    .colab-df-convert {\n",
              "      background-color: #E8F0FE;\n",
              "      border: none;\n",
              "      border-radius: 50%;\n",
              "      cursor: pointer;\n",
              "      display: none;\n",
              "      fill: #1967D2;\n",
              "      height: 32px;\n",
              "      padding: 0 0 0 0;\n",
              "      width: 32px;\n",
              "    }\n",
              "\n",
              "    .colab-df-convert:hover {\n",
              "      background-color: #E2EBFA;\n",
              "      box-shadow: 0px 1px 2px rgba(60, 64, 67, 0.3), 0px 1px 3px 1px rgba(60, 64, 67, 0.15);\n",
              "      fill: #174EA6;\n",
              "    }\n",
              "\n",
              "    [theme=dark] .colab-df-convert {\n",
              "      background-color: #3B4455;\n",
              "      fill: #D2E3FC;\n",
              "    }\n",
              "\n",
              "    [theme=dark] .colab-df-convert:hover {\n",
              "      background-color: #434B5C;\n",
              "      box-shadow: 0px 1px 3px 1px rgba(0, 0, 0, 0.15);\n",
              "      filter: drop-shadow(0px 1px 2px rgba(0, 0, 0, 0.3));\n",
              "      fill: #FFFFFF;\n",
              "    }\n",
              "  </style>\n",
              "\n",
              "      <script>\n",
              "        const buttonEl =\n",
              "          document.querySelector('#df-38c16727-2395-4878-a724-d768f88c71bf button.colab-df-convert');\n",
              "        buttonEl.style.display =\n",
              "          google.colab.kernel.accessAllowed ? 'block' : 'none';\n",
              "\n",
              "        async function convertToInteractive(key) {\n",
              "          const element = document.querySelector('#df-38c16727-2395-4878-a724-d768f88c71bf');\n",
              "          const dataTable =\n",
              "            await google.colab.kernel.invokeFunction('convertToInteractive',\n",
              "                                                     [key], {});\n",
              "          if (!dataTable) return;\n",
              "\n",
              "          const docLinkHtml = 'Like what you see? Visit the ' +\n",
              "            '<a target=\"_blank\" href=https://colab.research.google.com/notebooks/data_table.ipynb>data table notebook</a>'\n",
              "            + ' to learn more about interactive tables.';\n",
              "          element.innerHTML = '';\n",
              "          dataTable['output_type'] = 'display_data';\n",
              "          await google.colab.output.renderOutput(dataTable, element);\n",
              "          const docLink = document.createElement('div');\n",
              "          docLink.innerHTML = docLinkHtml;\n",
              "          element.appendChild(docLink);\n",
              "        }\n",
              "      </script>\n",
              "    </div>\n",
              "  </div>\n",
              "  "
            ]
          },
          "metadata": {},
          "execution_count": 84
        }
      ]
    },
    {
      "cell_type": "code",
      "source": [
        "area = pd.Series({'Alaska': 1723337, 'Texas': 695662,'California': 423967}, name='area')\n",
        "population = pd.Series({'California': 38332521, 'Texas': 26448193,'New York': 19651127}, name='population')"
      ],
      "metadata": {
        "id": "Rb5Uvt1F9H4R"
      },
      "execution_count": null,
      "outputs": []
    },
    {
      "cell_type": "code",
      "source": [
        "population / area"
      ],
      "metadata": {
        "colab": {
          "base_uri": "https://localhost:8080/"
        },
        "id": "vc2AR6tb9qe4",
        "outputId": "adf7ade7-7ee5-42ab-f972-6fae180258bd"
      },
      "execution_count": null,
      "outputs": [
        {
          "output_type": "execute_result",
          "data": {
            "text/plain": [
              "Alaska              NaN\n",
              "California    90.413926\n",
              "New York            NaN\n",
              "Texas         38.018740\n",
              "dtype: float64"
            ]
          },
          "metadata": {},
          "execution_count": 86
        }
      ]
    },
    {
      "cell_type": "code",
      "source": [
        "A = pd.Series([2, 4, 6], index=[0, 1, 2])\n",
        "A"
      ],
      "metadata": {
        "colab": {
          "base_uri": "https://localhost:8080/"
        },
        "id": "mcmJn9wj9sl1",
        "outputId": "2fa4f116-b70c-4803-a4d8-9359243acd84"
      },
      "execution_count": null,
      "outputs": [
        {
          "output_type": "execute_result",
          "data": {
            "text/plain": [
              "0    2\n",
              "1    4\n",
              "2    6\n",
              "dtype: int64"
            ]
          },
          "metadata": {},
          "execution_count": 87
        }
      ]
    },
    {
      "cell_type": "code",
      "source": [
        "B = pd.Series([1, 3, 5], index=[1, 2, 3])\n",
        "B"
      ],
      "metadata": {
        "colab": {
          "base_uri": "https://localhost:8080/"
        },
        "id": "CQJRuDQD-IA6",
        "outputId": "7af9b8e3-4e6a-4673-80ea-bb617f5f2f36"
      },
      "execution_count": null,
      "outputs": [
        {
          "output_type": "execute_result",
          "data": {
            "text/plain": [
              "1    1\n",
              "2    3\n",
              "3    5\n",
              "dtype: int64"
            ]
          },
          "metadata": {},
          "execution_count": 88
        }
      ]
    },
    {
      "cell_type": "code",
      "source": [
        "A+B"
      ],
      "metadata": {
        "colab": {
          "base_uri": "https://localhost:8080/"
        },
        "id": "nuhqHBv6-T7G",
        "outputId": "58a50131-982e-4c3c-a248-0ed06a021f60"
      },
      "execution_count": null,
      "outputs": [
        {
          "output_type": "execute_result",
          "data": {
            "text/plain": [
              "0    NaN\n",
              "1    5.0\n",
              "2    9.0\n",
              "3    NaN\n",
              "dtype: float64"
            ]
          },
          "metadata": {},
          "execution_count": 89
        }
      ]
    },
    {
      "cell_type": "code",
      "source": [
        "A.add(B, fill_value=0) #For example, calling A.add(B)\n",
        "#is equivalent to calling A + B"
      ],
      "metadata": {
        "colab": {
          "base_uri": "https://localhost:8080/"
        },
        "id": "F_hNIWbV-XW7",
        "outputId": "46070aab-1790-491a-cb20-1e4439d6383b"
      },
      "execution_count": null,
      "outputs": [
        {
          "output_type": "execute_result",
          "data": {
            "text/plain": [
              "0    2.0\n",
              "1    5.0\n",
              "2    9.0\n",
              "3    5.0\n",
              "dtype: float64"
            ]
          },
          "metadata": {},
          "execution_count": 90
        }
      ]
    },
    {
      "cell_type": "code",
      "source": [
        "A = pd.DataFrame(rng.randint(0, 20, (2, 2)),columns=list('AB')) #Index alignment in DataFrame\n",
        "A"
      ],
      "metadata": {
        "colab": {
          "base_uri": "https://localhost:8080/",
          "height": 112
        },
        "id": "YaUS3yCF_IIa",
        "outputId": "d6478edd-c924-4be2-c1f7-2bba4fe6b727"
      },
      "execution_count": null,
      "outputs": [
        {
          "output_type": "execute_result",
          "data": {
            "text/plain": [
              "   A   B\n",
              "0  9  19\n",
              "1  4   7"
            ],
            "text/html": [
              "\n",
              "  <div id=\"df-a8034f38-97dd-41bc-86bf-774f7deea78c\">\n",
              "    <div class=\"colab-df-container\">\n",
              "      <div>\n",
              "<style scoped>\n",
              "    .dataframe tbody tr th:only-of-type {\n",
              "        vertical-align: middle;\n",
              "    }\n",
              "\n",
              "    .dataframe tbody tr th {\n",
              "        vertical-align: top;\n",
              "    }\n",
              "\n",
              "    .dataframe thead th {\n",
              "        text-align: right;\n",
              "    }\n",
              "</style>\n",
              "<table border=\"1\" class=\"dataframe\">\n",
              "  <thead>\n",
              "    <tr style=\"text-align: right;\">\n",
              "      <th></th>\n",
              "      <th>A</th>\n",
              "      <th>B</th>\n",
              "    </tr>\n",
              "  </thead>\n",
              "  <tbody>\n",
              "    <tr>\n",
              "      <th>0</th>\n",
              "      <td>9</td>\n",
              "      <td>19</td>\n",
              "    </tr>\n",
              "    <tr>\n",
              "      <th>1</th>\n",
              "      <td>4</td>\n",
              "      <td>7</td>\n",
              "    </tr>\n",
              "  </tbody>\n",
              "</table>\n",
              "</div>\n",
              "      <button class=\"colab-df-convert\" onclick=\"convertToInteractive('df-a8034f38-97dd-41bc-86bf-774f7deea78c')\"\n",
              "              title=\"Convert this dataframe to an interactive table.\"\n",
              "              style=\"display:none;\">\n",
              "        \n",
              "  <svg xmlns=\"http://www.w3.org/2000/svg\" height=\"24px\"viewBox=\"0 0 24 24\"\n",
              "       width=\"24px\">\n",
              "    <path d=\"M0 0h24v24H0V0z\" fill=\"none\"/>\n",
              "    <path d=\"M18.56 5.44l.94 2.06.94-2.06 2.06-.94-2.06-.94-.94-2.06-.94 2.06-2.06.94zm-11 1L8.5 8.5l.94-2.06 2.06-.94-2.06-.94L8.5 2.5l-.94 2.06-2.06.94zm10 10l.94 2.06.94-2.06 2.06-.94-2.06-.94-.94-2.06-.94 2.06-2.06.94z\"/><path d=\"M17.41 7.96l-1.37-1.37c-.4-.4-.92-.59-1.43-.59-.52 0-1.04.2-1.43.59L10.3 9.45l-7.72 7.72c-.78.78-.78 2.05 0 2.83L4 21.41c.39.39.9.59 1.41.59.51 0 1.02-.2 1.41-.59l7.78-7.78 2.81-2.81c.8-.78.8-2.07 0-2.86zM5.41 20L4 18.59l7.72-7.72 1.47 1.35L5.41 20z\"/>\n",
              "  </svg>\n",
              "      </button>\n",
              "      \n",
              "  <style>\n",
              "    .colab-df-container {\n",
              "      display:flex;\n",
              "      flex-wrap:wrap;\n",
              "      gap: 12px;\n",
              "    }\n",
              "\n",
              "    .colab-df-convert {\n",
              "      background-color: #E8F0FE;\n",
              "      border: none;\n",
              "      border-radius: 50%;\n",
              "      cursor: pointer;\n",
              "      display: none;\n",
              "      fill: #1967D2;\n",
              "      height: 32px;\n",
              "      padding: 0 0 0 0;\n",
              "      width: 32px;\n",
              "    }\n",
              "\n",
              "    .colab-df-convert:hover {\n",
              "      background-color: #E2EBFA;\n",
              "      box-shadow: 0px 1px 2px rgba(60, 64, 67, 0.3), 0px 1px 3px 1px rgba(60, 64, 67, 0.15);\n",
              "      fill: #174EA6;\n",
              "    }\n",
              "\n",
              "    [theme=dark] .colab-df-convert {\n",
              "      background-color: #3B4455;\n",
              "      fill: #D2E3FC;\n",
              "    }\n",
              "\n",
              "    [theme=dark] .colab-df-convert:hover {\n",
              "      background-color: #434B5C;\n",
              "      box-shadow: 0px 1px 3px 1px rgba(0, 0, 0, 0.15);\n",
              "      filter: drop-shadow(0px 1px 2px rgba(0, 0, 0, 0.3));\n",
              "      fill: #FFFFFF;\n",
              "    }\n",
              "  </style>\n",
              "\n",
              "      <script>\n",
              "        const buttonEl =\n",
              "          document.querySelector('#df-a8034f38-97dd-41bc-86bf-774f7deea78c button.colab-df-convert');\n",
              "        buttonEl.style.display =\n",
              "          google.colab.kernel.accessAllowed ? 'block' : 'none';\n",
              "\n",
              "        async function convertToInteractive(key) {\n",
              "          const element = document.querySelector('#df-a8034f38-97dd-41bc-86bf-774f7deea78c');\n",
              "          const dataTable =\n",
              "            await google.colab.kernel.invokeFunction('convertToInteractive',\n",
              "                                                     [key], {});\n",
              "          if (!dataTable) return;\n",
              "\n",
              "          const docLinkHtml = 'Like what you see? Visit the ' +\n",
              "            '<a target=\"_blank\" href=https://colab.research.google.com/notebooks/data_table.ipynb>data table notebook</a>'\n",
              "            + ' to learn more about interactive tables.';\n",
              "          element.innerHTML = '';\n",
              "          dataTable['output_type'] = 'display_data';\n",
              "          await google.colab.output.renderOutput(dataTable, element);\n",
              "          const docLink = document.createElement('div');\n",
              "          docLink.innerHTML = docLinkHtml;\n",
              "          element.appendChild(docLink);\n",
              "        }\n",
              "      </script>\n",
              "    </div>\n",
              "  </div>\n",
              "  "
            ]
          },
          "metadata": {},
          "execution_count": 91
        }
      ]
    },
    {
      "cell_type": "code",
      "source": [
        "B = pd.DataFrame(rng.randint(0, 10, (3, 3)),columns=list('BAC'))\n",
        "B"
      ],
      "metadata": {
        "colab": {
          "base_uri": "https://localhost:8080/",
          "height": 143
        },
        "id": "bKk4PbkWACEc",
        "outputId": "689f7d29-8645-4777-eaaf-309beb3aecf0"
      },
      "execution_count": null,
      "outputs": [
        {
          "output_type": "execute_result",
          "data": {
            "text/plain": [
              "   B  A  C\n",
              "0  9  2  6\n",
              "1  9  5  1\n",
              "2  6  4  5"
            ],
            "text/html": [
              "\n",
              "  <div id=\"df-e37c874a-8cba-4078-894a-d7e2f9997a37\">\n",
              "    <div class=\"colab-df-container\">\n",
              "      <div>\n",
              "<style scoped>\n",
              "    .dataframe tbody tr th:only-of-type {\n",
              "        vertical-align: middle;\n",
              "    }\n",
              "\n",
              "    .dataframe tbody tr th {\n",
              "        vertical-align: top;\n",
              "    }\n",
              "\n",
              "    .dataframe thead th {\n",
              "        text-align: right;\n",
              "    }\n",
              "</style>\n",
              "<table border=\"1\" class=\"dataframe\">\n",
              "  <thead>\n",
              "    <tr style=\"text-align: right;\">\n",
              "      <th></th>\n",
              "      <th>B</th>\n",
              "      <th>A</th>\n",
              "      <th>C</th>\n",
              "    </tr>\n",
              "  </thead>\n",
              "  <tbody>\n",
              "    <tr>\n",
              "      <th>0</th>\n",
              "      <td>9</td>\n",
              "      <td>2</td>\n",
              "      <td>6</td>\n",
              "    </tr>\n",
              "    <tr>\n",
              "      <th>1</th>\n",
              "      <td>9</td>\n",
              "      <td>5</td>\n",
              "      <td>1</td>\n",
              "    </tr>\n",
              "    <tr>\n",
              "      <th>2</th>\n",
              "      <td>6</td>\n",
              "      <td>4</td>\n",
              "      <td>5</td>\n",
              "    </tr>\n",
              "  </tbody>\n",
              "</table>\n",
              "</div>\n",
              "      <button class=\"colab-df-convert\" onclick=\"convertToInteractive('df-e37c874a-8cba-4078-894a-d7e2f9997a37')\"\n",
              "              title=\"Convert this dataframe to an interactive table.\"\n",
              "              style=\"display:none;\">\n",
              "        \n",
              "  <svg xmlns=\"http://www.w3.org/2000/svg\" height=\"24px\"viewBox=\"0 0 24 24\"\n",
              "       width=\"24px\">\n",
              "    <path d=\"M0 0h24v24H0V0z\" fill=\"none\"/>\n",
              "    <path d=\"M18.56 5.44l.94 2.06.94-2.06 2.06-.94-2.06-.94-.94-2.06-.94 2.06-2.06.94zm-11 1L8.5 8.5l.94-2.06 2.06-.94-2.06-.94L8.5 2.5l-.94 2.06-2.06.94zm10 10l.94 2.06.94-2.06 2.06-.94-2.06-.94-.94-2.06-.94 2.06-2.06.94z\"/><path d=\"M17.41 7.96l-1.37-1.37c-.4-.4-.92-.59-1.43-.59-.52 0-1.04.2-1.43.59L10.3 9.45l-7.72 7.72c-.78.78-.78 2.05 0 2.83L4 21.41c.39.39.9.59 1.41.59.51 0 1.02-.2 1.41-.59l7.78-7.78 2.81-2.81c.8-.78.8-2.07 0-2.86zM5.41 20L4 18.59l7.72-7.72 1.47 1.35L5.41 20z\"/>\n",
              "  </svg>\n",
              "      </button>\n",
              "      \n",
              "  <style>\n",
              "    .colab-df-container {\n",
              "      display:flex;\n",
              "      flex-wrap:wrap;\n",
              "      gap: 12px;\n",
              "    }\n",
              "\n",
              "    .colab-df-convert {\n",
              "      background-color: #E8F0FE;\n",
              "      border: none;\n",
              "      border-radius: 50%;\n",
              "      cursor: pointer;\n",
              "      display: none;\n",
              "      fill: #1967D2;\n",
              "      height: 32px;\n",
              "      padding: 0 0 0 0;\n",
              "      width: 32px;\n",
              "    }\n",
              "\n",
              "    .colab-df-convert:hover {\n",
              "      background-color: #E2EBFA;\n",
              "      box-shadow: 0px 1px 2px rgba(60, 64, 67, 0.3), 0px 1px 3px 1px rgba(60, 64, 67, 0.15);\n",
              "      fill: #174EA6;\n",
              "    }\n",
              "\n",
              "    [theme=dark] .colab-df-convert {\n",
              "      background-color: #3B4455;\n",
              "      fill: #D2E3FC;\n",
              "    }\n",
              "\n",
              "    [theme=dark] .colab-df-convert:hover {\n",
              "      background-color: #434B5C;\n",
              "      box-shadow: 0px 1px 3px 1px rgba(0, 0, 0, 0.15);\n",
              "      filter: drop-shadow(0px 1px 2px rgba(0, 0, 0, 0.3));\n",
              "      fill: #FFFFFF;\n",
              "    }\n",
              "  </style>\n",
              "\n",
              "      <script>\n",
              "        const buttonEl =\n",
              "          document.querySelector('#df-e37c874a-8cba-4078-894a-d7e2f9997a37 button.colab-df-convert');\n",
              "        buttonEl.style.display =\n",
              "          google.colab.kernel.accessAllowed ? 'block' : 'none';\n",
              "\n",
              "        async function convertToInteractive(key) {\n",
              "          const element = document.querySelector('#df-e37c874a-8cba-4078-894a-d7e2f9997a37');\n",
              "          const dataTable =\n",
              "            await google.colab.kernel.invokeFunction('convertToInteractive',\n",
              "                                                     [key], {});\n",
              "          if (!dataTable) return;\n",
              "\n",
              "          const docLinkHtml = 'Like what you see? Visit the ' +\n",
              "            '<a target=\"_blank\" href=https://colab.research.google.com/notebooks/data_table.ipynb>data table notebook</a>'\n",
              "            + ' to learn more about interactive tables.';\n",
              "          element.innerHTML = '';\n",
              "          dataTable['output_type'] = 'display_data';\n",
              "          await google.colab.output.renderOutput(dataTable, element);\n",
              "          const docLink = document.createElement('div');\n",
              "          docLink.innerHTML = docLinkHtml;\n",
              "          element.appendChild(docLink);\n",
              "        }\n",
              "      </script>\n",
              "    </div>\n",
              "  </div>\n",
              "  "
            ]
          },
          "metadata": {},
          "execution_count": 92
        }
      ]
    },
    {
      "cell_type": "code",
      "source": [
        "A + B"
      ],
      "metadata": {
        "colab": {
          "base_uri": "https://localhost:8080/",
          "height": 143
        },
        "id": "E6pL3jWlAMP2",
        "outputId": "79676660-b381-48be-d2c6-689a223657b7"
      },
      "execution_count": null,
      "outputs": [
        {
          "output_type": "execute_result",
          "data": {
            "text/plain": [
              "      A     B   C\n",
              "0  11.0  28.0 NaN\n",
              "1   9.0  16.0 NaN\n",
              "2   NaN   NaN NaN"
            ],
            "text/html": [
              "\n",
              "  <div id=\"df-739bfc45-fa8e-4eef-8953-6b0d9a9c968e\">\n",
              "    <div class=\"colab-df-container\">\n",
              "      <div>\n",
              "<style scoped>\n",
              "    .dataframe tbody tr th:only-of-type {\n",
              "        vertical-align: middle;\n",
              "    }\n",
              "\n",
              "    .dataframe tbody tr th {\n",
              "        vertical-align: top;\n",
              "    }\n",
              "\n",
              "    .dataframe thead th {\n",
              "        text-align: right;\n",
              "    }\n",
              "</style>\n",
              "<table border=\"1\" class=\"dataframe\">\n",
              "  <thead>\n",
              "    <tr style=\"text-align: right;\">\n",
              "      <th></th>\n",
              "      <th>A</th>\n",
              "      <th>B</th>\n",
              "      <th>C</th>\n",
              "    </tr>\n",
              "  </thead>\n",
              "  <tbody>\n",
              "    <tr>\n",
              "      <th>0</th>\n",
              "      <td>11.0</td>\n",
              "      <td>28.0</td>\n",
              "      <td>NaN</td>\n",
              "    </tr>\n",
              "    <tr>\n",
              "      <th>1</th>\n",
              "      <td>9.0</td>\n",
              "      <td>16.0</td>\n",
              "      <td>NaN</td>\n",
              "    </tr>\n",
              "    <tr>\n",
              "      <th>2</th>\n",
              "      <td>NaN</td>\n",
              "      <td>NaN</td>\n",
              "      <td>NaN</td>\n",
              "    </tr>\n",
              "  </tbody>\n",
              "</table>\n",
              "</div>\n",
              "      <button class=\"colab-df-convert\" onclick=\"convertToInteractive('df-739bfc45-fa8e-4eef-8953-6b0d9a9c968e')\"\n",
              "              title=\"Convert this dataframe to an interactive table.\"\n",
              "              style=\"display:none;\">\n",
              "        \n",
              "  <svg xmlns=\"http://www.w3.org/2000/svg\" height=\"24px\"viewBox=\"0 0 24 24\"\n",
              "       width=\"24px\">\n",
              "    <path d=\"M0 0h24v24H0V0z\" fill=\"none\"/>\n",
              "    <path d=\"M18.56 5.44l.94 2.06.94-2.06 2.06-.94-2.06-.94-.94-2.06-.94 2.06-2.06.94zm-11 1L8.5 8.5l.94-2.06 2.06-.94-2.06-.94L8.5 2.5l-.94 2.06-2.06.94zm10 10l.94 2.06.94-2.06 2.06-.94-2.06-.94-.94-2.06-.94 2.06-2.06.94z\"/><path d=\"M17.41 7.96l-1.37-1.37c-.4-.4-.92-.59-1.43-.59-.52 0-1.04.2-1.43.59L10.3 9.45l-7.72 7.72c-.78.78-.78 2.05 0 2.83L4 21.41c.39.39.9.59 1.41.59.51 0 1.02-.2 1.41-.59l7.78-7.78 2.81-2.81c.8-.78.8-2.07 0-2.86zM5.41 20L4 18.59l7.72-7.72 1.47 1.35L5.41 20z\"/>\n",
              "  </svg>\n",
              "      </button>\n",
              "      \n",
              "  <style>\n",
              "    .colab-df-container {\n",
              "      display:flex;\n",
              "      flex-wrap:wrap;\n",
              "      gap: 12px;\n",
              "    }\n",
              "\n",
              "    .colab-df-convert {\n",
              "      background-color: #E8F0FE;\n",
              "      border: none;\n",
              "      border-radius: 50%;\n",
              "      cursor: pointer;\n",
              "      display: none;\n",
              "      fill: #1967D2;\n",
              "      height: 32px;\n",
              "      padding: 0 0 0 0;\n",
              "      width: 32px;\n",
              "    }\n",
              "\n",
              "    .colab-df-convert:hover {\n",
              "      background-color: #E2EBFA;\n",
              "      box-shadow: 0px 1px 2px rgba(60, 64, 67, 0.3), 0px 1px 3px 1px rgba(60, 64, 67, 0.15);\n",
              "      fill: #174EA6;\n",
              "    }\n",
              "\n",
              "    [theme=dark] .colab-df-convert {\n",
              "      background-color: #3B4455;\n",
              "      fill: #D2E3FC;\n",
              "    }\n",
              "\n",
              "    [theme=dark] .colab-df-convert:hover {\n",
              "      background-color: #434B5C;\n",
              "      box-shadow: 0px 1px 3px 1px rgba(0, 0, 0, 0.15);\n",
              "      filter: drop-shadow(0px 1px 2px rgba(0, 0, 0, 0.3));\n",
              "      fill: #FFFFFF;\n",
              "    }\n",
              "  </style>\n",
              "\n",
              "      <script>\n",
              "        const buttonEl =\n",
              "          document.querySelector('#df-739bfc45-fa8e-4eef-8953-6b0d9a9c968e button.colab-df-convert');\n",
              "        buttonEl.style.display =\n",
              "          google.colab.kernel.accessAllowed ? 'block' : 'none';\n",
              "\n",
              "        async function convertToInteractive(key) {\n",
              "          const element = document.querySelector('#df-739bfc45-fa8e-4eef-8953-6b0d9a9c968e');\n",
              "          const dataTable =\n",
              "            await google.colab.kernel.invokeFunction('convertToInteractive',\n",
              "                                                     [key], {});\n",
              "          if (!dataTable) return;\n",
              "\n",
              "          const docLinkHtml = 'Like what you see? Visit the ' +\n",
              "            '<a target=\"_blank\" href=https://colab.research.google.com/notebooks/data_table.ipynb>data table notebook</a>'\n",
              "            + ' to learn more about interactive tables.';\n",
              "          element.innerHTML = '';\n",
              "          dataTable['output_type'] = 'display_data';\n",
              "          await google.colab.output.renderOutput(dataTable, element);\n",
              "          const docLink = document.createElement('div');\n",
              "          docLink.innerHTML = docLinkHtml;\n",
              "          element.appendChild(docLink);\n",
              "        }\n",
              "      </script>\n",
              "    </div>\n",
              "  </div>\n",
              "  "
            ]
          },
          "metadata": {},
          "execution_count": 93
        }
      ]
    },
    {
      "cell_type": "code",
      "source": [
        "fill = A.stack().mean() #find the mean value in A then add that value"
      ],
      "metadata": {
        "id": "Bydhs18kAPgt"
      },
      "execution_count": null,
      "outputs": []
    },
    {
      "cell_type": "code",
      "source": [
        "fill"
      ],
      "metadata": {
        "colab": {
          "base_uri": "https://localhost:8080/"
        },
        "id": "pYdc7nDeBIYh",
        "outputId": "ecd78499-22fe-4289-9a2c-203abc9b2efe"
      },
      "execution_count": null,
      "outputs": [
        {
          "output_type": "execute_result",
          "data": {
            "text/plain": [
              "9.75"
            ]
          },
          "metadata": {},
          "execution_count": 95
        }
      ]
    },
    {
      "cell_type": "code",
      "source": [
        "A.add(B, fill_value=fill)"
      ],
      "metadata": {
        "colab": {
          "base_uri": "https://localhost:8080/",
          "height": 143
        },
        "id": "cdmEhE6XBJ4U",
        "outputId": "98c2441a-b53e-4e7b-9131-08159e56bafc"
      },
      "execution_count": null,
      "outputs": [
        {
          "output_type": "execute_result",
          "data": {
            "text/plain": [
              "       A      B      C\n",
              "0  11.00  28.00  15.75\n",
              "1   9.00  16.00  10.75\n",
              "2  13.75  15.75  14.75"
            ],
            "text/html": [
              "\n",
              "  <div id=\"df-15914a91-6716-4bfb-9326-6a15be17488a\">\n",
              "    <div class=\"colab-df-container\">\n",
              "      <div>\n",
              "<style scoped>\n",
              "    .dataframe tbody tr th:only-of-type {\n",
              "        vertical-align: middle;\n",
              "    }\n",
              "\n",
              "    .dataframe tbody tr th {\n",
              "        vertical-align: top;\n",
              "    }\n",
              "\n",
              "    .dataframe thead th {\n",
              "        text-align: right;\n",
              "    }\n",
              "</style>\n",
              "<table border=\"1\" class=\"dataframe\">\n",
              "  <thead>\n",
              "    <tr style=\"text-align: right;\">\n",
              "      <th></th>\n",
              "      <th>A</th>\n",
              "      <th>B</th>\n",
              "      <th>C</th>\n",
              "    </tr>\n",
              "  </thead>\n",
              "  <tbody>\n",
              "    <tr>\n",
              "      <th>0</th>\n",
              "      <td>11.00</td>\n",
              "      <td>28.00</td>\n",
              "      <td>15.75</td>\n",
              "    </tr>\n",
              "    <tr>\n",
              "      <th>1</th>\n",
              "      <td>9.00</td>\n",
              "      <td>16.00</td>\n",
              "      <td>10.75</td>\n",
              "    </tr>\n",
              "    <tr>\n",
              "      <th>2</th>\n",
              "      <td>13.75</td>\n",
              "      <td>15.75</td>\n",
              "      <td>14.75</td>\n",
              "    </tr>\n",
              "  </tbody>\n",
              "</table>\n",
              "</div>\n",
              "      <button class=\"colab-df-convert\" onclick=\"convertToInteractive('df-15914a91-6716-4bfb-9326-6a15be17488a')\"\n",
              "              title=\"Convert this dataframe to an interactive table.\"\n",
              "              style=\"display:none;\">\n",
              "        \n",
              "  <svg xmlns=\"http://www.w3.org/2000/svg\" height=\"24px\"viewBox=\"0 0 24 24\"\n",
              "       width=\"24px\">\n",
              "    <path d=\"M0 0h24v24H0V0z\" fill=\"none\"/>\n",
              "    <path d=\"M18.56 5.44l.94 2.06.94-2.06 2.06-.94-2.06-.94-.94-2.06-.94 2.06-2.06.94zm-11 1L8.5 8.5l.94-2.06 2.06-.94-2.06-.94L8.5 2.5l-.94 2.06-2.06.94zm10 10l.94 2.06.94-2.06 2.06-.94-2.06-.94-.94-2.06-.94 2.06-2.06.94z\"/><path d=\"M17.41 7.96l-1.37-1.37c-.4-.4-.92-.59-1.43-.59-.52 0-1.04.2-1.43.59L10.3 9.45l-7.72 7.72c-.78.78-.78 2.05 0 2.83L4 21.41c.39.39.9.59 1.41.59.51 0 1.02-.2 1.41-.59l7.78-7.78 2.81-2.81c.8-.78.8-2.07 0-2.86zM5.41 20L4 18.59l7.72-7.72 1.47 1.35L5.41 20z\"/>\n",
              "  </svg>\n",
              "      </button>\n",
              "      \n",
              "  <style>\n",
              "    .colab-df-container {\n",
              "      display:flex;\n",
              "      flex-wrap:wrap;\n",
              "      gap: 12px;\n",
              "    }\n",
              "\n",
              "    .colab-df-convert {\n",
              "      background-color: #E8F0FE;\n",
              "      border: none;\n",
              "      border-radius: 50%;\n",
              "      cursor: pointer;\n",
              "      display: none;\n",
              "      fill: #1967D2;\n",
              "      height: 32px;\n",
              "      padding: 0 0 0 0;\n",
              "      width: 32px;\n",
              "    }\n",
              "\n",
              "    .colab-df-convert:hover {\n",
              "      background-color: #E2EBFA;\n",
              "      box-shadow: 0px 1px 2px rgba(60, 64, 67, 0.3), 0px 1px 3px 1px rgba(60, 64, 67, 0.15);\n",
              "      fill: #174EA6;\n",
              "    }\n",
              "\n",
              "    [theme=dark] .colab-df-convert {\n",
              "      background-color: #3B4455;\n",
              "      fill: #D2E3FC;\n",
              "    }\n",
              "\n",
              "    [theme=dark] .colab-df-convert:hover {\n",
              "      background-color: #434B5C;\n",
              "      box-shadow: 0px 1px 3px 1px rgba(0, 0, 0, 0.15);\n",
              "      filter: drop-shadow(0px 1px 2px rgba(0, 0, 0, 0.3));\n",
              "      fill: #FFFFFF;\n",
              "    }\n",
              "  </style>\n",
              "\n",
              "      <script>\n",
              "        const buttonEl =\n",
              "          document.querySelector('#df-15914a91-6716-4bfb-9326-6a15be17488a button.colab-df-convert');\n",
              "        buttonEl.style.display =\n",
              "          google.colab.kernel.accessAllowed ? 'block' : 'none';\n",
              "\n",
              "        async function convertToInteractive(key) {\n",
              "          const element = document.querySelector('#df-15914a91-6716-4bfb-9326-6a15be17488a');\n",
              "          const dataTable =\n",
              "            await google.colab.kernel.invokeFunction('convertToInteractive',\n",
              "                                                     [key], {});\n",
              "          if (!dataTable) return;\n",
              "\n",
              "          const docLinkHtml = 'Like what you see? Visit the ' +\n",
              "            '<a target=\"_blank\" href=https://colab.research.google.com/notebooks/data_table.ipynb>data table notebook</a>'\n",
              "            + ' to learn more about interactive tables.';\n",
              "          element.innerHTML = '';\n",
              "          dataTable['output_type'] = 'display_data';\n",
              "          await google.colab.output.renderOutput(dataTable, element);\n",
              "          const docLink = document.createElement('div');\n",
              "          docLink.innerHTML = docLinkHtml;\n",
              "          element.appendChild(docLink);\n",
              "        }\n",
              "      </script>\n",
              "    </div>\n",
              "  </div>\n",
              "  "
            ]
          },
          "metadata": {},
          "execution_count": 96
        }
      ]
    },
    {
      "cell_type": "markdown",
      "source": [
        "##Operations Between DataFrame and Series"
      ],
      "metadata": {
        "id": "Hp6h6rgHBuOC"
      }
    },
    {
      "cell_type": "code",
      "source": [
        "A = rng.randint(10, size=(3, 4))\n",
        "A"
      ],
      "metadata": {
        "colab": {
          "base_uri": "https://localhost:8080/"
        },
        "id": "RgeWExjZB5Wv",
        "outputId": "23a7d519-1f60-4e12-cf4e-3057be2c97e5"
      },
      "execution_count": null,
      "outputs": [
        {
          "output_type": "execute_result",
          "data": {
            "text/plain": [
              "array([[8, 0, 7, 2],\n",
              "       [6, 7, 4, 8],\n",
              "       [9, 6, 4, 5]])"
            ]
          },
          "metadata": {},
          "execution_count": 97
        }
      ]
    },
    {
      "cell_type": "code",
      "source": [
        "A - A[0]"
      ],
      "metadata": {
        "colab": {
          "base_uri": "https://localhost:8080/"
        },
        "id": "mDNS9uRbGUJC",
        "outputId": "91f84ce9-e81f-4eeb-da92-a3aee3f84d27"
      },
      "execution_count": null,
      "outputs": [
        {
          "output_type": "execute_result",
          "data": {
            "text/plain": [
              "array([[ 0,  0,  0,  0],\n",
              "       [-2,  7, -3,  6],\n",
              "       [ 1,  6, -3,  3]])"
            ]
          },
          "metadata": {},
          "execution_count": 98
        }
      ]
    },
    {
      "cell_type": "markdown",
      "source": [
        "###Handling Missing Data"
      ],
      "metadata": {
        "id": "GD8aHnusG_Uf"
      }
    },
    {
      "cell_type": "code",
      "source": [
        "data = pd.Series([1, np.nan, 'hello', None]) # Detecting null values"
      ],
      "metadata": {
        "id": "fEVPz2n1HAUT"
      },
      "execution_count": null,
      "outputs": []
    },
    {
      "cell_type": "code",
      "source": [
        "data.isnull()"
      ],
      "metadata": {
        "colab": {
          "base_uri": "https://localhost:8080/"
        },
        "id": "LGyb9QyPTqOj",
        "outputId": "4b4b69f1-6e7d-4a36-da19-3904a7d72bbb"
      },
      "execution_count": null,
      "outputs": [
        {
          "output_type": "execute_result",
          "data": {
            "text/plain": [
              "0    False\n",
              "1     True\n",
              "2    False\n",
              "3     True\n",
              "dtype: bool"
            ]
          },
          "metadata": {},
          "execution_count": 100
        }
      ]
    },
    {
      "cell_type": "code",
      "source": [
        "data.dropna() # show only the true value"
      ],
      "metadata": {
        "colab": {
          "base_uri": "https://localhost:8080/"
        },
        "id": "-W4eA_aGTtoq",
        "outputId": "d0cb2524-faa8-4ca1-ac84-5a84e48bebcf"
      },
      "execution_count": null,
      "outputs": [
        {
          "output_type": "execute_result",
          "data": {
            "text/plain": [
              "0        1\n",
              "2    hello\n",
              "dtype: object"
            ]
          },
          "metadata": {},
          "execution_count": 101
        }
      ]
    },
    {
      "cell_type": "code",
      "source": [
        "df = pd.DataFrame([[1, np.nan, 2],\n",
        "[2, 3, 5],\n",
        "[np.nan, 4, 6]])\n",
        "df"
      ],
      "metadata": {
        "colab": {
          "base_uri": "https://localhost:8080/",
          "height": 143
        },
        "id": "X4RObFFoUMUW",
        "outputId": "cc8137bd-d95e-4afe-9a79-b93468e191c6"
      },
      "execution_count": null,
      "outputs": [
        {
          "output_type": "execute_result",
          "data": {
            "text/plain": [
              "     0    1  2\n",
              "0  1.0  NaN  2\n",
              "1  2.0  3.0  5\n",
              "2  NaN  4.0  6"
            ],
            "text/html": [
              "\n",
              "  <div id=\"df-da9f6c99-fe79-4e97-b510-c24b5a309c15\">\n",
              "    <div class=\"colab-df-container\">\n",
              "      <div>\n",
              "<style scoped>\n",
              "    .dataframe tbody tr th:only-of-type {\n",
              "        vertical-align: middle;\n",
              "    }\n",
              "\n",
              "    .dataframe tbody tr th {\n",
              "        vertical-align: top;\n",
              "    }\n",
              "\n",
              "    .dataframe thead th {\n",
              "        text-align: right;\n",
              "    }\n",
              "</style>\n",
              "<table border=\"1\" class=\"dataframe\">\n",
              "  <thead>\n",
              "    <tr style=\"text-align: right;\">\n",
              "      <th></th>\n",
              "      <th>0</th>\n",
              "      <th>1</th>\n",
              "      <th>2</th>\n",
              "    </tr>\n",
              "  </thead>\n",
              "  <tbody>\n",
              "    <tr>\n",
              "      <th>0</th>\n",
              "      <td>1.0</td>\n",
              "      <td>NaN</td>\n",
              "      <td>2</td>\n",
              "    </tr>\n",
              "    <tr>\n",
              "      <th>1</th>\n",
              "      <td>2.0</td>\n",
              "      <td>3.0</td>\n",
              "      <td>5</td>\n",
              "    </tr>\n",
              "    <tr>\n",
              "      <th>2</th>\n",
              "      <td>NaN</td>\n",
              "      <td>4.0</td>\n",
              "      <td>6</td>\n",
              "    </tr>\n",
              "  </tbody>\n",
              "</table>\n",
              "</div>\n",
              "      <button class=\"colab-df-convert\" onclick=\"convertToInteractive('df-da9f6c99-fe79-4e97-b510-c24b5a309c15')\"\n",
              "              title=\"Convert this dataframe to an interactive table.\"\n",
              "              style=\"display:none;\">\n",
              "        \n",
              "  <svg xmlns=\"http://www.w3.org/2000/svg\" height=\"24px\"viewBox=\"0 0 24 24\"\n",
              "       width=\"24px\">\n",
              "    <path d=\"M0 0h24v24H0V0z\" fill=\"none\"/>\n",
              "    <path d=\"M18.56 5.44l.94 2.06.94-2.06 2.06-.94-2.06-.94-.94-2.06-.94 2.06-2.06.94zm-11 1L8.5 8.5l.94-2.06 2.06-.94-2.06-.94L8.5 2.5l-.94 2.06-2.06.94zm10 10l.94 2.06.94-2.06 2.06-.94-2.06-.94-.94-2.06-.94 2.06-2.06.94z\"/><path d=\"M17.41 7.96l-1.37-1.37c-.4-.4-.92-.59-1.43-.59-.52 0-1.04.2-1.43.59L10.3 9.45l-7.72 7.72c-.78.78-.78 2.05 0 2.83L4 21.41c.39.39.9.59 1.41.59.51 0 1.02-.2 1.41-.59l7.78-7.78 2.81-2.81c.8-.78.8-2.07 0-2.86zM5.41 20L4 18.59l7.72-7.72 1.47 1.35L5.41 20z\"/>\n",
              "  </svg>\n",
              "      </button>\n",
              "      \n",
              "  <style>\n",
              "    .colab-df-container {\n",
              "      display:flex;\n",
              "      flex-wrap:wrap;\n",
              "      gap: 12px;\n",
              "    }\n",
              "\n",
              "    .colab-df-convert {\n",
              "      background-color: #E8F0FE;\n",
              "      border: none;\n",
              "      border-radius: 50%;\n",
              "      cursor: pointer;\n",
              "      display: none;\n",
              "      fill: #1967D2;\n",
              "      height: 32px;\n",
              "      padding: 0 0 0 0;\n",
              "      width: 32px;\n",
              "    }\n",
              "\n",
              "    .colab-df-convert:hover {\n",
              "      background-color: #E2EBFA;\n",
              "      box-shadow: 0px 1px 2px rgba(60, 64, 67, 0.3), 0px 1px 3px 1px rgba(60, 64, 67, 0.15);\n",
              "      fill: #174EA6;\n",
              "    }\n",
              "\n",
              "    [theme=dark] .colab-df-convert {\n",
              "      background-color: #3B4455;\n",
              "      fill: #D2E3FC;\n",
              "    }\n",
              "\n",
              "    [theme=dark] .colab-df-convert:hover {\n",
              "      background-color: #434B5C;\n",
              "      box-shadow: 0px 1px 3px 1px rgba(0, 0, 0, 0.15);\n",
              "      filter: drop-shadow(0px 1px 2px rgba(0, 0, 0, 0.3));\n",
              "      fill: #FFFFFF;\n",
              "    }\n",
              "  </style>\n",
              "\n",
              "      <script>\n",
              "        const buttonEl =\n",
              "          document.querySelector('#df-da9f6c99-fe79-4e97-b510-c24b5a309c15 button.colab-df-convert');\n",
              "        buttonEl.style.display =\n",
              "          google.colab.kernel.accessAllowed ? 'block' : 'none';\n",
              "\n",
              "        async function convertToInteractive(key) {\n",
              "          const element = document.querySelector('#df-da9f6c99-fe79-4e97-b510-c24b5a309c15');\n",
              "          const dataTable =\n",
              "            await google.colab.kernel.invokeFunction('convertToInteractive',\n",
              "                                                     [key], {});\n",
              "          if (!dataTable) return;\n",
              "\n",
              "          const docLinkHtml = 'Like what you see? Visit the ' +\n",
              "            '<a target=\"_blank\" href=https://colab.research.google.com/notebooks/data_table.ipynb>data table notebook</a>'\n",
              "            + ' to learn more about interactive tables.';\n",
              "          element.innerHTML = '';\n",
              "          dataTable['output_type'] = 'display_data';\n",
              "          await google.colab.output.renderOutput(dataTable, element);\n",
              "          const docLink = document.createElement('div');\n",
              "          docLink.innerHTML = docLinkHtml;\n",
              "          element.appendChild(docLink);\n",
              "        }\n",
              "      </script>\n",
              "    </div>\n",
              "  </div>\n",
              "  "
            ]
          },
          "metadata": {},
          "execution_count": 102
        }
      ]
    },
    {
      "cell_type": "code",
      "source": [
        "df.dropna() # drop the entire rows"
      ],
      "metadata": {
        "colab": {
          "base_uri": "https://localhost:8080/",
          "height": 81
        },
        "id": "voTNkLRWUUSo",
        "outputId": "601c6ea8-2625-41e7-a76e-c49fe2dadd76"
      },
      "execution_count": null,
      "outputs": [
        {
          "output_type": "execute_result",
          "data": {
            "text/plain": [
              "     0    1  2\n",
              "1  2.0  3.0  5"
            ],
            "text/html": [
              "\n",
              "  <div id=\"df-95d735ba-af34-401d-aafb-e723154a7b9c\">\n",
              "    <div class=\"colab-df-container\">\n",
              "      <div>\n",
              "<style scoped>\n",
              "    .dataframe tbody tr th:only-of-type {\n",
              "        vertical-align: middle;\n",
              "    }\n",
              "\n",
              "    .dataframe tbody tr th {\n",
              "        vertical-align: top;\n",
              "    }\n",
              "\n",
              "    .dataframe thead th {\n",
              "        text-align: right;\n",
              "    }\n",
              "</style>\n",
              "<table border=\"1\" class=\"dataframe\">\n",
              "  <thead>\n",
              "    <tr style=\"text-align: right;\">\n",
              "      <th></th>\n",
              "      <th>0</th>\n",
              "      <th>1</th>\n",
              "      <th>2</th>\n",
              "    </tr>\n",
              "  </thead>\n",
              "  <tbody>\n",
              "    <tr>\n",
              "      <th>1</th>\n",
              "      <td>2.0</td>\n",
              "      <td>3.0</td>\n",
              "      <td>5</td>\n",
              "    </tr>\n",
              "  </tbody>\n",
              "</table>\n",
              "</div>\n",
              "      <button class=\"colab-df-convert\" onclick=\"convertToInteractive('df-95d735ba-af34-401d-aafb-e723154a7b9c')\"\n",
              "              title=\"Convert this dataframe to an interactive table.\"\n",
              "              style=\"display:none;\">\n",
              "        \n",
              "  <svg xmlns=\"http://www.w3.org/2000/svg\" height=\"24px\"viewBox=\"0 0 24 24\"\n",
              "       width=\"24px\">\n",
              "    <path d=\"M0 0h24v24H0V0z\" fill=\"none\"/>\n",
              "    <path d=\"M18.56 5.44l.94 2.06.94-2.06 2.06-.94-2.06-.94-.94-2.06-.94 2.06-2.06.94zm-11 1L8.5 8.5l.94-2.06 2.06-.94-2.06-.94L8.5 2.5l-.94 2.06-2.06.94zm10 10l.94 2.06.94-2.06 2.06-.94-2.06-.94-.94-2.06-.94 2.06-2.06.94z\"/><path d=\"M17.41 7.96l-1.37-1.37c-.4-.4-.92-.59-1.43-.59-.52 0-1.04.2-1.43.59L10.3 9.45l-7.72 7.72c-.78.78-.78 2.05 0 2.83L4 21.41c.39.39.9.59 1.41.59.51 0 1.02-.2 1.41-.59l7.78-7.78 2.81-2.81c.8-.78.8-2.07 0-2.86zM5.41 20L4 18.59l7.72-7.72 1.47 1.35L5.41 20z\"/>\n",
              "  </svg>\n",
              "      </button>\n",
              "      \n",
              "  <style>\n",
              "    .colab-df-container {\n",
              "      display:flex;\n",
              "      flex-wrap:wrap;\n",
              "      gap: 12px;\n",
              "    }\n",
              "\n",
              "    .colab-df-convert {\n",
              "      background-color: #E8F0FE;\n",
              "      border: none;\n",
              "      border-radius: 50%;\n",
              "      cursor: pointer;\n",
              "      display: none;\n",
              "      fill: #1967D2;\n",
              "      height: 32px;\n",
              "      padding: 0 0 0 0;\n",
              "      width: 32px;\n",
              "    }\n",
              "\n",
              "    .colab-df-convert:hover {\n",
              "      background-color: #E2EBFA;\n",
              "      box-shadow: 0px 1px 2px rgba(60, 64, 67, 0.3), 0px 1px 3px 1px rgba(60, 64, 67, 0.15);\n",
              "      fill: #174EA6;\n",
              "    }\n",
              "\n",
              "    [theme=dark] .colab-df-convert {\n",
              "      background-color: #3B4455;\n",
              "      fill: #D2E3FC;\n",
              "    }\n",
              "\n",
              "    [theme=dark] .colab-df-convert:hover {\n",
              "      background-color: #434B5C;\n",
              "      box-shadow: 0px 1px 3px 1px rgba(0, 0, 0, 0.15);\n",
              "      filter: drop-shadow(0px 1px 2px rgba(0, 0, 0, 0.3));\n",
              "      fill: #FFFFFF;\n",
              "    }\n",
              "  </style>\n",
              "\n",
              "      <script>\n",
              "        const buttonEl =\n",
              "          document.querySelector('#df-95d735ba-af34-401d-aafb-e723154a7b9c button.colab-df-convert');\n",
              "        buttonEl.style.display =\n",
              "          google.colab.kernel.accessAllowed ? 'block' : 'none';\n",
              "\n",
              "        async function convertToInteractive(key) {\n",
              "          const element = document.querySelector('#df-95d735ba-af34-401d-aafb-e723154a7b9c');\n",
              "          const dataTable =\n",
              "            await google.colab.kernel.invokeFunction('convertToInteractive',\n",
              "                                                     [key], {});\n",
              "          if (!dataTable) return;\n",
              "\n",
              "          const docLinkHtml = 'Like what you see? Visit the ' +\n",
              "            '<a target=\"_blank\" href=https://colab.research.google.com/notebooks/data_table.ipynb>data table notebook</a>'\n",
              "            + ' to learn more about interactive tables.';\n",
              "          element.innerHTML = '';\n",
              "          dataTable['output_type'] = 'display_data';\n",
              "          await google.colab.output.renderOutput(dataTable, element);\n",
              "          const docLink = document.createElement('div');\n",
              "          docLink.innerHTML = docLinkHtml;\n",
              "          element.appendChild(docLink);\n",
              "        }\n",
              "      </script>\n",
              "    </div>\n",
              "  </div>\n",
              "  "
            ]
          },
          "metadata": {},
          "execution_count": 103
        }
      ]
    },
    {
      "cell_type": "code",
      "source": [
        "df.dropna(axis='columns')"
      ],
      "metadata": {
        "colab": {
          "base_uri": "https://localhost:8080/",
          "height": 143
        },
        "id": "AID8Jw7kUcka",
        "outputId": "35e1467e-fb93-46a2-cba5-f8c20401ce94"
      },
      "execution_count": null,
      "outputs": [
        {
          "output_type": "execute_result",
          "data": {
            "text/plain": [
              "   2\n",
              "0  2\n",
              "1  5\n",
              "2  6"
            ],
            "text/html": [
              "\n",
              "  <div id=\"df-90249e87-c2c1-44db-9736-b7b252c24530\">\n",
              "    <div class=\"colab-df-container\">\n",
              "      <div>\n",
              "<style scoped>\n",
              "    .dataframe tbody tr th:only-of-type {\n",
              "        vertical-align: middle;\n",
              "    }\n",
              "\n",
              "    .dataframe tbody tr th {\n",
              "        vertical-align: top;\n",
              "    }\n",
              "\n",
              "    .dataframe thead th {\n",
              "        text-align: right;\n",
              "    }\n",
              "</style>\n",
              "<table border=\"1\" class=\"dataframe\">\n",
              "  <thead>\n",
              "    <tr style=\"text-align: right;\">\n",
              "      <th></th>\n",
              "      <th>2</th>\n",
              "    </tr>\n",
              "  </thead>\n",
              "  <tbody>\n",
              "    <tr>\n",
              "      <th>0</th>\n",
              "      <td>2</td>\n",
              "    </tr>\n",
              "    <tr>\n",
              "      <th>1</th>\n",
              "      <td>5</td>\n",
              "    </tr>\n",
              "    <tr>\n",
              "      <th>2</th>\n",
              "      <td>6</td>\n",
              "    </tr>\n",
              "  </tbody>\n",
              "</table>\n",
              "</div>\n",
              "      <button class=\"colab-df-convert\" onclick=\"convertToInteractive('df-90249e87-c2c1-44db-9736-b7b252c24530')\"\n",
              "              title=\"Convert this dataframe to an interactive table.\"\n",
              "              style=\"display:none;\">\n",
              "        \n",
              "  <svg xmlns=\"http://www.w3.org/2000/svg\" height=\"24px\"viewBox=\"0 0 24 24\"\n",
              "       width=\"24px\">\n",
              "    <path d=\"M0 0h24v24H0V0z\" fill=\"none\"/>\n",
              "    <path d=\"M18.56 5.44l.94 2.06.94-2.06 2.06-.94-2.06-.94-.94-2.06-.94 2.06-2.06.94zm-11 1L8.5 8.5l.94-2.06 2.06-.94-2.06-.94L8.5 2.5l-.94 2.06-2.06.94zm10 10l.94 2.06.94-2.06 2.06-.94-2.06-.94-.94-2.06-.94 2.06-2.06.94z\"/><path d=\"M17.41 7.96l-1.37-1.37c-.4-.4-.92-.59-1.43-.59-.52 0-1.04.2-1.43.59L10.3 9.45l-7.72 7.72c-.78.78-.78 2.05 0 2.83L4 21.41c.39.39.9.59 1.41.59.51 0 1.02-.2 1.41-.59l7.78-7.78 2.81-2.81c.8-.78.8-2.07 0-2.86zM5.41 20L4 18.59l7.72-7.72 1.47 1.35L5.41 20z\"/>\n",
              "  </svg>\n",
              "      </button>\n",
              "      \n",
              "  <style>\n",
              "    .colab-df-container {\n",
              "      display:flex;\n",
              "      flex-wrap:wrap;\n",
              "      gap: 12px;\n",
              "    }\n",
              "\n",
              "    .colab-df-convert {\n",
              "      background-color: #E8F0FE;\n",
              "      border: none;\n",
              "      border-radius: 50%;\n",
              "      cursor: pointer;\n",
              "      display: none;\n",
              "      fill: #1967D2;\n",
              "      height: 32px;\n",
              "      padding: 0 0 0 0;\n",
              "      width: 32px;\n",
              "    }\n",
              "\n",
              "    .colab-df-convert:hover {\n",
              "      background-color: #E2EBFA;\n",
              "      box-shadow: 0px 1px 2px rgba(60, 64, 67, 0.3), 0px 1px 3px 1px rgba(60, 64, 67, 0.15);\n",
              "      fill: #174EA6;\n",
              "    }\n",
              "\n",
              "    [theme=dark] .colab-df-convert {\n",
              "      background-color: #3B4455;\n",
              "      fill: #D2E3FC;\n",
              "    }\n",
              "\n",
              "    [theme=dark] .colab-df-convert:hover {\n",
              "      background-color: #434B5C;\n",
              "      box-shadow: 0px 1px 3px 1px rgba(0, 0, 0, 0.15);\n",
              "      filter: drop-shadow(0px 1px 2px rgba(0, 0, 0, 0.3));\n",
              "      fill: #FFFFFF;\n",
              "    }\n",
              "  </style>\n",
              "\n",
              "      <script>\n",
              "        const buttonEl =\n",
              "          document.querySelector('#df-90249e87-c2c1-44db-9736-b7b252c24530 button.colab-df-convert');\n",
              "        buttonEl.style.display =\n",
              "          google.colab.kernel.accessAllowed ? 'block' : 'none';\n",
              "\n",
              "        async function convertToInteractive(key) {\n",
              "          const element = document.querySelector('#df-90249e87-c2c1-44db-9736-b7b252c24530');\n",
              "          const dataTable =\n",
              "            await google.colab.kernel.invokeFunction('convertToInteractive',\n",
              "                                                     [key], {});\n",
              "          if (!dataTable) return;\n",
              "\n",
              "          const docLinkHtml = 'Like what you see? Visit the ' +\n",
              "            '<a target=\"_blank\" href=https://colab.research.google.com/notebooks/data_table.ipynb>data table notebook</a>'\n",
              "            + ' to learn more about interactive tables.';\n",
              "          element.innerHTML = '';\n",
              "          dataTable['output_type'] = 'display_data';\n",
              "          await google.colab.output.renderOutput(dataTable, element);\n",
              "          const docLink = document.createElement('div');\n",
              "          docLink.innerHTML = docLinkHtml;\n",
              "          element.appendChild(docLink);\n",
              "        }\n",
              "      </script>\n",
              "    </div>\n",
              "  </div>\n",
              "  "
            ]
          },
          "metadata": {},
          "execution_count": 104
        }
      ]
    },
    {
      "cell_type": "markdown",
      "source": [
        "##Filling null values"
      ],
      "metadata": {
        "id": "-lWMpAgnVLzK"
      }
    },
    {
      "cell_type": "code",
      "source": [
        "data = pd.Series([1, np.nan, 2, None, 3], index=list('abcde'))\n",
        "data"
      ],
      "metadata": {
        "colab": {
          "base_uri": "https://localhost:8080/"
        },
        "id": "PnhaQlzHVN1z",
        "outputId": "e8bc9f97-eac8-4b21-b097-d4a673784d70"
      },
      "execution_count": null,
      "outputs": [
        {
          "output_type": "execute_result",
          "data": {
            "text/plain": [
              "a    1.0\n",
              "b    NaN\n",
              "c    2.0\n",
              "d    NaN\n",
              "e    3.0\n",
              "dtype: float64"
            ]
          },
          "metadata": {},
          "execution_count": 105
        }
      ]
    },
    {
      "cell_type": "code",
      "source": [
        "data.fillna(0) # We can fill NA entries with a single value, such as zero"
      ],
      "metadata": {
        "colab": {
          "base_uri": "https://localhost:8080/"
        },
        "id": "_pu5EK1NVQRO",
        "outputId": "6c69314a-933b-4659-93c3-20e6a1c0ff6c"
      },
      "execution_count": null,
      "outputs": [
        {
          "output_type": "execute_result",
          "data": {
            "text/plain": [
              "a    1.0\n",
              "b    0.0\n",
              "c    2.0\n",
              "d    0.0\n",
              "e    3.0\n",
              "dtype: float64"
            ]
          },
          "metadata": {},
          "execution_count": 106
        }
      ]
    },
    {
      "cell_type": "code",
      "source": [
        "data.fillna(method='ffill') # We can specify a forward-fill to propagate the previous value forward"
      ],
      "metadata": {
        "colab": {
          "base_uri": "https://localhost:8080/"
        },
        "id": "MhFnbVwwVamw",
        "outputId": "61bc3ea7-1631-41f1-c48b-3b6a97cb0c47"
      },
      "execution_count": null,
      "outputs": [
        {
          "output_type": "execute_result",
          "data": {
            "text/plain": [
              "a    1.0\n",
              "b    1.0\n",
              "c    2.0\n",
              "d    2.0\n",
              "e    3.0\n",
              "dtype: float64"
            ]
          },
          "metadata": {},
          "execution_count": 107
        }
      ]
    },
    {
      "cell_type": "code",
      "source": [
        "data.fillna(method='bfill') # Or we can specify a back-fill to propagate the next values backward"
      ],
      "metadata": {
        "colab": {
          "base_uri": "https://localhost:8080/"
        },
        "id": "lNOSWK6jV01_",
        "outputId": "036b93e1-4219-4fb1-8f27-feebd3237302"
      },
      "execution_count": null,
      "outputs": [
        {
          "output_type": "execute_result",
          "data": {
            "text/plain": [
              "a    1.0\n",
              "b    2.0\n",
              "c    2.0\n",
              "d    3.0\n",
              "e    3.0\n",
              "dtype: float64"
            ]
          },
          "metadata": {},
          "execution_count": 279
        }
      ]
    },
    {
      "cell_type": "code",
      "source": [
        "df\n"
      ],
      "metadata": {
        "colab": {
          "base_uri": "https://localhost:8080/",
          "height": 143
        },
        "id": "vESm8VlSV6pA",
        "outputId": "9786aadc-23c1-4f6b-e15e-eddba939b76d"
      },
      "execution_count": null,
      "outputs": [
        {
          "output_type": "execute_result",
          "data": {
            "text/plain": [
              "     0    1  2\n",
              "0  1.0  NaN  2\n",
              "1  2.0  3.0  5\n",
              "2  NaN  4.0  6"
            ],
            "text/html": [
              "\n",
              "  <div id=\"df-96089200-fc82-41db-80f3-dac178f571de\">\n",
              "    <div class=\"colab-df-container\">\n",
              "      <div>\n",
              "<style scoped>\n",
              "    .dataframe tbody tr th:only-of-type {\n",
              "        vertical-align: middle;\n",
              "    }\n",
              "\n",
              "    .dataframe tbody tr th {\n",
              "        vertical-align: top;\n",
              "    }\n",
              "\n",
              "    .dataframe thead th {\n",
              "        text-align: right;\n",
              "    }\n",
              "</style>\n",
              "<table border=\"1\" class=\"dataframe\">\n",
              "  <thead>\n",
              "    <tr style=\"text-align: right;\">\n",
              "      <th></th>\n",
              "      <th>0</th>\n",
              "      <th>1</th>\n",
              "      <th>2</th>\n",
              "    </tr>\n",
              "  </thead>\n",
              "  <tbody>\n",
              "    <tr>\n",
              "      <th>0</th>\n",
              "      <td>1.0</td>\n",
              "      <td>NaN</td>\n",
              "      <td>2</td>\n",
              "    </tr>\n",
              "    <tr>\n",
              "      <th>1</th>\n",
              "      <td>2.0</td>\n",
              "      <td>3.0</td>\n",
              "      <td>5</td>\n",
              "    </tr>\n",
              "    <tr>\n",
              "      <th>2</th>\n",
              "      <td>NaN</td>\n",
              "      <td>4.0</td>\n",
              "      <td>6</td>\n",
              "    </tr>\n",
              "  </tbody>\n",
              "</table>\n",
              "</div>\n",
              "      <button class=\"colab-df-convert\" onclick=\"convertToInteractive('df-96089200-fc82-41db-80f3-dac178f571de')\"\n",
              "              title=\"Convert this dataframe to an interactive table.\"\n",
              "              style=\"display:none;\">\n",
              "        \n",
              "  <svg xmlns=\"http://www.w3.org/2000/svg\" height=\"24px\"viewBox=\"0 0 24 24\"\n",
              "       width=\"24px\">\n",
              "    <path d=\"M0 0h24v24H0V0z\" fill=\"none\"/>\n",
              "    <path d=\"M18.56 5.44l.94 2.06.94-2.06 2.06-.94-2.06-.94-.94-2.06-.94 2.06-2.06.94zm-11 1L8.5 8.5l.94-2.06 2.06-.94-2.06-.94L8.5 2.5l-.94 2.06-2.06.94zm10 10l.94 2.06.94-2.06 2.06-.94-2.06-.94-.94-2.06-.94 2.06-2.06.94z\"/><path d=\"M17.41 7.96l-1.37-1.37c-.4-.4-.92-.59-1.43-.59-.52 0-1.04.2-1.43.59L10.3 9.45l-7.72 7.72c-.78.78-.78 2.05 0 2.83L4 21.41c.39.39.9.59 1.41.59.51 0 1.02-.2 1.41-.59l7.78-7.78 2.81-2.81c.8-.78.8-2.07 0-2.86zM5.41 20L4 18.59l7.72-7.72 1.47 1.35L5.41 20z\"/>\n",
              "  </svg>\n",
              "      </button>\n",
              "      \n",
              "  <style>\n",
              "    .colab-df-container {\n",
              "      display:flex;\n",
              "      flex-wrap:wrap;\n",
              "      gap: 12px;\n",
              "    }\n",
              "\n",
              "    .colab-df-convert {\n",
              "      background-color: #E8F0FE;\n",
              "      border: none;\n",
              "      border-radius: 50%;\n",
              "      cursor: pointer;\n",
              "      display: none;\n",
              "      fill: #1967D2;\n",
              "      height: 32px;\n",
              "      padding: 0 0 0 0;\n",
              "      width: 32px;\n",
              "    }\n",
              "\n",
              "    .colab-df-convert:hover {\n",
              "      background-color: #E2EBFA;\n",
              "      box-shadow: 0px 1px 2px rgba(60, 64, 67, 0.3), 0px 1px 3px 1px rgba(60, 64, 67, 0.15);\n",
              "      fill: #174EA6;\n",
              "    }\n",
              "\n",
              "    [theme=dark] .colab-df-convert {\n",
              "      background-color: #3B4455;\n",
              "      fill: #D2E3FC;\n",
              "    }\n",
              "\n",
              "    [theme=dark] .colab-df-convert:hover {\n",
              "      background-color: #434B5C;\n",
              "      box-shadow: 0px 1px 3px 1px rgba(0, 0, 0, 0.15);\n",
              "      filter: drop-shadow(0px 1px 2px rgba(0, 0, 0, 0.3));\n",
              "      fill: #FFFFFF;\n",
              "    }\n",
              "  </style>\n",
              "\n",
              "      <script>\n",
              "        const buttonEl =\n",
              "          document.querySelector('#df-96089200-fc82-41db-80f3-dac178f571de button.colab-df-convert');\n",
              "        buttonEl.style.display =\n",
              "          google.colab.kernel.accessAllowed ? 'block' : 'none';\n",
              "\n",
              "        async function convertToInteractive(key) {\n",
              "          const element = document.querySelector('#df-96089200-fc82-41db-80f3-dac178f571de');\n",
              "          const dataTable =\n",
              "            await google.colab.kernel.invokeFunction('convertToInteractive',\n",
              "                                                     [key], {});\n",
              "          if (!dataTable) return;\n",
              "\n",
              "          const docLinkHtml = 'Like what you see? Visit the ' +\n",
              "            '<a target=\"_blank\" href=https://colab.research.google.com/notebooks/data_table.ipynb>data table notebook</a>'\n",
              "            + ' to learn more about interactive tables.';\n",
              "          element.innerHTML = '';\n",
              "          dataTable['output_type'] = 'display_data';\n",
              "          await google.colab.output.renderOutput(dataTable, element);\n",
              "          const docLink = document.createElement('div');\n",
              "          docLink.innerHTML = docLinkHtml;\n",
              "          element.appendChild(docLink);\n",
              "        }\n",
              "      </script>\n",
              "    </div>\n",
              "  </div>\n",
              "  "
            ]
          },
          "metadata": {},
          "execution_count": 108
        }
      ]
    },
    {
      "cell_type": "code",
      "source": [
        "df.fillna(method='ffill', axis=1) # For DataFrames, the options are similar, but we can also specify an axis along which\n",
        "#the fills take place\n",
        "# Notice that if a previous value is not available during a forward fill, the NA value\n",
        "#remains."
      ],
      "metadata": {
        "colab": {
          "base_uri": "https://localhost:8080/",
          "height": 143
        },
        "id": "gNN-eCVWV_5F",
        "outputId": "3f9e6fd9-6792-49db-a124-7335504039bc"
      },
      "execution_count": null,
      "outputs": [
        {
          "output_type": "execute_result",
          "data": {
            "text/plain": [
              "     0    1    2\n",
              "0  1.0  1.0  2.0\n",
              "1  2.0  3.0  5.0\n",
              "2  NaN  4.0  6.0"
            ],
            "text/html": [
              "\n",
              "  <div id=\"df-7adb8079-8a36-4548-9dd5-f6ebd65d5622\">\n",
              "    <div class=\"colab-df-container\">\n",
              "      <div>\n",
              "<style scoped>\n",
              "    .dataframe tbody tr th:only-of-type {\n",
              "        vertical-align: middle;\n",
              "    }\n",
              "\n",
              "    .dataframe tbody tr th {\n",
              "        vertical-align: top;\n",
              "    }\n",
              "\n",
              "    .dataframe thead th {\n",
              "        text-align: right;\n",
              "    }\n",
              "</style>\n",
              "<table border=\"1\" class=\"dataframe\">\n",
              "  <thead>\n",
              "    <tr style=\"text-align: right;\">\n",
              "      <th></th>\n",
              "      <th>0</th>\n",
              "      <th>1</th>\n",
              "      <th>2</th>\n",
              "    </tr>\n",
              "  </thead>\n",
              "  <tbody>\n",
              "    <tr>\n",
              "      <th>0</th>\n",
              "      <td>1.0</td>\n",
              "      <td>1.0</td>\n",
              "      <td>2.0</td>\n",
              "    </tr>\n",
              "    <tr>\n",
              "      <th>1</th>\n",
              "      <td>2.0</td>\n",
              "      <td>3.0</td>\n",
              "      <td>5.0</td>\n",
              "    </tr>\n",
              "    <tr>\n",
              "      <th>2</th>\n",
              "      <td>NaN</td>\n",
              "      <td>4.0</td>\n",
              "      <td>6.0</td>\n",
              "    </tr>\n",
              "  </tbody>\n",
              "</table>\n",
              "</div>\n",
              "      <button class=\"colab-df-convert\" onclick=\"convertToInteractive('df-7adb8079-8a36-4548-9dd5-f6ebd65d5622')\"\n",
              "              title=\"Convert this dataframe to an interactive table.\"\n",
              "              style=\"display:none;\">\n",
              "        \n",
              "  <svg xmlns=\"http://www.w3.org/2000/svg\" height=\"24px\"viewBox=\"0 0 24 24\"\n",
              "       width=\"24px\">\n",
              "    <path d=\"M0 0h24v24H0V0z\" fill=\"none\"/>\n",
              "    <path d=\"M18.56 5.44l.94 2.06.94-2.06 2.06-.94-2.06-.94-.94-2.06-.94 2.06-2.06.94zm-11 1L8.5 8.5l.94-2.06 2.06-.94-2.06-.94L8.5 2.5l-.94 2.06-2.06.94zm10 10l.94 2.06.94-2.06 2.06-.94-2.06-.94-.94-2.06-.94 2.06-2.06.94z\"/><path d=\"M17.41 7.96l-1.37-1.37c-.4-.4-.92-.59-1.43-.59-.52 0-1.04.2-1.43.59L10.3 9.45l-7.72 7.72c-.78.78-.78 2.05 0 2.83L4 21.41c.39.39.9.59 1.41.59.51 0 1.02-.2 1.41-.59l7.78-7.78 2.81-2.81c.8-.78.8-2.07 0-2.86zM5.41 20L4 18.59l7.72-7.72 1.47 1.35L5.41 20z\"/>\n",
              "  </svg>\n",
              "      </button>\n",
              "      \n",
              "  <style>\n",
              "    .colab-df-container {\n",
              "      display:flex;\n",
              "      flex-wrap:wrap;\n",
              "      gap: 12px;\n",
              "    }\n",
              "\n",
              "    .colab-df-convert {\n",
              "      background-color: #E8F0FE;\n",
              "      border: none;\n",
              "      border-radius: 50%;\n",
              "      cursor: pointer;\n",
              "      display: none;\n",
              "      fill: #1967D2;\n",
              "      height: 32px;\n",
              "      padding: 0 0 0 0;\n",
              "      width: 32px;\n",
              "    }\n",
              "\n",
              "    .colab-df-convert:hover {\n",
              "      background-color: #E2EBFA;\n",
              "      box-shadow: 0px 1px 2px rgba(60, 64, 67, 0.3), 0px 1px 3px 1px rgba(60, 64, 67, 0.15);\n",
              "      fill: #174EA6;\n",
              "    }\n",
              "\n",
              "    [theme=dark] .colab-df-convert {\n",
              "      background-color: #3B4455;\n",
              "      fill: #D2E3FC;\n",
              "    }\n",
              "\n",
              "    [theme=dark] .colab-df-convert:hover {\n",
              "      background-color: #434B5C;\n",
              "      box-shadow: 0px 1px 3px 1px rgba(0, 0, 0, 0.15);\n",
              "      filter: drop-shadow(0px 1px 2px rgba(0, 0, 0, 0.3));\n",
              "      fill: #FFFFFF;\n",
              "    }\n",
              "  </style>\n",
              "\n",
              "      <script>\n",
              "        const buttonEl =\n",
              "          document.querySelector('#df-7adb8079-8a36-4548-9dd5-f6ebd65d5622 button.colab-df-convert');\n",
              "        buttonEl.style.display =\n",
              "          google.colab.kernel.accessAllowed ? 'block' : 'none';\n",
              "\n",
              "        async function convertToInteractive(key) {\n",
              "          const element = document.querySelector('#df-7adb8079-8a36-4548-9dd5-f6ebd65d5622');\n",
              "          const dataTable =\n",
              "            await google.colab.kernel.invokeFunction('convertToInteractive',\n",
              "                                                     [key], {});\n",
              "          if (!dataTable) return;\n",
              "\n",
              "          const docLinkHtml = 'Like what you see? Visit the ' +\n",
              "            '<a target=\"_blank\" href=https://colab.research.google.com/notebooks/data_table.ipynb>data table notebook</a>'\n",
              "            + ' to learn more about interactive tables.';\n",
              "          element.innerHTML = '';\n",
              "          dataTable['output_type'] = 'display_data';\n",
              "          await google.colab.output.renderOutput(dataTable, element);\n",
              "          const docLink = document.createElement('div');\n",
              "          docLink.innerHTML = docLinkHtml;\n",
              "          element.appendChild(docLink);\n",
              "        }\n",
              "      </script>\n",
              "    </div>\n",
              "  </div>\n",
              "  "
            ]
          },
          "metadata": {},
          "execution_count": 109
        }
      ]
    },
    {
      "cell_type": "markdown",
      "source": [
        "##A Multiply Indexed Series"
      ],
      "metadata": {
        "id": "dgW3eWRSWkYG"
      }
    },
    {
      "cell_type": "code",
      "source": [
        "index = [('California', 2000), ('California', 2010),('New York', 2000), ('New York', 2010),('Texas', 2000), ('Texas', 2010)]"
      ],
      "metadata": {
        "id": "qDv5OcHSWlX2"
      },
      "execution_count": null,
      "outputs": []
    },
    {
      "cell_type": "code",
      "source": [
        "populations = [33871648, 37253956,18976457, 19378102,20851820, 25145561]"
      ],
      "metadata": {
        "id": "hjJDTk40Wtyq"
      },
      "execution_count": null,
      "outputs": []
    },
    {
      "cell_type": "code",
      "source": [
        "pop = pd.Series(populations, index=index) # not looking good\n",
        "pop"
      ],
      "metadata": {
        "colab": {
          "base_uri": "https://localhost:8080/"
        },
        "id": "sqBEmIjtWx6c",
        "outputId": "9ac5441b-ef09-49ba-e759-639c95ad2208"
      },
      "execution_count": null,
      "outputs": [
        {
          "output_type": "execute_result",
          "data": {
            "text/plain": [
              "(California, 2000)    33871648\n",
              "(California, 2010)    37253956\n",
              "(New York, 2000)      18976457\n",
              "(New York, 2010)      19378102\n",
              "(Texas, 2000)         20851820\n",
              "(Texas, 2010)         25145561\n",
              "dtype: int64"
            ]
          },
          "metadata": {},
          "execution_count": 114
        }
      ]
    },
    {
      "cell_type": "code",
      "source": [
        "index = pd.MultiIndex.from_tuples(index)\n",
        "index"
      ],
      "metadata": {
        "colab": {
          "base_uri": "https://localhost:8080/"
        },
        "id": "k4mi1VrTW1q6",
        "outputId": "ef594743-db39-42b7-b05e-bb011efd0f0e"
      },
      "execution_count": null,
      "outputs": [
        {
          "output_type": "execute_result",
          "data": {
            "text/plain": [
              "MultiIndex([('California', 2000),\n",
              "            ('California', 2010),\n",
              "            (  'New York', 2000),\n",
              "            (  'New York', 2010),\n",
              "            (     'Texas', 2000),\n",
              "            (     'Texas', 2010)],\n",
              "           )"
            ]
          },
          "metadata": {},
          "execution_count": 115
        }
      ]
    },
    {
      "cell_type": "code",
      "source": [
        "pop = pop.reindex(index)\n",
        "pop"
      ],
      "metadata": {
        "colab": {
          "base_uri": "https://localhost:8080/"
        },
        "id": "Js1VXBLIXBTr",
        "outputId": "0c6c2cfe-1ae8-4564-fddb-45337df29065"
      },
      "execution_count": null,
      "outputs": [
        {
          "output_type": "execute_result",
          "data": {
            "text/plain": [
              "California  2000    33871648\n",
              "            2010    37253956\n",
              "New York    2000    18976457\n",
              "            2010    19378102\n",
              "Texas       2000    20851820\n",
              "            2010    25145561\n",
              "dtype: int64"
            ]
          },
          "metadata": {},
          "execution_count": 116
        }
      ]
    },
    {
      "cell_type": "code",
      "source": [
        "pop_df = pop.unstack()\n",
        "pop_df"
      ],
      "metadata": {
        "colab": {
          "base_uri": "https://localhost:8080/",
          "height": 143
        },
        "id": "qS-4CuwJXWCt",
        "outputId": "42e63851-f751-4ad9-a934-f83c638c4dd9"
      },
      "execution_count": null,
      "outputs": [
        {
          "output_type": "execute_result",
          "data": {
            "text/plain": [
              "                2000      2010\n",
              "California  33871648  37253956\n",
              "New York    18976457  19378102\n",
              "Texas       20851820  25145561"
            ],
            "text/html": [
              "\n",
              "  <div id=\"df-9d858cf9-bf13-4dcf-9262-a086a57521c5\">\n",
              "    <div class=\"colab-df-container\">\n",
              "      <div>\n",
              "<style scoped>\n",
              "    .dataframe tbody tr th:only-of-type {\n",
              "        vertical-align: middle;\n",
              "    }\n",
              "\n",
              "    .dataframe tbody tr th {\n",
              "        vertical-align: top;\n",
              "    }\n",
              "\n",
              "    .dataframe thead th {\n",
              "        text-align: right;\n",
              "    }\n",
              "</style>\n",
              "<table border=\"1\" class=\"dataframe\">\n",
              "  <thead>\n",
              "    <tr style=\"text-align: right;\">\n",
              "      <th></th>\n",
              "      <th>2000</th>\n",
              "      <th>2010</th>\n",
              "    </tr>\n",
              "  </thead>\n",
              "  <tbody>\n",
              "    <tr>\n",
              "      <th>California</th>\n",
              "      <td>33871648</td>\n",
              "      <td>37253956</td>\n",
              "    </tr>\n",
              "    <tr>\n",
              "      <th>New York</th>\n",
              "      <td>18976457</td>\n",
              "      <td>19378102</td>\n",
              "    </tr>\n",
              "    <tr>\n",
              "      <th>Texas</th>\n",
              "      <td>20851820</td>\n",
              "      <td>25145561</td>\n",
              "    </tr>\n",
              "  </tbody>\n",
              "</table>\n",
              "</div>\n",
              "      <button class=\"colab-df-convert\" onclick=\"convertToInteractive('df-9d858cf9-bf13-4dcf-9262-a086a57521c5')\"\n",
              "              title=\"Convert this dataframe to an interactive table.\"\n",
              "              style=\"display:none;\">\n",
              "        \n",
              "  <svg xmlns=\"http://www.w3.org/2000/svg\" height=\"24px\"viewBox=\"0 0 24 24\"\n",
              "       width=\"24px\">\n",
              "    <path d=\"M0 0h24v24H0V0z\" fill=\"none\"/>\n",
              "    <path d=\"M18.56 5.44l.94 2.06.94-2.06 2.06-.94-2.06-.94-.94-2.06-.94 2.06-2.06.94zm-11 1L8.5 8.5l.94-2.06 2.06-.94-2.06-.94L8.5 2.5l-.94 2.06-2.06.94zm10 10l.94 2.06.94-2.06 2.06-.94-2.06-.94-.94-2.06-.94 2.06-2.06.94z\"/><path d=\"M17.41 7.96l-1.37-1.37c-.4-.4-.92-.59-1.43-.59-.52 0-1.04.2-1.43.59L10.3 9.45l-7.72 7.72c-.78.78-.78 2.05 0 2.83L4 21.41c.39.39.9.59 1.41.59.51 0 1.02-.2 1.41-.59l7.78-7.78 2.81-2.81c.8-.78.8-2.07 0-2.86zM5.41 20L4 18.59l7.72-7.72 1.47 1.35L5.41 20z\"/>\n",
              "  </svg>\n",
              "      </button>\n",
              "      \n",
              "  <style>\n",
              "    .colab-df-container {\n",
              "      display:flex;\n",
              "      flex-wrap:wrap;\n",
              "      gap: 12px;\n",
              "    }\n",
              "\n",
              "    .colab-df-convert {\n",
              "      background-color: #E8F0FE;\n",
              "      border: none;\n",
              "      border-radius: 50%;\n",
              "      cursor: pointer;\n",
              "      display: none;\n",
              "      fill: #1967D2;\n",
              "      height: 32px;\n",
              "      padding: 0 0 0 0;\n",
              "      width: 32px;\n",
              "    }\n",
              "\n",
              "    .colab-df-convert:hover {\n",
              "      background-color: #E2EBFA;\n",
              "      box-shadow: 0px 1px 2px rgba(60, 64, 67, 0.3), 0px 1px 3px 1px rgba(60, 64, 67, 0.15);\n",
              "      fill: #174EA6;\n",
              "    }\n",
              "\n",
              "    [theme=dark] .colab-df-convert {\n",
              "      background-color: #3B4455;\n",
              "      fill: #D2E3FC;\n",
              "    }\n",
              "\n",
              "    [theme=dark] .colab-df-convert:hover {\n",
              "      background-color: #434B5C;\n",
              "      box-shadow: 0px 1px 3px 1px rgba(0, 0, 0, 0.15);\n",
              "      filter: drop-shadow(0px 1px 2px rgba(0, 0, 0, 0.3));\n",
              "      fill: #FFFFFF;\n",
              "    }\n",
              "  </style>\n",
              "\n",
              "      <script>\n",
              "        const buttonEl =\n",
              "          document.querySelector('#df-9d858cf9-bf13-4dcf-9262-a086a57521c5 button.colab-df-convert');\n",
              "        buttonEl.style.display =\n",
              "          google.colab.kernel.accessAllowed ? 'block' : 'none';\n",
              "\n",
              "        async function convertToInteractive(key) {\n",
              "          const element = document.querySelector('#df-9d858cf9-bf13-4dcf-9262-a086a57521c5');\n",
              "          const dataTable =\n",
              "            await google.colab.kernel.invokeFunction('convertToInteractive',\n",
              "                                                     [key], {});\n",
              "          if (!dataTable) return;\n",
              "\n",
              "          const docLinkHtml = 'Like what you see? Visit the ' +\n",
              "            '<a target=\"_blank\" href=https://colab.research.google.com/notebooks/data_table.ipynb>data table notebook</a>'\n",
              "            + ' to learn more about interactive tables.';\n",
              "          element.innerHTML = '';\n",
              "          dataTable['output_type'] = 'display_data';\n",
              "          await google.colab.output.renderOutput(dataTable, element);\n",
              "          const docLink = document.createElement('div');\n",
              "          docLink.innerHTML = docLinkHtml;\n",
              "          element.appendChild(docLink);\n",
              "        }\n",
              "      </script>\n",
              "    </div>\n",
              "  </div>\n",
              "  "
            ]
          },
          "metadata": {},
          "execution_count": 117
        }
      ]
    },
    {
      "cell_type": "code",
      "source": [
        "pop_df.stack()"
      ],
      "metadata": {
        "colab": {
          "base_uri": "https://localhost:8080/"
        },
        "id": "LF4g5jY-XmnS",
        "outputId": "15fd60cc-30d7-4e1c-fc2a-a8dcfe16ca89"
      },
      "execution_count": null,
      "outputs": [
        {
          "output_type": "execute_result",
          "data": {
            "text/plain": [
              "California  2000    33871648\n",
              "            2010    37253956\n",
              "New York    2000    18976457\n",
              "            2010    19378102\n",
              "Texas       2000    20851820\n",
              "            2010    25145561\n",
              "dtype: int64"
            ]
          },
          "metadata": {},
          "execution_count": 118
        }
      ]
    },
    {
      "cell_type": "code",
      "source": [
        "pop_df = pd.DataFrame({'total': pop,'under18': [9267089, 9284094,4687374, 4318033,5906301, 6879014]})\n",
        "pop_df\n"
      ],
      "metadata": {
        "colab": {
          "base_uri": "https://localhost:8080/",
          "height": 237
        },
        "id": "NXh8JX4zYER-",
        "outputId": "167f82a2-65fb-42db-ed02-a26ea434d70c"
      },
      "execution_count": null,
      "outputs": [
        {
          "output_type": "execute_result",
          "data": {
            "text/plain": [
              "                    total  under18\n",
              "California 2000  33871648  9267089\n",
              "           2010  37253956  9284094\n",
              "New York   2000  18976457  4687374\n",
              "           2010  19378102  4318033\n",
              "Texas      2000  20851820  5906301\n",
              "           2010  25145561  6879014"
            ],
            "text/html": [
              "\n",
              "  <div id=\"df-d64cf3c6-94e1-4035-a8b4-88d52c43a495\">\n",
              "    <div class=\"colab-df-container\">\n",
              "      <div>\n",
              "<style scoped>\n",
              "    .dataframe tbody tr th:only-of-type {\n",
              "        vertical-align: middle;\n",
              "    }\n",
              "\n",
              "    .dataframe tbody tr th {\n",
              "        vertical-align: top;\n",
              "    }\n",
              "\n",
              "    .dataframe thead th {\n",
              "        text-align: right;\n",
              "    }\n",
              "</style>\n",
              "<table border=\"1\" class=\"dataframe\">\n",
              "  <thead>\n",
              "    <tr style=\"text-align: right;\">\n",
              "      <th></th>\n",
              "      <th></th>\n",
              "      <th>total</th>\n",
              "      <th>under18</th>\n",
              "    </tr>\n",
              "  </thead>\n",
              "  <tbody>\n",
              "    <tr>\n",
              "      <th rowspan=\"2\" valign=\"top\">California</th>\n",
              "      <th>2000</th>\n",
              "      <td>33871648</td>\n",
              "      <td>9267089</td>\n",
              "    </tr>\n",
              "    <tr>\n",
              "      <th>2010</th>\n",
              "      <td>37253956</td>\n",
              "      <td>9284094</td>\n",
              "    </tr>\n",
              "    <tr>\n",
              "      <th rowspan=\"2\" valign=\"top\">New York</th>\n",
              "      <th>2000</th>\n",
              "      <td>18976457</td>\n",
              "      <td>4687374</td>\n",
              "    </tr>\n",
              "    <tr>\n",
              "      <th>2010</th>\n",
              "      <td>19378102</td>\n",
              "      <td>4318033</td>\n",
              "    </tr>\n",
              "    <tr>\n",
              "      <th rowspan=\"2\" valign=\"top\">Texas</th>\n",
              "      <th>2000</th>\n",
              "      <td>20851820</td>\n",
              "      <td>5906301</td>\n",
              "    </tr>\n",
              "    <tr>\n",
              "      <th>2010</th>\n",
              "      <td>25145561</td>\n",
              "      <td>6879014</td>\n",
              "    </tr>\n",
              "  </tbody>\n",
              "</table>\n",
              "</div>\n",
              "      <button class=\"colab-df-convert\" onclick=\"convertToInteractive('df-d64cf3c6-94e1-4035-a8b4-88d52c43a495')\"\n",
              "              title=\"Convert this dataframe to an interactive table.\"\n",
              "              style=\"display:none;\">\n",
              "        \n",
              "  <svg xmlns=\"http://www.w3.org/2000/svg\" height=\"24px\"viewBox=\"0 0 24 24\"\n",
              "       width=\"24px\">\n",
              "    <path d=\"M0 0h24v24H0V0z\" fill=\"none\"/>\n",
              "    <path d=\"M18.56 5.44l.94 2.06.94-2.06 2.06-.94-2.06-.94-.94-2.06-.94 2.06-2.06.94zm-11 1L8.5 8.5l.94-2.06 2.06-.94-2.06-.94L8.5 2.5l-.94 2.06-2.06.94zm10 10l.94 2.06.94-2.06 2.06-.94-2.06-.94-.94-2.06-.94 2.06-2.06.94z\"/><path d=\"M17.41 7.96l-1.37-1.37c-.4-.4-.92-.59-1.43-.59-.52 0-1.04.2-1.43.59L10.3 9.45l-7.72 7.72c-.78.78-.78 2.05 0 2.83L4 21.41c.39.39.9.59 1.41.59.51 0 1.02-.2 1.41-.59l7.78-7.78 2.81-2.81c.8-.78.8-2.07 0-2.86zM5.41 20L4 18.59l7.72-7.72 1.47 1.35L5.41 20z\"/>\n",
              "  </svg>\n",
              "      </button>\n",
              "      \n",
              "  <style>\n",
              "    .colab-df-container {\n",
              "      display:flex;\n",
              "      flex-wrap:wrap;\n",
              "      gap: 12px;\n",
              "    }\n",
              "\n",
              "    .colab-df-convert {\n",
              "      background-color: #E8F0FE;\n",
              "      border: none;\n",
              "      border-radius: 50%;\n",
              "      cursor: pointer;\n",
              "      display: none;\n",
              "      fill: #1967D2;\n",
              "      height: 32px;\n",
              "      padding: 0 0 0 0;\n",
              "      width: 32px;\n",
              "    }\n",
              "\n",
              "    .colab-df-convert:hover {\n",
              "      background-color: #E2EBFA;\n",
              "      box-shadow: 0px 1px 2px rgba(60, 64, 67, 0.3), 0px 1px 3px 1px rgba(60, 64, 67, 0.15);\n",
              "      fill: #174EA6;\n",
              "    }\n",
              "\n",
              "    [theme=dark] .colab-df-convert {\n",
              "      background-color: #3B4455;\n",
              "      fill: #D2E3FC;\n",
              "    }\n",
              "\n",
              "    [theme=dark] .colab-df-convert:hover {\n",
              "      background-color: #434B5C;\n",
              "      box-shadow: 0px 1px 3px 1px rgba(0, 0, 0, 0.15);\n",
              "      filter: drop-shadow(0px 1px 2px rgba(0, 0, 0, 0.3));\n",
              "      fill: #FFFFFF;\n",
              "    }\n",
              "  </style>\n",
              "\n",
              "      <script>\n",
              "        const buttonEl =\n",
              "          document.querySelector('#df-d64cf3c6-94e1-4035-a8b4-88d52c43a495 button.colab-df-convert');\n",
              "        buttonEl.style.display =\n",
              "          google.colab.kernel.accessAllowed ? 'block' : 'none';\n",
              "\n",
              "        async function convertToInteractive(key) {\n",
              "          const element = document.querySelector('#df-d64cf3c6-94e1-4035-a8b4-88d52c43a495');\n",
              "          const dataTable =\n",
              "            await google.colab.kernel.invokeFunction('convertToInteractive',\n",
              "                                                     [key], {});\n",
              "          if (!dataTable) return;\n",
              "\n",
              "          const docLinkHtml = 'Like what you see? Visit the ' +\n",
              "            '<a target=\"_blank\" href=https://colab.research.google.com/notebooks/data_table.ipynb>data table notebook</a>'\n",
              "            + ' to learn more about interactive tables.';\n",
              "          element.innerHTML = '';\n",
              "          dataTable['output_type'] = 'display_data';\n",
              "          await google.colab.output.renderOutput(dataTable, element);\n",
              "          const docLink = document.createElement('div');\n",
              "          docLink.innerHTML = docLinkHtml;\n",
              "          element.appendChild(docLink);\n",
              "        }\n",
              "      </script>\n",
              "    </div>\n",
              "  </div>\n",
              "  "
            ]
          },
          "metadata": {},
          "execution_count": 119
        }
      ]
    },
    {
      "cell_type": "code",
      "source": [
        "f_u18 = pop_df['under18'] / pop_df['total'] # “Operating on Data in\n",
        "#Pandas” on page 115 work with hierarchical indices as well\n",
        "f_u18.unstack()"
      ],
      "metadata": {
        "colab": {
          "base_uri": "https://localhost:8080/",
          "height": 143
        },
        "id": "ahW3cX6QYP8T",
        "outputId": "1567ae26-345e-4c7e-ff79-d755fa5dd95d"
      },
      "execution_count": null,
      "outputs": [
        {
          "output_type": "execute_result",
          "data": {
            "text/plain": [
              "                2000      2010\n",
              "California  0.273594  0.249211\n",
              "New York    0.247010  0.222831\n",
              "Texas       0.283251  0.273568"
            ],
            "text/html": [
              "\n",
              "  <div id=\"df-db4b5aea-f8b3-47b2-9cb7-6780887d30b7\">\n",
              "    <div class=\"colab-df-container\">\n",
              "      <div>\n",
              "<style scoped>\n",
              "    .dataframe tbody tr th:only-of-type {\n",
              "        vertical-align: middle;\n",
              "    }\n",
              "\n",
              "    .dataframe tbody tr th {\n",
              "        vertical-align: top;\n",
              "    }\n",
              "\n",
              "    .dataframe thead th {\n",
              "        text-align: right;\n",
              "    }\n",
              "</style>\n",
              "<table border=\"1\" class=\"dataframe\">\n",
              "  <thead>\n",
              "    <tr style=\"text-align: right;\">\n",
              "      <th></th>\n",
              "      <th>2000</th>\n",
              "      <th>2010</th>\n",
              "    </tr>\n",
              "  </thead>\n",
              "  <tbody>\n",
              "    <tr>\n",
              "      <th>California</th>\n",
              "      <td>0.273594</td>\n",
              "      <td>0.249211</td>\n",
              "    </tr>\n",
              "    <tr>\n",
              "      <th>New York</th>\n",
              "      <td>0.247010</td>\n",
              "      <td>0.222831</td>\n",
              "    </tr>\n",
              "    <tr>\n",
              "      <th>Texas</th>\n",
              "      <td>0.283251</td>\n",
              "      <td>0.273568</td>\n",
              "    </tr>\n",
              "  </tbody>\n",
              "</table>\n",
              "</div>\n",
              "      <button class=\"colab-df-convert\" onclick=\"convertToInteractive('df-db4b5aea-f8b3-47b2-9cb7-6780887d30b7')\"\n",
              "              title=\"Convert this dataframe to an interactive table.\"\n",
              "              style=\"display:none;\">\n",
              "        \n",
              "  <svg xmlns=\"http://www.w3.org/2000/svg\" height=\"24px\"viewBox=\"0 0 24 24\"\n",
              "       width=\"24px\">\n",
              "    <path d=\"M0 0h24v24H0V0z\" fill=\"none\"/>\n",
              "    <path d=\"M18.56 5.44l.94 2.06.94-2.06 2.06-.94-2.06-.94-.94-2.06-.94 2.06-2.06.94zm-11 1L8.5 8.5l.94-2.06 2.06-.94-2.06-.94L8.5 2.5l-.94 2.06-2.06.94zm10 10l.94 2.06.94-2.06 2.06-.94-2.06-.94-.94-2.06-.94 2.06-2.06.94z\"/><path d=\"M17.41 7.96l-1.37-1.37c-.4-.4-.92-.59-1.43-.59-.52 0-1.04.2-1.43.59L10.3 9.45l-7.72 7.72c-.78.78-.78 2.05 0 2.83L4 21.41c.39.39.9.59 1.41.59.51 0 1.02-.2 1.41-.59l7.78-7.78 2.81-2.81c.8-.78.8-2.07 0-2.86zM5.41 20L4 18.59l7.72-7.72 1.47 1.35L5.41 20z\"/>\n",
              "  </svg>\n",
              "      </button>\n",
              "      \n",
              "  <style>\n",
              "    .colab-df-container {\n",
              "      display:flex;\n",
              "      flex-wrap:wrap;\n",
              "      gap: 12px;\n",
              "    }\n",
              "\n",
              "    .colab-df-convert {\n",
              "      background-color: #E8F0FE;\n",
              "      border: none;\n",
              "      border-radius: 50%;\n",
              "      cursor: pointer;\n",
              "      display: none;\n",
              "      fill: #1967D2;\n",
              "      height: 32px;\n",
              "      padding: 0 0 0 0;\n",
              "      width: 32px;\n",
              "    }\n",
              "\n",
              "    .colab-df-convert:hover {\n",
              "      background-color: #E2EBFA;\n",
              "      box-shadow: 0px 1px 2px rgba(60, 64, 67, 0.3), 0px 1px 3px 1px rgba(60, 64, 67, 0.15);\n",
              "      fill: #174EA6;\n",
              "    }\n",
              "\n",
              "    [theme=dark] .colab-df-convert {\n",
              "      background-color: #3B4455;\n",
              "      fill: #D2E3FC;\n",
              "    }\n",
              "\n",
              "    [theme=dark] .colab-df-convert:hover {\n",
              "      background-color: #434B5C;\n",
              "      box-shadow: 0px 1px 3px 1px rgba(0, 0, 0, 0.15);\n",
              "      filter: drop-shadow(0px 1px 2px rgba(0, 0, 0, 0.3));\n",
              "      fill: #FFFFFF;\n",
              "    }\n",
              "  </style>\n",
              "\n",
              "      <script>\n",
              "        const buttonEl =\n",
              "          document.querySelector('#df-db4b5aea-f8b3-47b2-9cb7-6780887d30b7 button.colab-df-convert');\n",
              "        buttonEl.style.display =\n",
              "          google.colab.kernel.accessAllowed ? 'block' : 'none';\n",
              "\n",
              "        async function convertToInteractive(key) {\n",
              "          const element = document.querySelector('#df-db4b5aea-f8b3-47b2-9cb7-6780887d30b7');\n",
              "          const dataTable =\n",
              "            await google.colab.kernel.invokeFunction('convertToInteractive',\n",
              "                                                     [key], {});\n",
              "          if (!dataTable) return;\n",
              "\n",
              "          const docLinkHtml = 'Like what you see? Visit the ' +\n",
              "            '<a target=\"_blank\" href=https://colab.research.google.com/notebooks/data_table.ipynb>data table notebook</a>'\n",
              "            + ' to learn more about interactive tables.';\n",
              "          element.innerHTML = '';\n",
              "          dataTable['output_type'] = 'display_data';\n",
              "          await google.colab.output.renderOutput(dataTable, element);\n",
              "          const docLink = document.createElement('div');\n",
              "          docLink.innerHTML = docLinkHtml;\n",
              "          element.appendChild(docLink);\n",
              "        }\n",
              "      </script>\n",
              "    </div>\n",
              "  </div>\n",
              "  "
            ]
          },
          "metadata": {},
          "execution_count": 120
        }
      ]
    },
    {
      "cell_type": "code",
      "source": [
        "#Methods of MultiIndex Creation\n",
        "df = pd.DataFrame(np.random.rand(4, 2),index=[['a', 'a', 'b', 'b'], [1, 2, 1, 2]],columns=['data1', 'data2'])\n",
        "df"
      ],
      "metadata": {
        "colab": {
          "base_uri": "https://localhost:8080/",
          "height": 175
        },
        "id": "DNq5yQe5Ylb2",
        "outputId": "17bcef1d-6b3a-410f-8b19-84fd517aed45"
      },
      "execution_count": null,
      "outputs": [
        {
          "output_type": "execute_result",
          "data": {
            "text/plain": [
              "        data1     data2\n",
              "a 1  0.547597  0.471477\n",
              "  2  0.489920  0.420871\n",
              "b 1  0.135702  0.864535\n",
              "  2  0.125547  0.361900"
            ],
            "text/html": [
              "\n",
              "  <div id=\"df-c4fc21f2-f6ed-475d-8df6-ac959a96faec\">\n",
              "    <div class=\"colab-df-container\">\n",
              "      <div>\n",
              "<style scoped>\n",
              "    .dataframe tbody tr th:only-of-type {\n",
              "        vertical-align: middle;\n",
              "    }\n",
              "\n",
              "    .dataframe tbody tr th {\n",
              "        vertical-align: top;\n",
              "    }\n",
              "\n",
              "    .dataframe thead th {\n",
              "        text-align: right;\n",
              "    }\n",
              "</style>\n",
              "<table border=\"1\" class=\"dataframe\">\n",
              "  <thead>\n",
              "    <tr style=\"text-align: right;\">\n",
              "      <th></th>\n",
              "      <th></th>\n",
              "      <th>data1</th>\n",
              "      <th>data2</th>\n",
              "    </tr>\n",
              "  </thead>\n",
              "  <tbody>\n",
              "    <tr>\n",
              "      <th rowspan=\"2\" valign=\"top\">a</th>\n",
              "      <th>1</th>\n",
              "      <td>0.547597</td>\n",
              "      <td>0.471477</td>\n",
              "    </tr>\n",
              "    <tr>\n",
              "      <th>2</th>\n",
              "      <td>0.489920</td>\n",
              "      <td>0.420871</td>\n",
              "    </tr>\n",
              "    <tr>\n",
              "      <th rowspan=\"2\" valign=\"top\">b</th>\n",
              "      <th>1</th>\n",
              "      <td>0.135702</td>\n",
              "      <td>0.864535</td>\n",
              "    </tr>\n",
              "    <tr>\n",
              "      <th>2</th>\n",
              "      <td>0.125547</td>\n",
              "      <td>0.361900</td>\n",
              "    </tr>\n",
              "  </tbody>\n",
              "</table>\n",
              "</div>\n",
              "      <button class=\"colab-df-convert\" onclick=\"convertToInteractive('df-c4fc21f2-f6ed-475d-8df6-ac959a96faec')\"\n",
              "              title=\"Convert this dataframe to an interactive table.\"\n",
              "              style=\"display:none;\">\n",
              "        \n",
              "  <svg xmlns=\"http://www.w3.org/2000/svg\" height=\"24px\"viewBox=\"0 0 24 24\"\n",
              "       width=\"24px\">\n",
              "    <path d=\"M0 0h24v24H0V0z\" fill=\"none\"/>\n",
              "    <path d=\"M18.56 5.44l.94 2.06.94-2.06 2.06-.94-2.06-.94-.94-2.06-.94 2.06-2.06.94zm-11 1L8.5 8.5l.94-2.06 2.06-.94-2.06-.94L8.5 2.5l-.94 2.06-2.06.94zm10 10l.94 2.06.94-2.06 2.06-.94-2.06-.94-.94-2.06-.94 2.06-2.06.94z\"/><path d=\"M17.41 7.96l-1.37-1.37c-.4-.4-.92-.59-1.43-.59-.52 0-1.04.2-1.43.59L10.3 9.45l-7.72 7.72c-.78.78-.78 2.05 0 2.83L4 21.41c.39.39.9.59 1.41.59.51 0 1.02-.2 1.41-.59l7.78-7.78 2.81-2.81c.8-.78.8-2.07 0-2.86zM5.41 20L4 18.59l7.72-7.72 1.47 1.35L5.41 20z\"/>\n",
              "  </svg>\n",
              "      </button>\n",
              "      \n",
              "  <style>\n",
              "    .colab-df-container {\n",
              "      display:flex;\n",
              "      flex-wrap:wrap;\n",
              "      gap: 12px;\n",
              "    }\n",
              "\n",
              "    .colab-df-convert {\n",
              "      background-color: #E8F0FE;\n",
              "      border: none;\n",
              "      border-radius: 50%;\n",
              "      cursor: pointer;\n",
              "      display: none;\n",
              "      fill: #1967D2;\n",
              "      height: 32px;\n",
              "      padding: 0 0 0 0;\n",
              "      width: 32px;\n",
              "    }\n",
              "\n",
              "    .colab-df-convert:hover {\n",
              "      background-color: #E2EBFA;\n",
              "      box-shadow: 0px 1px 2px rgba(60, 64, 67, 0.3), 0px 1px 3px 1px rgba(60, 64, 67, 0.15);\n",
              "      fill: #174EA6;\n",
              "    }\n",
              "\n",
              "    [theme=dark] .colab-df-convert {\n",
              "      background-color: #3B4455;\n",
              "      fill: #D2E3FC;\n",
              "    }\n",
              "\n",
              "    [theme=dark] .colab-df-convert:hover {\n",
              "      background-color: #434B5C;\n",
              "      box-shadow: 0px 1px 3px 1px rgba(0, 0, 0, 0.15);\n",
              "      filter: drop-shadow(0px 1px 2px rgba(0, 0, 0, 0.3));\n",
              "      fill: #FFFFFF;\n",
              "    }\n",
              "  </style>\n",
              "\n",
              "      <script>\n",
              "        const buttonEl =\n",
              "          document.querySelector('#df-c4fc21f2-f6ed-475d-8df6-ac959a96faec button.colab-df-convert');\n",
              "        buttonEl.style.display =\n",
              "          google.colab.kernel.accessAllowed ? 'block' : 'none';\n",
              "\n",
              "        async function convertToInteractive(key) {\n",
              "          const element = document.querySelector('#df-c4fc21f2-f6ed-475d-8df6-ac959a96faec');\n",
              "          const dataTable =\n",
              "            await google.colab.kernel.invokeFunction('convertToInteractive',\n",
              "                                                     [key], {});\n",
              "          if (!dataTable) return;\n",
              "\n",
              "          const docLinkHtml = 'Like what you see? Visit the ' +\n",
              "            '<a target=\"_blank\" href=https://colab.research.google.com/notebooks/data_table.ipynb>data table notebook</a>'\n",
              "            + ' to learn more about interactive tables.';\n",
              "          element.innerHTML = '';\n",
              "          dataTable['output_type'] = 'display_data';\n",
              "          await google.colab.output.renderOutput(dataTable, element);\n",
              "          const docLink = document.createElement('div');\n",
              "          docLink.innerHTML = docLinkHtml;\n",
              "          element.appendChild(docLink);\n",
              "        }\n",
              "      </script>\n",
              "    </div>\n",
              "  </div>\n",
              "  "
            ]
          },
          "metadata": {},
          "execution_count": 121
        }
      ]
    },
    {
      "cell_type": "code",
      "source": [
        "data = {('California', 2000): 33871648,\n",
        "('California', 2010): 37253956,\n",
        "('Texas', 2000): 20851820,\n",
        "('Texas', 2010): 25145561,\n",
        "('New York', 2000): 18976457,\n",
        "('New York', 2010): 19378102}\n",
        "pd.Series(data)"
      ],
      "metadata": {
        "colab": {
          "base_uri": "https://localhost:8080/"
        },
        "id": "4btrb3_qY2SR",
        "outputId": "a2d75470-1ef5-4593-861b-c59257689db0"
      },
      "execution_count": null,
      "outputs": [
        {
          "output_type": "execute_result",
          "data": {
            "text/plain": [
              "California  2000    33871648\n",
              "            2010    37253956\n",
              "Texas       2000    20851820\n",
              "            2010    25145561\n",
              "New York    2000    18976457\n",
              "            2010    19378102\n",
              "dtype: int64"
            ]
          },
          "metadata": {},
          "execution_count": 122
        }
      ]
    },
    {
      "cell_type": "code",
      "source": [
        "pop.index.names = ['state', 'year']\n",
        "pop"
      ],
      "metadata": {
        "colab": {
          "base_uri": "https://localhost:8080/"
        },
        "id": "OubudFhlY_dP",
        "outputId": "4e2295b5-8c6d-40f1-f87a-38d8515b1f2c"
      },
      "execution_count": null,
      "outputs": [
        {
          "output_type": "execute_result",
          "data": {
            "text/plain": [
              "state       year\n",
              "California  2000    33871648\n",
              "            2010    37253956\n",
              "New York    2000    18976457\n",
              "            2010    19378102\n",
              "Texas       2000    20851820\n",
              "            2010    25145561\n",
              "dtype: int64"
            ]
          },
          "metadata": {},
          "execution_count": 123
        }
      ]
    },
    {
      "cell_type": "code",
      "source": [
        "#hierarchical indices and columns\n",
        "index = pd.MultiIndex.from_product([[2013, 2014], [1, 2]],\n",
        "names=['year', 'visit'])\n",
        "columns = pd.MultiIndex.from_product([['Bob', 'Guido', 'Sue'], ['HR', 'Temp']],\n",
        "names=['subject', 'type'])\n",
        "\n"
      ],
      "metadata": {
        "id": "h5kzx3TpZcmS"
      },
      "execution_count": null,
      "outputs": []
    },
    {
      "cell_type": "code",
      "source": [
        "# mock some data\n",
        "data = np.round(np.random.randn(4, 6), 1)\n",
        "data[:, ::2] *= 10\n",
        "data += 37"
      ],
      "metadata": {
        "id": "Ssh_uegsZztS"
      },
      "execution_count": null,
      "outputs": []
    },
    {
      "cell_type": "code",
      "source": [
        "# create the DataFrame\n",
        "health_data = pd.DataFrame(data, index=index, columns=columns)\n",
        "health_data"
      ],
      "metadata": {
        "colab": {
          "base_uri": "https://localhost:8080/",
          "height": 237
        },
        "id": "p8ddBmxHZ1_7",
        "outputId": "f0569ab5-1d70-4631-b014-c85baae2ce11"
      },
      "execution_count": null,
      "outputs": [
        {
          "output_type": "execute_result",
          "data": {
            "text/plain": [
              "subject      Bob       Guido         Sue      \n",
              "type          HR  Temp    HR  Temp    HR  Temp\n",
              "year visit                                    \n",
              "2013 1      27.0  38.3  50.0  38.5  41.0  36.4\n",
              "     2      47.0  37.2  35.0  35.9  50.0  38.3\n",
              "2014 1      53.0  37.3  42.0  36.1  35.0  37.2\n",
              "     2      34.0  37.2  26.0  36.3  47.0  34.2"
            ],
            "text/html": [
              "\n",
              "  <div id=\"df-add40b0d-c452-4ae0-afd2-384f93127a1a\">\n",
              "    <div class=\"colab-df-container\">\n",
              "      <div>\n",
              "<style scoped>\n",
              "    .dataframe tbody tr th:only-of-type {\n",
              "        vertical-align: middle;\n",
              "    }\n",
              "\n",
              "    .dataframe tbody tr th {\n",
              "        vertical-align: top;\n",
              "    }\n",
              "\n",
              "    .dataframe thead tr th {\n",
              "        text-align: left;\n",
              "    }\n",
              "\n",
              "    .dataframe thead tr:last-of-type th {\n",
              "        text-align: right;\n",
              "    }\n",
              "</style>\n",
              "<table border=\"1\" class=\"dataframe\">\n",
              "  <thead>\n",
              "    <tr>\n",
              "      <th></th>\n",
              "      <th>subject</th>\n",
              "      <th colspan=\"2\" halign=\"left\">Bob</th>\n",
              "      <th colspan=\"2\" halign=\"left\">Guido</th>\n",
              "      <th colspan=\"2\" halign=\"left\">Sue</th>\n",
              "    </tr>\n",
              "    <tr>\n",
              "      <th></th>\n",
              "      <th>type</th>\n",
              "      <th>HR</th>\n",
              "      <th>Temp</th>\n",
              "      <th>HR</th>\n",
              "      <th>Temp</th>\n",
              "      <th>HR</th>\n",
              "      <th>Temp</th>\n",
              "    </tr>\n",
              "    <tr>\n",
              "      <th>year</th>\n",
              "      <th>visit</th>\n",
              "      <th></th>\n",
              "      <th></th>\n",
              "      <th></th>\n",
              "      <th></th>\n",
              "      <th></th>\n",
              "      <th></th>\n",
              "    </tr>\n",
              "  </thead>\n",
              "  <tbody>\n",
              "    <tr>\n",
              "      <th rowspan=\"2\" valign=\"top\">2013</th>\n",
              "      <th>1</th>\n",
              "      <td>27.0</td>\n",
              "      <td>38.3</td>\n",
              "      <td>50.0</td>\n",
              "      <td>38.5</td>\n",
              "      <td>41.0</td>\n",
              "      <td>36.4</td>\n",
              "    </tr>\n",
              "    <tr>\n",
              "      <th>2</th>\n",
              "      <td>47.0</td>\n",
              "      <td>37.2</td>\n",
              "      <td>35.0</td>\n",
              "      <td>35.9</td>\n",
              "      <td>50.0</td>\n",
              "      <td>38.3</td>\n",
              "    </tr>\n",
              "    <tr>\n",
              "      <th rowspan=\"2\" valign=\"top\">2014</th>\n",
              "      <th>1</th>\n",
              "      <td>53.0</td>\n",
              "      <td>37.3</td>\n",
              "      <td>42.0</td>\n",
              "      <td>36.1</td>\n",
              "      <td>35.0</td>\n",
              "      <td>37.2</td>\n",
              "    </tr>\n",
              "    <tr>\n",
              "      <th>2</th>\n",
              "      <td>34.0</td>\n",
              "      <td>37.2</td>\n",
              "      <td>26.0</td>\n",
              "      <td>36.3</td>\n",
              "      <td>47.0</td>\n",
              "      <td>34.2</td>\n",
              "    </tr>\n",
              "  </tbody>\n",
              "</table>\n",
              "</div>\n",
              "      <button class=\"colab-df-convert\" onclick=\"convertToInteractive('df-add40b0d-c452-4ae0-afd2-384f93127a1a')\"\n",
              "              title=\"Convert this dataframe to an interactive table.\"\n",
              "              style=\"display:none;\">\n",
              "        \n",
              "  <svg xmlns=\"http://www.w3.org/2000/svg\" height=\"24px\"viewBox=\"0 0 24 24\"\n",
              "       width=\"24px\">\n",
              "    <path d=\"M0 0h24v24H0V0z\" fill=\"none\"/>\n",
              "    <path d=\"M18.56 5.44l.94 2.06.94-2.06 2.06-.94-2.06-.94-.94-2.06-.94 2.06-2.06.94zm-11 1L8.5 8.5l.94-2.06 2.06-.94-2.06-.94L8.5 2.5l-.94 2.06-2.06.94zm10 10l.94 2.06.94-2.06 2.06-.94-2.06-.94-.94-2.06-.94 2.06-2.06.94z\"/><path d=\"M17.41 7.96l-1.37-1.37c-.4-.4-.92-.59-1.43-.59-.52 0-1.04.2-1.43.59L10.3 9.45l-7.72 7.72c-.78.78-.78 2.05 0 2.83L4 21.41c.39.39.9.59 1.41.59.51 0 1.02-.2 1.41-.59l7.78-7.78 2.81-2.81c.8-.78.8-2.07 0-2.86zM5.41 20L4 18.59l7.72-7.72 1.47 1.35L5.41 20z\"/>\n",
              "  </svg>\n",
              "      </button>\n",
              "      \n",
              "  <style>\n",
              "    .colab-df-container {\n",
              "      display:flex;\n",
              "      flex-wrap:wrap;\n",
              "      gap: 12px;\n",
              "    }\n",
              "\n",
              "    .colab-df-convert {\n",
              "      background-color: #E8F0FE;\n",
              "      border: none;\n",
              "      border-radius: 50%;\n",
              "      cursor: pointer;\n",
              "      display: none;\n",
              "      fill: #1967D2;\n",
              "      height: 32px;\n",
              "      padding: 0 0 0 0;\n",
              "      width: 32px;\n",
              "    }\n",
              "\n",
              "    .colab-df-convert:hover {\n",
              "      background-color: #E2EBFA;\n",
              "      box-shadow: 0px 1px 2px rgba(60, 64, 67, 0.3), 0px 1px 3px 1px rgba(60, 64, 67, 0.15);\n",
              "      fill: #174EA6;\n",
              "    }\n",
              "\n",
              "    [theme=dark] .colab-df-convert {\n",
              "      background-color: #3B4455;\n",
              "      fill: #D2E3FC;\n",
              "    }\n",
              "\n",
              "    [theme=dark] .colab-df-convert:hover {\n",
              "      background-color: #434B5C;\n",
              "      box-shadow: 0px 1px 3px 1px rgba(0, 0, 0, 0.15);\n",
              "      filter: drop-shadow(0px 1px 2px rgba(0, 0, 0, 0.3));\n",
              "      fill: #FFFFFF;\n",
              "    }\n",
              "  </style>\n",
              "\n",
              "      <script>\n",
              "        const buttonEl =\n",
              "          document.querySelector('#df-add40b0d-c452-4ae0-afd2-384f93127a1a button.colab-df-convert');\n",
              "        buttonEl.style.display =\n",
              "          google.colab.kernel.accessAllowed ? 'block' : 'none';\n",
              "\n",
              "        async function convertToInteractive(key) {\n",
              "          const element = document.querySelector('#df-add40b0d-c452-4ae0-afd2-384f93127a1a');\n",
              "          const dataTable =\n",
              "            await google.colab.kernel.invokeFunction('convertToInteractive',\n",
              "                                                     [key], {});\n",
              "          if (!dataTable) return;\n",
              "\n",
              "          const docLinkHtml = 'Like what you see? Visit the ' +\n",
              "            '<a target=\"_blank\" href=https://colab.research.google.com/notebooks/data_table.ipynb>data table notebook</a>'\n",
              "            + ' to learn more about interactive tables.';\n",
              "          element.innerHTML = '';\n",
              "          dataTable['output_type'] = 'display_data';\n",
              "          await google.colab.output.renderOutput(dataTable, element);\n",
              "          const docLink = document.createElement('div');\n",
              "          docLink.innerHTML = docLinkHtml;\n",
              "          element.appendChild(docLink);\n",
              "        }\n",
              "      </script>\n",
              "    </div>\n",
              "  </div>\n",
              "  "
            ]
          },
          "metadata": {},
          "execution_count": 126
        }
      ]
    },
    {
      "cell_type": "code",
      "source": [
        "health_data['Guido']"
      ],
      "metadata": {
        "colab": {
          "base_uri": "https://localhost:8080/"
        },
        "id": "ISkGpkdhZ5Yp",
        "outputId": "d0c4dcfe-bda1-46de-91d2-e61a40d4745e"
      },
      "execution_count": null,
      "outputs": [
        {
          "output_type": "execute_result",
          "data": {
            "text/plain": [
              "type          HR  Temp\n",
              "year visit            \n",
              "2013 1      58.0  37.6\n",
              "     2      50.0  37.1\n",
              "2014 1      40.0  35.2\n",
              "     2      37.0  36.3"
            ],
            "text/html": [
              "\n",
              "  <div id=\"df-6fa45043-5936-4c1d-a3f7-ac07904d3ca7\">\n",
              "    <div class=\"colab-df-container\">\n",
              "      <div>\n",
              "<style scoped>\n",
              "    .dataframe tbody tr th:only-of-type {\n",
              "        vertical-align: middle;\n",
              "    }\n",
              "\n",
              "    .dataframe tbody tr th {\n",
              "        vertical-align: top;\n",
              "    }\n",
              "\n",
              "    .dataframe thead th {\n",
              "        text-align: right;\n",
              "    }\n",
              "</style>\n",
              "<table border=\"1\" class=\"dataframe\">\n",
              "  <thead>\n",
              "    <tr style=\"text-align: right;\">\n",
              "      <th></th>\n",
              "      <th>type</th>\n",
              "      <th>HR</th>\n",
              "      <th>Temp</th>\n",
              "    </tr>\n",
              "    <tr>\n",
              "      <th>year</th>\n",
              "      <th>visit</th>\n",
              "      <th></th>\n",
              "      <th></th>\n",
              "    </tr>\n",
              "  </thead>\n",
              "  <tbody>\n",
              "    <tr>\n",
              "      <th rowspan=\"2\" valign=\"top\">2013</th>\n",
              "      <th>1</th>\n",
              "      <td>58.0</td>\n",
              "      <td>37.6</td>\n",
              "    </tr>\n",
              "    <tr>\n",
              "      <th>2</th>\n",
              "      <td>50.0</td>\n",
              "      <td>37.1</td>\n",
              "    </tr>\n",
              "    <tr>\n",
              "      <th rowspan=\"2\" valign=\"top\">2014</th>\n",
              "      <th>1</th>\n",
              "      <td>40.0</td>\n",
              "      <td>35.2</td>\n",
              "    </tr>\n",
              "    <tr>\n",
              "      <th>2</th>\n",
              "      <td>37.0</td>\n",
              "      <td>36.3</td>\n",
              "    </tr>\n",
              "  </tbody>\n",
              "</table>\n",
              "</div>\n",
              "      <button class=\"colab-df-convert\" onclick=\"convertToInteractive('df-6fa45043-5936-4c1d-a3f7-ac07904d3ca7')\"\n",
              "              title=\"Convert this dataframe to an interactive table.\"\n",
              "              style=\"display:none;\">\n",
              "        \n",
              "  <svg xmlns=\"http://www.w3.org/2000/svg\" height=\"24px\"viewBox=\"0 0 24 24\"\n",
              "       width=\"24px\">\n",
              "    <path d=\"M0 0h24v24H0V0z\" fill=\"none\"/>\n",
              "    <path d=\"M18.56 5.44l.94 2.06.94-2.06 2.06-.94-2.06-.94-.94-2.06-.94 2.06-2.06.94zm-11 1L8.5 8.5l.94-2.06 2.06-.94-2.06-.94L8.5 2.5l-.94 2.06-2.06.94zm10 10l.94 2.06.94-2.06 2.06-.94-2.06-.94-.94-2.06-.94 2.06-2.06.94z\"/><path d=\"M17.41 7.96l-1.37-1.37c-.4-.4-.92-.59-1.43-.59-.52 0-1.04.2-1.43.59L10.3 9.45l-7.72 7.72c-.78.78-.78 2.05 0 2.83L4 21.41c.39.39.9.59 1.41.59.51 0 1.02-.2 1.41-.59l7.78-7.78 2.81-2.81c.8-.78.8-2.07 0-2.86zM5.41 20L4 18.59l7.72-7.72 1.47 1.35L5.41 20z\"/>\n",
              "  </svg>\n",
              "      </button>\n",
              "      \n",
              "  <style>\n",
              "    .colab-df-container {\n",
              "      display:flex;\n",
              "      flex-wrap:wrap;\n",
              "      gap: 12px;\n",
              "    }\n",
              "\n",
              "    .colab-df-convert {\n",
              "      background-color: #E8F0FE;\n",
              "      border: none;\n",
              "      border-radius: 50%;\n",
              "      cursor: pointer;\n",
              "      display: none;\n",
              "      fill: #1967D2;\n",
              "      height: 32px;\n",
              "      padding: 0 0 0 0;\n",
              "      width: 32px;\n",
              "    }\n",
              "\n",
              "    .colab-df-convert:hover {\n",
              "      background-color: #E2EBFA;\n",
              "      box-shadow: 0px 1px 2px rgba(60, 64, 67, 0.3), 0px 1px 3px 1px rgba(60, 64, 67, 0.15);\n",
              "      fill: #174EA6;\n",
              "    }\n",
              "\n",
              "    [theme=dark] .colab-df-convert {\n",
              "      background-color: #3B4455;\n",
              "      fill: #D2E3FC;\n",
              "    }\n",
              "\n",
              "    [theme=dark] .colab-df-convert:hover {\n",
              "      background-color: #434B5C;\n",
              "      box-shadow: 0px 1px 3px 1px rgba(0, 0, 0, 0.15);\n",
              "      filter: drop-shadow(0px 1px 2px rgba(0, 0, 0, 0.3));\n",
              "      fill: #FFFFFF;\n",
              "    }\n",
              "  </style>\n",
              "\n",
              "      <script>\n",
              "        const buttonEl =\n",
              "          document.querySelector('#df-6fa45043-5936-4c1d-a3f7-ac07904d3ca7 button.colab-df-convert');\n",
              "        buttonEl.style.display =\n",
              "          google.colab.kernel.accessAllowed ? 'block' : 'none';\n",
              "\n",
              "        async function convertToInteractive(key) {\n",
              "          const element = document.querySelector('#df-6fa45043-5936-4c1d-a3f7-ac07904d3ca7');\n",
              "          const dataTable =\n",
              "            await google.colab.kernel.invokeFunction('convertToInteractive',\n",
              "                                                     [key], {});\n",
              "          if (!dataTable) return;\n",
              "\n",
              "          const docLinkHtml = 'Like what you see? Visit the ' +\n",
              "            '<a target=\"_blank\" href=https://colab.research.google.com/notebooks/data_table.ipynb>data table notebook</a>'\n",
              "            + ' to learn more about interactive tables.';\n",
              "          element.innerHTML = '';\n",
              "          dataTable['output_type'] = 'display_data';\n",
              "          await google.colab.output.renderOutput(dataTable, element);\n",
              "          const docLink = document.createElement('div');\n",
              "          docLink.innerHTML = docLinkHtml;\n",
              "          element.appendChild(docLink);\n",
              "        }\n",
              "      </script>\n",
              "    </div>\n",
              "  </div>\n",
              "  "
            ]
          },
          "metadata": {},
          "execution_count": 297
        }
      ]
    },
    {
      "cell_type": "code",
      "source": [
        "pop"
      ],
      "metadata": {
        "colab": {
          "base_uri": "https://localhost:8080/"
        },
        "id": "05dXEcnLZ_rj",
        "outputId": "b98ca6da-2439-4092-a792-aa98f19cd36a"
      },
      "execution_count": null,
      "outputs": [
        {
          "output_type": "execute_result",
          "data": {
            "text/plain": [
              "state       year\n",
              "California  2000    33871648\n",
              "            2010    37253956\n",
              "New York    2000    18976457\n",
              "            2010    19378102\n",
              "Texas       2000    20851820\n",
              "            2010    25145561\n",
              "dtype: int64"
            ]
          },
          "metadata": {},
          "execution_count": 298
        }
      ]
    },
    {
      "cell_type": "code",
      "source": [
        "pop['California']"
      ],
      "metadata": {
        "colab": {
          "base_uri": "https://localhost:8080/"
        },
        "id": "SyxaeXNaaGe8",
        "outputId": "ee58cf40-bbbd-4eaf-a3e4-d4ed169da0ec"
      },
      "execution_count": null,
      "outputs": [
        {
          "output_type": "execute_result",
          "data": {
            "text/plain": [
              "year\n",
              "2000    33871648\n",
              "2010    37253956\n",
              "dtype: int64"
            ]
          },
          "metadata": {},
          "execution_count": 299
        }
      ]
    },
    {
      "cell_type": "code",
      "source": [
        "pop.loc['California':'New York']"
      ],
      "metadata": {
        "colab": {
          "base_uri": "https://localhost:8080/"
        },
        "id": "GX95OMlZaKpc",
        "outputId": "748841f6-a7f8-4ba6-a4f6-f52609ef6fec"
      },
      "execution_count": null,
      "outputs": [
        {
          "output_type": "execute_result",
          "data": {
            "text/plain": [
              "state       year\n",
              "California  2000    33871648\n",
              "            2010    37253956\n",
              "New York    2000    18976457\n",
              "            2010    19378102\n",
              "dtype: int64"
            ]
          },
          "metadata": {},
          "execution_count": 300
        }
      ]
    },
    {
      "cell_type": "code",
      "source": [
        "pop[:, 2000]"
      ],
      "metadata": {
        "colab": {
          "base_uri": "https://localhost:8080/"
        },
        "id": "X6lB1kMTaRcT",
        "outputId": "468539cb-db79-4459-f42b-190b3a0e40ff"
      },
      "execution_count": null,
      "outputs": [
        {
          "output_type": "execute_result",
          "data": {
            "text/plain": [
              "state\n",
              "California    33871648\n",
              "New York      18976457\n",
              "Texas         20851820\n",
              "dtype: int64"
            ]
          },
          "metadata": {},
          "execution_count": 301
        }
      ]
    },
    {
      "cell_type": "code",
      "source": [
        "pop[pop > 22000000]"
      ],
      "metadata": {
        "colab": {
          "base_uri": "https://localhost:8080/"
        },
        "id": "nh3yqGHsacsX",
        "outputId": "4a7a21c0-62ae-44ff-dfbd-ff2f3e7e85ec"
      },
      "execution_count": null,
      "outputs": [
        {
          "output_type": "execute_result",
          "data": {
            "text/plain": [
              "state       year\n",
              "California  2000    33871648\n",
              "            2010    37253956\n",
              "Texas       2010    25145561\n",
              "dtype: int64"
            ]
          },
          "metadata": {},
          "execution_count": 302
        }
      ]
    },
    {
      "cell_type": "code",
      "source": [
        "pop[['California', 'Texas']]"
      ],
      "metadata": {
        "colab": {
          "base_uri": "https://localhost:8080/"
        },
        "id": "0GZrb44Maf2v",
        "outputId": "8f8e3236-f1c6-4852-86e2-7e813ec6f702"
      },
      "execution_count": null,
      "outputs": [
        {
          "output_type": "execute_result",
          "data": {
            "text/plain": [
              "state       year\n",
              "California  2000    33871648\n",
              "            2010    37253956\n",
              "Texas       2000    20851820\n",
              "            2010    25145561\n",
              "dtype: int64"
            ]
          },
          "metadata": {},
          "execution_count": 303
        }
      ]
    },
    {
      "cell_type": "code",
      "source": [
        "health_data"
      ],
      "metadata": {
        "colab": {
          "base_uri": "https://localhost:8080/"
        },
        "id": "jBiahA-Qajf3",
        "outputId": "808b9932-b8c2-4491-a54c-d8c1da87d020"
      },
      "execution_count": null,
      "outputs": [
        {
          "output_type": "execute_result",
          "data": {
            "text/plain": [
              "subject      Bob       Guido         Sue      \n",
              "type          HR  Temp    HR  Temp    HR  Temp\n",
              "year visit                                    \n",
              "2013 1      44.0  37.1  58.0  37.6  41.0  35.7\n",
              "     2      17.0  35.8  50.0  37.1  36.0  36.4\n",
              "2014 1      37.0  39.1  40.0  35.2  34.0  38.7\n",
              "     2      49.0  38.4  37.0  36.3  36.0  37.4"
            ],
            "text/html": [
              "\n",
              "  <div id=\"df-0ef603ef-4512-4419-b5b8-2557472bde07\">\n",
              "    <div class=\"colab-df-container\">\n",
              "      <div>\n",
              "<style scoped>\n",
              "    .dataframe tbody tr th:only-of-type {\n",
              "        vertical-align: middle;\n",
              "    }\n",
              "\n",
              "    .dataframe tbody tr th {\n",
              "        vertical-align: top;\n",
              "    }\n",
              "\n",
              "    .dataframe thead tr th {\n",
              "        text-align: left;\n",
              "    }\n",
              "\n",
              "    .dataframe thead tr:last-of-type th {\n",
              "        text-align: right;\n",
              "    }\n",
              "</style>\n",
              "<table border=\"1\" class=\"dataframe\">\n",
              "  <thead>\n",
              "    <tr>\n",
              "      <th></th>\n",
              "      <th>subject</th>\n",
              "      <th colspan=\"2\" halign=\"left\">Bob</th>\n",
              "      <th colspan=\"2\" halign=\"left\">Guido</th>\n",
              "      <th colspan=\"2\" halign=\"left\">Sue</th>\n",
              "    </tr>\n",
              "    <tr>\n",
              "      <th></th>\n",
              "      <th>type</th>\n",
              "      <th>HR</th>\n",
              "      <th>Temp</th>\n",
              "      <th>HR</th>\n",
              "      <th>Temp</th>\n",
              "      <th>HR</th>\n",
              "      <th>Temp</th>\n",
              "    </tr>\n",
              "    <tr>\n",
              "      <th>year</th>\n",
              "      <th>visit</th>\n",
              "      <th></th>\n",
              "      <th></th>\n",
              "      <th></th>\n",
              "      <th></th>\n",
              "      <th></th>\n",
              "      <th></th>\n",
              "    </tr>\n",
              "  </thead>\n",
              "  <tbody>\n",
              "    <tr>\n",
              "      <th rowspan=\"2\" valign=\"top\">2013</th>\n",
              "      <th>1</th>\n",
              "      <td>44.0</td>\n",
              "      <td>37.1</td>\n",
              "      <td>58.0</td>\n",
              "      <td>37.6</td>\n",
              "      <td>41.0</td>\n",
              "      <td>35.7</td>\n",
              "    </tr>\n",
              "    <tr>\n",
              "      <th>2</th>\n",
              "      <td>17.0</td>\n",
              "      <td>35.8</td>\n",
              "      <td>50.0</td>\n",
              "      <td>37.1</td>\n",
              "      <td>36.0</td>\n",
              "      <td>36.4</td>\n",
              "    </tr>\n",
              "    <tr>\n",
              "      <th rowspan=\"2\" valign=\"top\">2014</th>\n",
              "      <th>1</th>\n",
              "      <td>37.0</td>\n",
              "      <td>39.1</td>\n",
              "      <td>40.0</td>\n",
              "      <td>35.2</td>\n",
              "      <td>34.0</td>\n",
              "      <td>38.7</td>\n",
              "    </tr>\n",
              "    <tr>\n",
              "      <th>2</th>\n",
              "      <td>49.0</td>\n",
              "      <td>38.4</td>\n",
              "      <td>37.0</td>\n",
              "      <td>36.3</td>\n",
              "      <td>36.0</td>\n",
              "      <td>37.4</td>\n",
              "    </tr>\n",
              "  </tbody>\n",
              "</table>\n",
              "</div>\n",
              "      <button class=\"colab-df-convert\" onclick=\"convertToInteractive('df-0ef603ef-4512-4419-b5b8-2557472bde07')\"\n",
              "              title=\"Convert this dataframe to an interactive table.\"\n",
              "              style=\"display:none;\">\n",
              "        \n",
              "  <svg xmlns=\"http://www.w3.org/2000/svg\" height=\"24px\"viewBox=\"0 0 24 24\"\n",
              "       width=\"24px\">\n",
              "    <path d=\"M0 0h24v24H0V0z\" fill=\"none\"/>\n",
              "    <path d=\"M18.56 5.44l.94 2.06.94-2.06 2.06-.94-2.06-.94-.94-2.06-.94 2.06-2.06.94zm-11 1L8.5 8.5l.94-2.06 2.06-.94-2.06-.94L8.5 2.5l-.94 2.06-2.06.94zm10 10l.94 2.06.94-2.06 2.06-.94-2.06-.94-.94-2.06-.94 2.06-2.06.94z\"/><path d=\"M17.41 7.96l-1.37-1.37c-.4-.4-.92-.59-1.43-.59-.52 0-1.04.2-1.43.59L10.3 9.45l-7.72 7.72c-.78.78-.78 2.05 0 2.83L4 21.41c.39.39.9.59 1.41.59.51 0 1.02-.2 1.41-.59l7.78-7.78 2.81-2.81c.8-.78.8-2.07 0-2.86zM5.41 20L4 18.59l7.72-7.72 1.47 1.35L5.41 20z\"/>\n",
              "  </svg>\n",
              "      </button>\n",
              "      \n",
              "  <style>\n",
              "    .colab-df-container {\n",
              "      display:flex;\n",
              "      flex-wrap:wrap;\n",
              "      gap: 12px;\n",
              "    }\n",
              "\n",
              "    .colab-df-convert {\n",
              "      background-color: #E8F0FE;\n",
              "      border: none;\n",
              "      border-radius: 50%;\n",
              "      cursor: pointer;\n",
              "      display: none;\n",
              "      fill: #1967D2;\n",
              "      height: 32px;\n",
              "      padding: 0 0 0 0;\n",
              "      width: 32px;\n",
              "    }\n",
              "\n",
              "    .colab-df-convert:hover {\n",
              "      background-color: #E2EBFA;\n",
              "      box-shadow: 0px 1px 2px rgba(60, 64, 67, 0.3), 0px 1px 3px 1px rgba(60, 64, 67, 0.15);\n",
              "      fill: #174EA6;\n",
              "    }\n",
              "\n",
              "    [theme=dark] .colab-df-convert {\n",
              "      background-color: #3B4455;\n",
              "      fill: #D2E3FC;\n",
              "    }\n",
              "\n",
              "    [theme=dark] .colab-df-convert:hover {\n",
              "      background-color: #434B5C;\n",
              "      box-shadow: 0px 1px 3px 1px rgba(0, 0, 0, 0.15);\n",
              "      filter: drop-shadow(0px 1px 2px rgba(0, 0, 0, 0.3));\n",
              "      fill: #FFFFFF;\n",
              "    }\n",
              "  </style>\n",
              "\n",
              "      <script>\n",
              "        const buttonEl =\n",
              "          document.querySelector('#df-0ef603ef-4512-4419-b5b8-2557472bde07 button.colab-df-convert');\n",
              "        buttonEl.style.display =\n",
              "          google.colab.kernel.accessAllowed ? 'block' : 'none';\n",
              "\n",
              "        async function convertToInteractive(key) {\n",
              "          const element = document.querySelector('#df-0ef603ef-4512-4419-b5b8-2557472bde07');\n",
              "          const dataTable =\n",
              "            await google.colab.kernel.invokeFunction('convertToInteractive',\n",
              "                                                     [key], {});\n",
              "          if (!dataTable) return;\n",
              "\n",
              "          const docLinkHtml = 'Like what you see? Visit the ' +\n",
              "            '<a target=\"_blank\" href=https://colab.research.google.com/notebooks/data_table.ipynb>data table notebook</a>'\n",
              "            + ' to learn more about interactive tables.';\n",
              "          element.innerHTML = '';\n",
              "          dataTable['output_type'] = 'display_data';\n",
              "          await google.colab.output.renderOutput(dataTable, element);\n",
              "          const docLink = document.createElement('div');\n",
              "          docLink.innerHTML = docLinkHtml;\n",
              "          element.appendChild(docLink);\n",
              "        }\n",
              "      </script>\n",
              "    </div>\n",
              "  </div>\n",
              "  "
            ]
          },
          "metadata": {},
          "execution_count": 304
        }
      ]
    },
    {
      "cell_type": "code",
      "source": [
        "health_data['Guido', 'HR']"
      ],
      "metadata": {
        "colab": {
          "base_uri": "https://localhost:8080/"
        },
        "id": "fFQ3AxmoambF",
        "outputId": "e0f5b271-b7ff-417a-8cb4-eefe5d2ccebf"
      },
      "execution_count": null,
      "outputs": [
        {
          "output_type": "execute_result",
          "data": {
            "text/plain": [
              "year  visit\n",
              "2013  1        58.0\n",
              "      2        50.0\n",
              "2014  1        40.0\n",
              "      2        37.0\n",
              "Name: (Guido, HR), dtype: float64"
            ]
          },
          "metadata": {},
          "execution_count": 305
        }
      ]
    },
    {
      "cell_type": "code",
      "source": [
        "health_data.iloc[:2, :2]"
      ],
      "metadata": {
        "colab": {
          "base_uri": "https://localhost:8080/"
        },
        "id": "Uz-WvGwNapq5",
        "outputId": "5808930a-87d8-4d45-dd12-32bdbc324176"
      },
      "execution_count": null,
      "outputs": [
        {
          "output_type": "execute_result",
          "data": {
            "text/plain": [
              "subject      Bob      \n",
              "type          HR  Temp\n",
              "year visit            \n",
              "2013 1      44.0  37.1\n",
              "     2      17.0  35.8"
            ],
            "text/html": [
              "\n",
              "  <div id=\"df-11377918-d163-47b5-8605-798923c56d01\">\n",
              "    <div class=\"colab-df-container\">\n",
              "      <div>\n",
              "<style scoped>\n",
              "    .dataframe tbody tr th:only-of-type {\n",
              "        vertical-align: middle;\n",
              "    }\n",
              "\n",
              "    .dataframe tbody tr th {\n",
              "        vertical-align: top;\n",
              "    }\n",
              "\n",
              "    .dataframe thead tr th {\n",
              "        text-align: left;\n",
              "    }\n",
              "\n",
              "    .dataframe thead tr:last-of-type th {\n",
              "        text-align: right;\n",
              "    }\n",
              "</style>\n",
              "<table border=\"1\" class=\"dataframe\">\n",
              "  <thead>\n",
              "    <tr>\n",
              "      <th></th>\n",
              "      <th>subject</th>\n",
              "      <th colspan=\"2\" halign=\"left\">Bob</th>\n",
              "    </tr>\n",
              "    <tr>\n",
              "      <th></th>\n",
              "      <th>type</th>\n",
              "      <th>HR</th>\n",
              "      <th>Temp</th>\n",
              "    </tr>\n",
              "    <tr>\n",
              "      <th>year</th>\n",
              "      <th>visit</th>\n",
              "      <th></th>\n",
              "      <th></th>\n",
              "    </tr>\n",
              "  </thead>\n",
              "  <tbody>\n",
              "    <tr>\n",
              "      <th rowspan=\"2\" valign=\"top\">2013</th>\n",
              "      <th>1</th>\n",
              "      <td>44.0</td>\n",
              "      <td>37.1</td>\n",
              "    </tr>\n",
              "    <tr>\n",
              "      <th>2</th>\n",
              "      <td>17.0</td>\n",
              "      <td>35.8</td>\n",
              "    </tr>\n",
              "  </tbody>\n",
              "</table>\n",
              "</div>\n",
              "      <button class=\"colab-df-convert\" onclick=\"convertToInteractive('df-11377918-d163-47b5-8605-798923c56d01')\"\n",
              "              title=\"Convert this dataframe to an interactive table.\"\n",
              "              style=\"display:none;\">\n",
              "        \n",
              "  <svg xmlns=\"http://www.w3.org/2000/svg\" height=\"24px\"viewBox=\"0 0 24 24\"\n",
              "       width=\"24px\">\n",
              "    <path d=\"M0 0h24v24H0V0z\" fill=\"none\"/>\n",
              "    <path d=\"M18.56 5.44l.94 2.06.94-2.06 2.06-.94-2.06-.94-.94-2.06-.94 2.06-2.06.94zm-11 1L8.5 8.5l.94-2.06 2.06-.94-2.06-.94L8.5 2.5l-.94 2.06-2.06.94zm10 10l.94 2.06.94-2.06 2.06-.94-2.06-.94-.94-2.06-.94 2.06-2.06.94z\"/><path d=\"M17.41 7.96l-1.37-1.37c-.4-.4-.92-.59-1.43-.59-.52 0-1.04.2-1.43.59L10.3 9.45l-7.72 7.72c-.78.78-.78 2.05 0 2.83L4 21.41c.39.39.9.59 1.41.59.51 0 1.02-.2 1.41-.59l7.78-7.78 2.81-2.81c.8-.78.8-2.07 0-2.86zM5.41 20L4 18.59l7.72-7.72 1.47 1.35L5.41 20z\"/>\n",
              "  </svg>\n",
              "      </button>\n",
              "      \n",
              "  <style>\n",
              "    .colab-df-container {\n",
              "      display:flex;\n",
              "      flex-wrap:wrap;\n",
              "      gap: 12px;\n",
              "    }\n",
              "\n",
              "    .colab-df-convert {\n",
              "      background-color: #E8F0FE;\n",
              "      border: none;\n",
              "      border-radius: 50%;\n",
              "      cursor: pointer;\n",
              "      display: none;\n",
              "      fill: #1967D2;\n",
              "      height: 32px;\n",
              "      padding: 0 0 0 0;\n",
              "      width: 32px;\n",
              "    }\n",
              "\n",
              "    .colab-df-convert:hover {\n",
              "      background-color: #E2EBFA;\n",
              "      box-shadow: 0px 1px 2px rgba(60, 64, 67, 0.3), 0px 1px 3px 1px rgba(60, 64, 67, 0.15);\n",
              "      fill: #174EA6;\n",
              "    }\n",
              "\n",
              "    [theme=dark] .colab-df-convert {\n",
              "      background-color: #3B4455;\n",
              "      fill: #D2E3FC;\n",
              "    }\n",
              "\n",
              "    [theme=dark] .colab-df-convert:hover {\n",
              "      background-color: #434B5C;\n",
              "      box-shadow: 0px 1px 3px 1px rgba(0, 0, 0, 0.15);\n",
              "      filter: drop-shadow(0px 1px 2px rgba(0, 0, 0, 0.3));\n",
              "      fill: #FFFFFF;\n",
              "    }\n",
              "  </style>\n",
              "\n",
              "      <script>\n",
              "        const buttonEl =\n",
              "          document.querySelector('#df-11377918-d163-47b5-8605-798923c56d01 button.colab-df-convert');\n",
              "        buttonEl.style.display =\n",
              "          google.colab.kernel.accessAllowed ? 'block' : 'none';\n",
              "\n",
              "        async function convertToInteractive(key) {\n",
              "          const element = document.querySelector('#df-11377918-d163-47b5-8605-798923c56d01');\n",
              "          const dataTable =\n",
              "            await google.colab.kernel.invokeFunction('convertToInteractive',\n",
              "                                                     [key], {});\n",
              "          if (!dataTable) return;\n",
              "\n",
              "          const docLinkHtml = 'Like what you see? Visit the ' +\n",
              "            '<a target=\"_blank\" href=https://colab.research.google.com/notebooks/data_table.ipynb>data table notebook</a>'\n",
              "            + ' to learn more about interactive tables.';\n",
              "          element.innerHTML = '';\n",
              "          dataTable['output_type'] = 'display_data';\n",
              "          await google.colab.output.renderOutput(dataTable, element);\n",
              "          const docLink = document.createElement('div');\n",
              "          docLink.innerHTML = docLinkHtml;\n",
              "          element.appendChild(docLink);\n",
              "        }\n",
              "      </script>\n",
              "    </div>\n",
              "  </div>\n",
              "  "
            ]
          },
          "metadata": {},
          "execution_count": 306
        }
      ]
    },
    {
      "cell_type": "code",
      "source": [
        "health_data.loc[:, ('Bob', 'HR')]"
      ],
      "metadata": {
        "colab": {
          "base_uri": "https://localhost:8080/"
        },
        "id": "IKvSfHE5atZG",
        "outputId": "a6956fc4-2719-46b6-d3d7-96d9026e2fee"
      },
      "execution_count": null,
      "outputs": [
        {
          "output_type": "execute_result",
          "data": {
            "text/plain": [
              "year  visit\n",
              "2013  1        44.0\n",
              "      2        17.0\n",
              "2014  1        37.0\n",
              "      2        49.0\n",
              "Name: (Bob, HR), dtype: float64"
            ]
          },
          "metadata": {},
          "execution_count": 307
        }
      ]
    },
    {
      "cell_type": "code",
      "source": [
        "#a better way in this context is to use an IndexSlice object,\n",
        "#which Pandas provides for precisely this situation\n",
        "idx = pd.IndexSlice\n",
        "health_data.loc[idx[:, 1], idx[:, 'HR']]"
      ],
      "metadata": {
        "colab": {
          "base_uri": "https://localhost:8080/"
        },
        "id": "-E56zopSawXU",
        "outputId": "134b049b-0389-4b39-91e5-17ee29d68eac"
      },
      "execution_count": null,
      "outputs": [
        {
          "output_type": "execute_result",
          "data": {
            "text/plain": [
              "subject      Bob Guido   Sue\n",
              "type          HR    HR    HR\n",
              "year visit                  \n",
              "2013 1      44.0  58.0  41.0\n",
              "2014 1      37.0  40.0  34.0"
            ],
            "text/html": [
              "\n",
              "  <div id=\"df-d55741e4-8fab-429f-b95d-af8b7a252932\">\n",
              "    <div class=\"colab-df-container\">\n",
              "      <div>\n",
              "<style scoped>\n",
              "    .dataframe tbody tr th:only-of-type {\n",
              "        vertical-align: middle;\n",
              "    }\n",
              "\n",
              "    .dataframe tbody tr th {\n",
              "        vertical-align: top;\n",
              "    }\n",
              "\n",
              "    .dataframe thead tr th {\n",
              "        text-align: left;\n",
              "    }\n",
              "\n",
              "    .dataframe thead tr:last-of-type th {\n",
              "        text-align: right;\n",
              "    }\n",
              "</style>\n",
              "<table border=\"1\" class=\"dataframe\">\n",
              "  <thead>\n",
              "    <tr>\n",
              "      <th></th>\n",
              "      <th>subject</th>\n",
              "      <th>Bob</th>\n",
              "      <th>Guido</th>\n",
              "      <th>Sue</th>\n",
              "    </tr>\n",
              "    <tr>\n",
              "      <th></th>\n",
              "      <th>type</th>\n",
              "      <th>HR</th>\n",
              "      <th>HR</th>\n",
              "      <th>HR</th>\n",
              "    </tr>\n",
              "    <tr>\n",
              "      <th>year</th>\n",
              "      <th>visit</th>\n",
              "      <th></th>\n",
              "      <th></th>\n",
              "      <th></th>\n",
              "    </tr>\n",
              "  </thead>\n",
              "  <tbody>\n",
              "    <tr>\n",
              "      <th>2013</th>\n",
              "      <th>1</th>\n",
              "      <td>44.0</td>\n",
              "      <td>58.0</td>\n",
              "      <td>41.0</td>\n",
              "    </tr>\n",
              "    <tr>\n",
              "      <th>2014</th>\n",
              "      <th>1</th>\n",
              "      <td>37.0</td>\n",
              "      <td>40.0</td>\n",
              "      <td>34.0</td>\n",
              "    </tr>\n",
              "  </tbody>\n",
              "</table>\n",
              "</div>\n",
              "      <button class=\"colab-df-convert\" onclick=\"convertToInteractive('df-d55741e4-8fab-429f-b95d-af8b7a252932')\"\n",
              "              title=\"Convert this dataframe to an interactive table.\"\n",
              "              style=\"display:none;\">\n",
              "        \n",
              "  <svg xmlns=\"http://www.w3.org/2000/svg\" height=\"24px\"viewBox=\"0 0 24 24\"\n",
              "       width=\"24px\">\n",
              "    <path d=\"M0 0h24v24H0V0z\" fill=\"none\"/>\n",
              "    <path d=\"M18.56 5.44l.94 2.06.94-2.06 2.06-.94-2.06-.94-.94-2.06-.94 2.06-2.06.94zm-11 1L8.5 8.5l.94-2.06 2.06-.94-2.06-.94L8.5 2.5l-.94 2.06-2.06.94zm10 10l.94 2.06.94-2.06 2.06-.94-2.06-.94-.94-2.06-.94 2.06-2.06.94z\"/><path d=\"M17.41 7.96l-1.37-1.37c-.4-.4-.92-.59-1.43-.59-.52 0-1.04.2-1.43.59L10.3 9.45l-7.72 7.72c-.78.78-.78 2.05 0 2.83L4 21.41c.39.39.9.59 1.41.59.51 0 1.02-.2 1.41-.59l7.78-7.78 2.81-2.81c.8-.78.8-2.07 0-2.86zM5.41 20L4 18.59l7.72-7.72 1.47 1.35L5.41 20z\"/>\n",
              "  </svg>\n",
              "      </button>\n",
              "      \n",
              "  <style>\n",
              "    .colab-df-container {\n",
              "      display:flex;\n",
              "      flex-wrap:wrap;\n",
              "      gap: 12px;\n",
              "    }\n",
              "\n",
              "    .colab-df-convert {\n",
              "      background-color: #E8F0FE;\n",
              "      border: none;\n",
              "      border-radius: 50%;\n",
              "      cursor: pointer;\n",
              "      display: none;\n",
              "      fill: #1967D2;\n",
              "      height: 32px;\n",
              "      padding: 0 0 0 0;\n",
              "      width: 32px;\n",
              "    }\n",
              "\n",
              "    .colab-df-convert:hover {\n",
              "      background-color: #E2EBFA;\n",
              "      box-shadow: 0px 1px 2px rgba(60, 64, 67, 0.3), 0px 1px 3px 1px rgba(60, 64, 67, 0.15);\n",
              "      fill: #174EA6;\n",
              "    }\n",
              "\n",
              "    [theme=dark] .colab-df-convert {\n",
              "      background-color: #3B4455;\n",
              "      fill: #D2E3FC;\n",
              "    }\n",
              "\n",
              "    [theme=dark] .colab-df-convert:hover {\n",
              "      background-color: #434B5C;\n",
              "      box-shadow: 0px 1px 3px 1px rgba(0, 0, 0, 0.15);\n",
              "      filter: drop-shadow(0px 1px 2px rgba(0, 0, 0, 0.3));\n",
              "      fill: #FFFFFF;\n",
              "    }\n",
              "  </style>\n",
              "\n",
              "      <script>\n",
              "        const buttonEl =\n",
              "          document.querySelector('#df-d55741e4-8fab-429f-b95d-af8b7a252932 button.colab-df-convert');\n",
              "        buttonEl.style.display =\n",
              "          google.colab.kernel.accessAllowed ? 'block' : 'none';\n",
              "\n",
              "        async function convertToInteractive(key) {\n",
              "          const element = document.querySelector('#df-d55741e4-8fab-429f-b95d-af8b7a252932');\n",
              "          const dataTable =\n",
              "            await google.colab.kernel.invokeFunction('convertToInteractive',\n",
              "                                                     [key], {});\n",
              "          if (!dataTable) return;\n",
              "\n",
              "          const docLinkHtml = 'Like what you see? Visit the ' +\n",
              "            '<a target=\"_blank\" href=https://colab.research.google.com/notebooks/data_table.ipynb>data table notebook</a>'\n",
              "            + ' to learn more about interactive tables.';\n",
              "          element.innerHTML = '';\n",
              "          dataTable['output_type'] = 'display_data';\n",
              "          await google.colab.output.renderOutput(dataTable, element);\n",
              "          const docLink = document.createElement('div');\n",
              "          docLink.innerHTML = docLinkHtml;\n",
              "          element.appendChild(docLink);\n",
              "        }\n",
              "      </script>\n",
              "    </div>\n",
              "  </div>\n",
              "  "
            ]
          },
          "metadata": {},
          "execution_count": 308
        }
      ]
    },
    {
      "cell_type": "code",
      "source": [
        "#Data Aggregations on Multi-Indices\n",
        "health_data"
      ],
      "metadata": {
        "colab": {
          "base_uri": "https://localhost:8080/"
        },
        "id": "8hz58hC0a01M",
        "outputId": "9685d03a-6faa-4c11-c424-15568347dfc0"
      },
      "execution_count": null,
      "outputs": [
        {
          "output_type": "execute_result",
          "data": {
            "text/plain": [
              "subject      Bob       Guido         Sue      \n",
              "type          HR  Temp    HR  Temp    HR  Temp\n",
              "year visit                                    \n",
              "2013 1      44.0  37.1  58.0  37.6  41.0  35.7\n",
              "     2      17.0  35.8  50.0  37.1  36.0  36.4\n",
              "2014 1      37.0  39.1  40.0  35.2  34.0  38.7\n",
              "     2      49.0  38.4  37.0  36.3  36.0  37.4"
            ],
            "text/html": [
              "\n",
              "  <div id=\"df-9d214951-ba1e-4fc9-8baa-16431c5981d1\">\n",
              "    <div class=\"colab-df-container\">\n",
              "      <div>\n",
              "<style scoped>\n",
              "    .dataframe tbody tr th:only-of-type {\n",
              "        vertical-align: middle;\n",
              "    }\n",
              "\n",
              "    .dataframe tbody tr th {\n",
              "        vertical-align: top;\n",
              "    }\n",
              "\n",
              "    .dataframe thead tr th {\n",
              "        text-align: left;\n",
              "    }\n",
              "\n",
              "    .dataframe thead tr:last-of-type th {\n",
              "        text-align: right;\n",
              "    }\n",
              "</style>\n",
              "<table border=\"1\" class=\"dataframe\">\n",
              "  <thead>\n",
              "    <tr>\n",
              "      <th></th>\n",
              "      <th>subject</th>\n",
              "      <th colspan=\"2\" halign=\"left\">Bob</th>\n",
              "      <th colspan=\"2\" halign=\"left\">Guido</th>\n",
              "      <th colspan=\"2\" halign=\"left\">Sue</th>\n",
              "    </tr>\n",
              "    <tr>\n",
              "      <th></th>\n",
              "      <th>type</th>\n",
              "      <th>HR</th>\n",
              "      <th>Temp</th>\n",
              "      <th>HR</th>\n",
              "      <th>Temp</th>\n",
              "      <th>HR</th>\n",
              "      <th>Temp</th>\n",
              "    </tr>\n",
              "    <tr>\n",
              "      <th>year</th>\n",
              "      <th>visit</th>\n",
              "      <th></th>\n",
              "      <th></th>\n",
              "      <th></th>\n",
              "      <th></th>\n",
              "      <th></th>\n",
              "      <th></th>\n",
              "    </tr>\n",
              "  </thead>\n",
              "  <tbody>\n",
              "    <tr>\n",
              "      <th rowspan=\"2\" valign=\"top\">2013</th>\n",
              "      <th>1</th>\n",
              "      <td>44.0</td>\n",
              "      <td>37.1</td>\n",
              "      <td>58.0</td>\n",
              "      <td>37.6</td>\n",
              "      <td>41.0</td>\n",
              "      <td>35.7</td>\n",
              "    </tr>\n",
              "    <tr>\n",
              "      <th>2</th>\n",
              "      <td>17.0</td>\n",
              "      <td>35.8</td>\n",
              "      <td>50.0</td>\n",
              "      <td>37.1</td>\n",
              "      <td>36.0</td>\n",
              "      <td>36.4</td>\n",
              "    </tr>\n",
              "    <tr>\n",
              "      <th rowspan=\"2\" valign=\"top\">2014</th>\n",
              "      <th>1</th>\n",
              "      <td>37.0</td>\n",
              "      <td>39.1</td>\n",
              "      <td>40.0</td>\n",
              "      <td>35.2</td>\n",
              "      <td>34.0</td>\n",
              "      <td>38.7</td>\n",
              "    </tr>\n",
              "    <tr>\n",
              "      <th>2</th>\n",
              "      <td>49.0</td>\n",
              "      <td>38.4</td>\n",
              "      <td>37.0</td>\n",
              "      <td>36.3</td>\n",
              "      <td>36.0</td>\n",
              "      <td>37.4</td>\n",
              "    </tr>\n",
              "  </tbody>\n",
              "</table>\n",
              "</div>\n",
              "      <button class=\"colab-df-convert\" onclick=\"convertToInteractive('df-9d214951-ba1e-4fc9-8baa-16431c5981d1')\"\n",
              "              title=\"Convert this dataframe to an interactive table.\"\n",
              "              style=\"display:none;\">\n",
              "        \n",
              "  <svg xmlns=\"http://www.w3.org/2000/svg\" height=\"24px\"viewBox=\"0 0 24 24\"\n",
              "       width=\"24px\">\n",
              "    <path d=\"M0 0h24v24H0V0z\" fill=\"none\"/>\n",
              "    <path d=\"M18.56 5.44l.94 2.06.94-2.06 2.06-.94-2.06-.94-.94-2.06-.94 2.06-2.06.94zm-11 1L8.5 8.5l.94-2.06 2.06-.94-2.06-.94L8.5 2.5l-.94 2.06-2.06.94zm10 10l.94 2.06.94-2.06 2.06-.94-2.06-.94-.94-2.06-.94 2.06-2.06.94z\"/><path d=\"M17.41 7.96l-1.37-1.37c-.4-.4-.92-.59-1.43-.59-.52 0-1.04.2-1.43.59L10.3 9.45l-7.72 7.72c-.78.78-.78 2.05 0 2.83L4 21.41c.39.39.9.59 1.41.59.51 0 1.02-.2 1.41-.59l7.78-7.78 2.81-2.81c.8-.78.8-2.07 0-2.86zM5.41 20L4 18.59l7.72-7.72 1.47 1.35L5.41 20z\"/>\n",
              "  </svg>\n",
              "      </button>\n",
              "      \n",
              "  <style>\n",
              "    .colab-df-container {\n",
              "      display:flex;\n",
              "      flex-wrap:wrap;\n",
              "      gap: 12px;\n",
              "    }\n",
              "\n",
              "    .colab-df-convert {\n",
              "      background-color: #E8F0FE;\n",
              "      border: none;\n",
              "      border-radius: 50%;\n",
              "      cursor: pointer;\n",
              "      display: none;\n",
              "      fill: #1967D2;\n",
              "      height: 32px;\n",
              "      padding: 0 0 0 0;\n",
              "      width: 32px;\n",
              "    }\n",
              "\n",
              "    .colab-df-convert:hover {\n",
              "      background-color: #E2EBFA;\n",
              "      box-shadow: 0px 1px 2px rgba(60, 64, 67, 0.3), 0px 1px 3px 1px rgba(60, 64, 67, 0.15);\n",
              "      fill: #174EA6;\n",
              "    }\n",
              "\n",
              "    [theme=dark] .colab-df-convert {\n",
              "      background-color: #3B4455;\n",
              "      fill: #D2E3FC;\n",
              "    }\n",
              "\n",
              "    [theme=dark] .colab-df-convert:hover {\n",
              "      background-color: #434B5C;\n",
              "      box-shadow: 0px 1px 3px 1px rgba(0, 0, 0, 0.15);\n",
              "      filter: drop-shadow(0px 1px 2px rgba(0, 0, 0, 0.3));\n",
              "      fill: #FFFFFF;\n",
              "    }\n",
              "  </style>\n",
              "\n",
              "      <script>\n",
              "        const buttonEl =\n",
              "          document.querySelector('#df-9d214951-ba1e-4fc9-8baa-16431c5981d1 button.colab-df-convert');\n",
              "        buttonEl.style.display =\n",
              "          google.colab.kernel.accessAllowed ? 'block' : 'none';\n",
              "\n",
              "        async function convertToInteractive(key) {\n",
              "          const element = document.querySelector('#df-9d214951-ba1e-4fc9-8baa-16431c5981d1');\n",
              "          const dataTable =\n",
              "            await google.colab.kernel.invokeFunction('convertToInteractive',\n",
              "                                                     [key], {});\n",
              "          if (!dataTable) return;\n",
              "\n",
              "          const docLinkHtml = 'Like what you see? Visit the ' +\n",
              "            '<a target=\"_blank\" href=https://colab.research.google.com/notebooks/data_table.ipynb>data table notebook</a>'\n",
              "            + ' to learn more about interactive tables.';\n",
              "          element.innerHTML = '';\n",
              "          dataTable['output_type'] = 'display_data';\n",
              "          await google.colab.output.renderOutput(dataTable, element);\n",
              "          const docLink = document.createElement('div');\n",
              "          docLink.innerHTML = docLinkHtml;\n",
              "          element.appendChild(docLink);\n",
              "        }\n",
              "      </script>\n",
              "    </div>\n",
              "  </div>\n",
              "  "
            ]
          },
          "metadata": {},
          "execution_count": 309
        }
      ]
    },
    {
      "cell_type": "code",
      "source": [
        "data_mean = health_data.mean(level='year')\n",
        "data_mean"
      ],
      "metadata": {
        "colab": {
          "base_uri": "https://localhost:8080/"
        },
        "id": "HuUgx_tFce_H",
        "outputId": "8218fc9a-83d1-42f7-fd5f-74978b3d6167"
      },
      "execution_count": null,
      "outputs": [
        {
          "output_type": "stream",
          "name": "stderr",
          "text": [
            "/usr/local/lib/python3.7/dist-packages/ipykernel_launcher.py:1: FutureWarning: Using the level keyword in DataFrame and Series aggregations is deprecated and will be removed in a future version. Use groupby instead. df.median(level=1) should use df.groupby(level=1).median().\n",
            "  \"\"\"Entry point for launching an IPython kernel.\n"
          ]
        },
        {
          "output_type": "execute_result",
          "data": {
            "text/plain": [
              "subject   Bob        Guido          Sue       \n",
              "type       HR   Temp    HR   Temp    HR   Temp\n",
              "year                                          \n",
              "2013     30.5  36.45  54.0  37.35  38.5  36.05\n",
              "2014     43.0  38.75  38.5  35.75  35.0  38.05"
            ],
            "text/html": [
              "\n",
              "  <div id=\"df-2e607d38-76d4-46f6-8706-a79b5c429d93\">\n",
              "    <div class=\"colab-df-container\">\n",
              "      <div>\n",
              "<style scoped>\n",
              "    .dataframe tbody tr th:only-of-type {\n",
              "        vertical-align: middle;\n",
              "    }\n",
              "\n",
              "    .dataframe tbody tr th {\n",
              "        vertical-align: top;\n",
              "    }\n",
              "\n",
              "    .dataframe thead tr th {\n",
              "        text-align: left;\n",
              "    }\n",
              "\n",
              "    .dataframe thead tr:last-of-type th {\n",
              "        text-align: right;\n",
              "    }\n",
              "</style>\n",
              "<table border=\"1\" class=\"dataframe\">\n",
              "  <thead>\n",
              "    <tr>\n",
              "      <th>subject</th>\n",
              "      <th colspan=\"2\" halign=\"left\">Bob</th>\n",
              "      <th colspan=\"2\" halign=\"left\">Guido</th>\n",
              "      <th colspan=\"2\" halign=\"left\">Sue</th>\n",
              "    </tr>\n",
              "    <tr>\n",
              "      <th>type</th>\n",
              "      <th>HR</th>\n",
              "      <th>Temp</th>\n",
              "      <th>HR</th>\n",
              "      <th>Temp</th>\n",
              "      <th>HR</th>\n",
              "      <th>Temp</th>\n",
              "    </tr>\n",
              "    <tr>\n",
              "      <th>year</th>\n",
              "      <th></th>\n",
              "      <th></th>\n",
              "      <th></th>\n",
              "      <th></th>\n",
              "      <th></th>\n",
              "      <th></th>\n",
              "    </tr>\n",
              "  </thead>\n",
              "  <tbody>\n",
              "    <tr>\n",
              "      <th>2013</th>\n",
              "      <td>30.5</td>\n",
              "      <td>36.45</td>\n",
              "      <td>54.0</td>\n",
              "      <td>37.35</td>\n",
              "      <td>38.5</td>\n",
              "      <td>36.05</td>\n",
              "    </tr>\n",
              "    <tr>\n",
              "      <th>2014</th>\n",
              "      <td>43.0</td>\n",
              "      <td>38.75</td>\n",
              "      <td>38.5</td>\n",
              "      <td>35.75</td>\n",
              "      <td>35.0</td>\n",
              "      <td>38.05</td>\n",
              "    </tr>\n",
              "  </tbody>\n",
              "</table>\n",
              "</div>\n",
              "      <button class=\"colab-df-convert\" onclick=\"convertToInteractive('df-2e607d38-76d4-46f6-8706-a79b5c429d93')\"\n",
              "              title=\"Convert this dataframe to an interactive table.\"\n",
              "              style=\"display:none;\">\n",
              "        \n",
              "  <svg xmlns=\"http://www.w3.org/2000/svg\" height=\"24px\"viewBox=\"0 0 24 24\"\n",
              "       width=\"24px\">\n",
              "    <path d=\"M0 0h24v24H0V0z\" fill=\"none\"/>\n",
              "    <path d=\"M18.56 5.44l.94 2.06.94-2.06 2.06-.94-2.06-.94-.94-2.06-.94 2.06-2.06.94zm-11 1L8.5 8.5l.94-2.06 2.06-.94-2.06-.94L8.5 2.5l-.94 2.06-2.06.94zm10 10l.94 2.06.94-2.06 2.06-.94-2.06-.94-.94-2.06-.94 2.06-2.06.94z\"/><path d=\"M17.41 7.96l-1.37-1.37c-.4-.4-.92-.59-1.43-.59-.52 0-1.04.2-1.43.59L10.3 9.45l-7.72 7.72c-.78.78-.78 2.05 0 2.83L4 21.41c.39.39.9.59 1.41.59.51 0 1.02-.2 1.41-.59l7.78-7.78 2.81-2.81c.8-.78.8-2.07 0-2.86zM5.41 20L4 18.59l7.72-7.72 1.47 1.35L5.41 20z\"/>\n",
              "  </svg>\n",
              "      </button>\n",
              "      \n",
              "  <style>\n",
              "    .colab-df-container {\n",
              "      display:flex;\n",
              "      flex-wrap:wrap;\n",
              "      gap: 12px;\n",
              "    }\n",
              "\n",
              "    .colab-df-convert {\n",
              "      background-color: #E8F0FE;\n",
              "      border: none;\n",
              "      border-radius: 50%;\n",
              "      cursor: pointer;\n",
              "      display: none;\n",
              "      fill: #1967D2;\n",
              "      height: 32px;\n",
              "      padding: 0 0 0 0;\n",
              "      width: 32px;\n",
              "    }\n",
              "\n",
              "    .colab-df-convert:hover {\n",
              "      background-color: #E2EBFA;\n",
              "      box-shadow: 0px 1px 2px rgba(60, 64, 67, 0.3), 0px 1px 3px 1px rgba(60, 64, 67, 0.15);\n",
              "      fill: #174EA6;\n",
              "    }\n",
              "\n",
              "    [theme=dark] .colab-df-convert {\n",
              "      background-color: #3B4455;\n",
              "      fill: #D2E3FC;\n",
              "    }\n",
              "\n",
              "    [theme=dark] .colab-df-convert:hover {\n",
              "      background-color: #434B5C;\n",
              "      box-shadow: 0px 1px 3px 1px rgba(0, 0, 0, 0.15);\n",
              "      filter: drop-shadow(0px 1px 2px rgba(0, 0, 0, 0.3));\n",
              "      fill: #FFFFFF;\n",
              "    }\n",
              "  </style>\n",
              "\n",
              "      <script>\n",
              "        const buttonEl =\n",
              "          document.querySelector('#df-2e607d38-76d4-46f6-8706-a79b5c429d93 button.colab-df-convert');\n",
              "        buttonEl.style.display =\n",
              "          google.colab.kernel.accessAllowed ? 'block' : 'none';\n",
              "\n",
              "        async function convertToInteractive(key) {\n",
              "          const element = document.querySelector('#df-2e607d38-76d4-46f6-8706-a79b5c429d93');\n",
              "          const dataTable =\n",
              "            await google.colab.kernel.invokeFunction('convertToInteractive',\n",
              "                                                     [key], {});\n",
              "          if (!dataTable) return;\n",
              "\n",
              "          const docLinkHtml = 'Like what you see? Visit the ' +\n",
              "            '<a target=\"_blank\" href=https://colab.research.google.com/notebooks/data_table.ipynb>data table notebook</a>'\n",
              "            + ' to learn more about interactive tables.';\n",
              "          element.innerHTML = '';\n",
              "          dataTable['output_type'] = 'display_data';\n",
              "          await google.colab.output.renderOutput(dataTable, element);\n",
              "          const docLink = document.createElement('div');\n",
              "          docLink.innerHTML = docLinkHtml;\n",
              "          element.appendChild(docLink);\n",
              "        }\n",
              "      </script>\n",
              "    </div>\n",
              "  </div>\n",
              "  "
            ]
          },
          "metadata": {},
          "execution_count": 310
        }
      ]
    },
    {
      "cell_type": "code",
      "source": [
        "#making use of the axis keyword, we can take the mean among levels on\n",
        "#the columns as well:\n",
        "data_mean.mean(axis=1, level='type')"
      ],
      "metadata": {
        "colab": {
          "base_uri": "https://localhost:8080/"
        },
        "id": "PP6aSR9IcjhM",
        "outputId": "e2989ac3-352b-433e-96f2-2beb5eec46af"
      },
      "execution_count": null,
      "outputs": [
        {
          "output_type": "stream",
          "name": "stderr",
          "text": [
            "/usr/local/lib/python3.7/dist-packages/ipykernel_launcher.py:3: FutureWarning: Using the level keyword in DataFrame and Series aggregations is deprecated and will be removed in a future version. Use groupby instead. df.median(level=1) should use df.groupby(level=1).median().\n",
            "  This is separate from the ipykernel package so we can avoid doing imports until\n"
          ]
        },
        {
          "output_type": "execute_result",
          "data": {
            "text/plain": [
              "type         HR       Temp\n",
              "year                      \n",
              "2013  41.000000  36.616667\n",
              "2014  38.833333  37.516667"
            ],
            "text/html": [
              "\n",
              "  <div id=\"df-4f77e186-0a14-4170-8f2b-c788b9b9bb22\">\n",
              "    <div class=\"colab-df-container\">\n",
              "      <div>\n",
              "<style scoped>\n",
              "    .dataframe tbody tr th:only-of-type {\n",
              "        vertical-align: middle;\n",
              "    }\n",
              "\n",
              "    .dataframe tbody tr th {\n",
              "        vertical-align: top;\n",
              "    }\n",
              "\n",
              "    .dataframe thead th {\n",
              "        text-align: right;\n",
              "    }\n",
              "</style>\n",
              "<table border=\"1\" class=\"dataframe\">\n",
              "  <thead>\n",
              "    <tr style=\"text-align: right;\">\n",
              "      <th>type</th>\n",
              "      <th>HR</th>\n",
              "      <th>Temp</th>\n",
              "    </tr>\n",
              "    <tr>\n",
              "      <th>year</th>\n",
              "      <th></th>\n",
              "      <th></th>\n",
              "    </tr>\n",
              "  </thead>\n",
              "  <tbody>\n",
              "    <tr>\n",
              "      <th>2013</th>\n",
              "      <td>41.000000</td>\n",
              "      <td>36.616667</td>\n",
              "    </tr>\n",
              "    <tr>\n",
              "      <th>2014</th>\n",
              "      <td>38.833333</td>\n",
              "      <td>37.516667</td>\n",
              "    </tr>\n",
              "  </tbody>\n",
              "</table>\n",
              "</div>\n",
              "      <button class=\"colab-df-convert\" onclick=\"convertToInteractive('df-4f77e186-0a14-4170-8f2b-c788b9b9bb22')\"\n",
              "              title=\"Convert this dataframe to an interactive table.\"\n",
              "              style=\"display:none;\">\n",
              "        \n",
              "  <svg xmlns=\"http://www.w3.org/2000/svg\" height=\"24px\"viewBox=\"0 0 24 24\"\n",
              "       width=\"24px\">\n",
              "    <path d=\"M0 0h24v24H0V0z\" fill=\"none\"/>\n",
              "    <path d=\"M18.56 5.44l.94 2.06.94-2.06 2.06-.94-2.06-.94-.94-2.06-.94 2.06-2.06.94zm-11 1L8.5 8.5l.94-2.06 2.06-.94-2.06-.94L8.5 2.5l-.94 2.06-2.06.94zm10 10l.94 2.06.94-2.06 2.06-.94-2.06-.94-.94-2.06-.94 2.06-2.06.94z\"/><path d=\"M17.41 7.96l-1.37-1.37c-.4-.4-.92-.59-1.43-.59-.52 0-1.04.2-1.43.59L10.3 9.45l-7.72 7.72c-.78.78-.78 2.05 0 2.83L4 21.41c.39.39.9.59 1.41.59.51 0 1.02-.2 1.41-.59l7.78-7.78 2.81-2.81c.8-.78.8-2.07 0-2.86zM5.41 20L4 18.59l7.72-7.72 1.47 1.35L5.41 20z\"/>\n",
              "  </svg>\n",
              "      </button>\n",
              "      \n",
              "  <style>\n",
              "    .colab-df-container {\n",
              "      display:flex;\n",
              "      flex-wrap:wrap;\n",
              "      gap: 12px;\n",
              "    }\n",
              "\n",
              "    .colab-df-convert {\n",
              "      background-color: #E8F0FE;\n",
              "      border: none;\n",
              "      border-radius: 50%;\n",
              "      cursor: pointer;\n",
              "      display: none;\n",
              "      fill: #1967D2;\n",
              "      height: 32px;\n",
              "      padding: 0 0 0 0;\n",
              "      width: 32px;\n",
              "    }\n",
              "\n",
              "    .colab-df-convert:hover {\n",
              "      background-color: #E2EBFA;\n",
              "      box-shadow: 0px 1px 2px rgba(60, 64, 67, 0.3), 0px 1px 3px 1px rgba(60, 64, 67, 0.15);\n",
              "      fill: #174EA6;\n",
              "    }\n",
              "\n",
              "    [theme=dark] .colab-df-convert {\n",
              "      background-color: #3B4455;\n",
              "      fill: #D2E3FC;\n",
              "    }\n",
              "\n",
              "    [theme=dark] .colab-df-convert:hover {\n",
              "      background-color: #434B5C;\n",
              "      box-shadow: 0px 1px 3px 1px rgba(0, 0, 0, 0.15);\n",
              "      filter: drop-shadow(0px 1px 2px rgba(0, 0, 0, 0.3));\n",
              "      fill: #FFFFFF;\n",
              "    }\n",
              "  </style>\n",
              "\n",
              "      <script>\n",
              "        const buttonEl =\n",
              "          document.querySelector('#df-4f77e186-0a14-4170-8f2b-c788b9b9bb22 button.colab-df-convert');\n",
              "        buttonEl.style.display =\n",
              "          google.colab.kernel.accessAllowed ? 'block' : 'none';\n",
              "\n",
              "        async function convertToInteractive(key) {\n",
              "          const element = document.querySelector('#df-4f77e186-0a14-4170-8f2b-c788b9b9bb22');\n",
              "          const dataTable =\n",
              "            await google.colab.kernel.invokeFunction('convertToInteractive',\n",
              "                                                     [key], {});\n",
              "          if (!dataTable) return;\n",
              "\n",
              "          const docLinkHtml = 'Like what you see? Visit the ' +\n",
              "            '<a target=\"_blank\" href=https://colab.research.google.com/notebooks/data_table.ipynb>data table notebook</a>'\n",
              "            + ' to learn more about interactive tables.';\n",
              "          element.innerHTML = '';\n",
              "          dataTable['output_type'] = 'display_data';\n",
              "          await google.colab.output.renderOutput(dataTable, element);\n",
              "          const docLink = document.createElement('div');\n",
              "          docLink.innerHTML = docLinkHtml;\n",
              "          element.appendChild(docLink);\n",
              "        }\n",
              "      </script>\n",
              "    </div>\n",
              "  </div>\n",
              "  "
            ]
          },
          "metadata": {},
          "execution_count": 311
        }
      ]
    },
    {
      "cell_type": "markdown",
      "source": [
        "##Combining Datasets: Concat and Append"
      ],
      "metadata": {
        "id": "RVDBtyBFc8_L"
      }
    },
    {
      "cell_type": "code",
      "source": [
        "import pandas as pd\n",
        "import numpy as np"
      ],
      "metadata": {
        "id": "o2iJIUB5c9xd"
      },
      "execution_count": null,
      "outputs": []
    },
    {
      "cell_type": "code",
      "source": [
        "ser1 = pd.Series(['A', 'B', 'C'], index=[1, 2, 3])\n",
        "ser2 = pd.Series(['D', 'E', 'F'], index=[4, 5, 6])\n",
        "pd.concat([ser1, ser2])"
      ],
      "metadata": {
        "colab": {
          "base_uri": "https://localhost:8080/"
        },
        "id": "9UpqFtK9dR2b",
        "outputId": "ef914d22-a4d8-41ee-b4d1-6c69d66b5481"
      },
      "execution_count": null,
      "outputs": [
        {
          "output_type": "execute_result",
          "data": {
            "text/plain": [
              "1    A\n",
              "2    B\n",
              "3    C\n",
              "4    D\n",
              "5    E\n",
              "6    F\n",
              "dtype: object"
            ]
          },
          "metadata": {},
          "execution_count": 313
        }
      ]
    },
    {
      "cell_type": "code",
      "source": [
        "#works to concatenate higher-dimensional objects, such as DataFrames\n",
        "df1 = make_df('AB', [1, 2])\n",
        "df2 = make_df('AB', [3, 4])\n",
        "print(df1); print(df2); print(pd.concat([df1, df2]))"
      ],
      "metadata": {
        "colab": {
          "base_uri": "https://localhost:8080/"
        },
        "id": "UU-n5cJ9d03_",
        "outputId": "d8cbafee-b334-4651-9d38-ae7feeab94c9"
      },
      "execution_count": null,
      "outputs": [
        {
          "output_type": "stream",
          "name": "stdout",
          "text": [
            "    A   B\n",
            "1  A1  B1\n",
            "2  A2  B2\n",
            "    A   B\n",
            "3  A3  B3\n",
            "4  A4  B4\n",
            "    A   B\n",
            "1  A1  B1\n",
            "2  A2  B2\n",
            "3  A3  B3\n",
            "4  A4  B4\n"
          ]
        }
      ]
    },
    {
      "cell_type": "code",
      "source": [
        "print(df1); print(df2); print(df1.append(df2))"
      ],
      "metadata": {
        "colab": {
          "base_uri": "https://localhost:8080/"
        },
        "id": "qRpTLPtqeYOQ",
        "outputId": "66844431-382f-4def-f333-008d5ea24ff5"
      },
      "execution_count": null,
      "outputs": [
        {
          "output_type": "stream",
          "name": "stdout",
          "text": [
            "    A   B\n",
            "1  A1  B1\n",
            "2  A2  B2\n",
            "    A   B\n",
            "3  A3  B3\n",
            "4  A4  B4\n",
            "    A   B\n",
            "1  A1  B1\n",
            "2  A2  B2\n",
            "3  A3  B3\n",
            "4  A4  B4\n"
          ]
        }
      ]
    },
    {
      "cell_type": "markdown",
      "source": [
        "#Categories of Joins"
      ],
      "metadata": {
        "id": "x8_S_QRRfSla"
      }
    },
    {
      "cell_type": "code",
      "source": [
        "#One-to-one joins\n",
        "df1 = pd.DataFrame({'employee': ['Bob', 'Jake', 'Lisa', 'Sue'],'group': ['Accounting', 'Engineering', 'Engineering', 'HR']})\n",
        "df2 = pd.DataFrame({'employee': ['Lisa', 'Bob', 'Jake', 'Sue'],'hire_date': [2004, 2008, 2012, 2014]})\n",
        "print(df1); print(df2)"
      ],
      "metadata": {
        "colab": {
          "base_uri": "https://localhost:8080/"
        },
        "id": "sSpwYtnKfT0d",
        "outputId": "344d2830-767a-431b-b8ee-7a41f88ad2e2"
      },
      "execution_count": null,
      "outputs": [
        {
          "output_type": "stream",
          "name": "stdout",
          "text": [
            "  employee        group\n",
            "0      Bob   Accounting\n",
            "1     Jake  Engineering\n",
            "2     Lisa  Engineering\n",
            "3      Sue           HR\n",
            "  employee  hire_date\n",
            "0     Lisa       2004\n",
            "1      Bob       2008\n",
            "2     Jake       2012\n",
            "3      Sue       2014\n"
          ]
        }
      ]
    },
    {
      "cell_type": "code",
      "source": [
        "df3 = pd.merge(df1, df2)\n",
        "df3"
      ],
      "metadata": {
        "colab": {
          "base_uri": "https://localhost:8080/",
          "height": 175
        },
        "id": "vXrDXdVifb3_",
        "outputId": "53799c9a-0260-445f-b372-c77dbb47ce52"
      },
      "execution_count": null,
      "outputs": [
        {
          "output_type": "execute_result",
          "data": {
            "text/plain": [
              "  employee        group  hire_date\n",
              "0      Bob   Accounting       2008\n",
              "1     Jake  Engineering       2012\n",
              "2     Lisa  Engineering       2004\n",
              "3      Sue           HR       2014"
            ],
            "text/html": [
              "\n",
              "  <div id=\"df-ad944f1b-a2af-42c2-bad0-47bc0412247a\">\n",
              "    <div class=\"colab-df-container\">\n",
              "      <div>\n",
              "<style scoped>\n",
              "    .dataframe tbody tr th:only-of-type {\n",
              "        vertical-align: middle;\n",
              "    }\n",
              "\n",
              "    .dataframe tbody tr th {\n",
              "        vertical-align: top;\n",
              "    }\n",
              "\n",
              "    .dataframe thead th {\n",
              "        text-align: right;\n",
              "    }\n",
              "</style>\n",
              "<table border=\"1\" class=\"dataframe\">\n",
              "  <thead>\n",
              "    <tr style=\"text-align: right;\">\n",
              "      <th></th>\n",
              "      <th>employee</th>\n",
              "      <th>group</th>\n",
              "      <th>hire_date</th>\n",
              "    </tr>\n",
              "  </thead>\n",
              "  <tbody>\n",
              "    <tr>\n",
              "      <th>0</th>\n",
              "      <td>Bob</td>\n",
              "      <td>Accounting</td>\n",
              "      <td>2008</td>\n",
              "    </tr>\n",
              "    <tr>\n",
              "      <th>1</th>\n",
              "      <td>Jake</td>\n",
              "      <td>Engineering</td>\n",
              "      <td>2012</td>\n",
              "    </tr>\n",
              "    <tr>\n",
              "      <th>2</th>\n",
              "      <td>Lisa</td>\n",
              "      <td>Engineering</td>\n",
              "      <td>2004</td>\n",
              "    </tr>\n",
              "    <tr>\n",
              "      <th>3</th>\n",
              "      <td>Sue</td>\n",
              "      <td>HR</td>\n",
              "      <td>2014</td>\n",
              "    </tr>\n",
              "  </tbody>\n",
              "</table>\n",
              "</div>\n",
              "      <button class=\"colab-df-convert\" onclick=\"convertToInteractive('df-ad944f1b-a2af-42c2-bad0-47bc0412247a')\"\n",
              "              title=\"Convert this dataframe to an interactive table.\"\n",
              "              style=\"display:none;\">\n",
              "        \n",
              "  <svg xmlns=\"http://www.w3.org/2000/svg\" height=\"24px\"viewBox=\"0 0 24 24\"\n",
              "       width=\"24px\">\n",
              "    <path d=\"M0 0h24v24H0V0z\" fill=\"none\"/>\n",
              "    <path d=\"M18.56 5.44l.94 2.06.94-2.06 2.06-.94-2.06-.94-.94-2.06-.94 2.06-2.06.94zm-11 1L8.5 8.5l.94-2.06 2.06-.94-2.06-.94L8.5 2.5l-.94 2.06-2.06.94zm10 10l.94 2.06.94-2.06 2.06-.94-2.06-.94-.94-2.06-.94 2.06-2.06.94z\"/><path d=\"M17.41 7.96l-1.37-1.37c-.4-.4-.92-.59-1.43-.59-.52 0-1.04.2-1.43.59L10.3 9.45l-7.72 7.72c-.78.78-.78 2.05 0 2.83L4 21.41c.39.39.9.59 1.41.59.51 0 1.02-.2 1.41-.59l7.78-7.78 2.81-2.81c.8-.78.8-2.07 0-2.86zM5.41 20L4 18.59l7.72-7.72 1.47 1.35L5.41 20z\"/>\n",
              "  </svg>\n",
              "      </button>\n",
              "      \n",
              "  <style>\n",
              "    .colab-df-container {\n",
              "      display:flex;\n",
              "      flex-wrap:wrap;\n",
              "      gap: 12px;\n",
              "    }\n",
              "\n",
              "    .colab-df-convert {\n",
              "      background-color: #E8F0FE;\n",
              "      border: none;\n",
              "      border-radius: 50%;\n",
              "      cursor: pointer;\n",
              "      display: none;\n",
              "      fill: #1967D2;\n",
              "      height: 32px;\n",
              "      padding: 0 0 0 0;\n",
              "      width: 32px;\n",
              "    }\n",
              "\n",
              "    .colab-df-convert:hover {\n",
              "      background-color: #E2EBFA;\n",
              "      box-shadow: 0px 1px 2px rgba(60, 64, 67, 0.3), 0px 1px 3px 1px rgba(60, 64, 67, 0.15);\n",
              "      fill: #174EA6;\n",
              "    }\n",
              "\n",
              "    [theme=dark] .colab-df-convert {\n",
              "      background-color: #3B4455;\n",
              "      fill: #D2E3FC;\n",
              "    }\n",
              "\n",
              "    [theme=dark] .colab-df-convert:hover {\n",
              "      background-color: #434B5C;\n",
              "      box-shadow: 0px 1px 3px 1px rgba(0, 0, 0, 0.15);\n",
              "      filter: drop-shadow(0px 1px 2px rgba(0, 0, 0, 0.3));\n",
              "      fill: #FFFFFF;\n",
              "    }\n",
              "  </style>\n",
              "\n",
              "      <script>\n",
              "        const buttonEl =\n",
              "          document.querySelector('#df-ad944f1b-a2af-42c2-bad0-47bc0412247a button.colab-df-convert');\n",
              "        buttonEl.style.display =\n",
              "          google.colab.kernel.accessAllowed ? 'block' : 'none';\n",
              "\n",
              "        async function convertToInteractive(key) {\n",
              "          const element = document.querySelector('#df-ad944f1b-a2af-42c2-bad0-47bc0412247a');\n",
              "          const dataTable =\n",
              "            await google.colab.kernel.invokeFunction('convertToInteractive',\n",
              "                                                     [key], {});\n",
              "          if (!dataTable) return;\n",
              "\n",
              "          const docLinkHtml = 'Like what you see? Visit the ' +\n",
              "            '<a target=\"_blank\" href=https://colab.research.google.com/notebooks/data_table.ipynb>data table notebook</a>'\n",
              "            + ' to learn more about interactive tables.';\n",
              "          element.innerHTML = '';\n",
              "          dataTable['output_type'] = 'display_data';\n",
              "          await google.colab.output.renderOutput(dataTable, element);\n",
              "          const docLink = document.createElement('div');\n",
              "          docLink.innerHTML = docLinkHtml;\n",
              "          element.appendChild(docLink);\n",
              "        }\n",
              "      </script>\n",
              "    </div>\n",
              "  </div>\n",
              "  "
            ]
          },
          "metadata": {},
          "execution_count": 27
        }
      ]
    },
    {
      "cell_type": "code",
      "source": [
        "#Many-to-one joins\n",
        "df4 = pd.DataFrame({'group': ['Accounting', 'Engineering', 'HR'],'supervisor': ['Carly', 'Guido', 'Steve']})\n",
        "print(df3); print(df4); print(pd.merge(df3, df4))\n"
      ],
      "metadata": {
        "colab": {
          "base_uri": "https://localhost:8080/"
        },
        "id": "jkSpfZDTfgDD",
        "outputId": "d08257f5-6c08-4d19-aa2e-3120867e46c0"
      },
      "execution_count": null,
      "outputs": [
        {
          "output_type": "stream",
          "name": "stdout",
          "text": [
            "  employee        group  hire_date\n",
            "0      Bob   Accounting       2008\n",
            "1     Jake  Engineering       2012\n",
            "2     Lisa  Engineering       2004\n",
            "3      Sue           HR       2014\n",
            "         group supervisor\n",
            "0   Accounting      Carly\n",
            "1  Engineering      Guido\n",
            "2           HR      Steve\n",
            "  employee        group  hire_date supervisor\n",
            "0      Bob   Accounting       2008      Carly\n",
            "1     Jake  Engineering       2012      Guido\n",
            "2     Lisa  Engineering       2004      Guido\n",
            "3      Sue           HR       2014      Steve\n"
          ]
        }
      ]
    },
    {
      "cell_type": "code",
      "source": [
        "pd.merge(df3, df4)"
      ],
      "metadata": {
        "colab": {
          "base_uri": "https://localhost:8080/",
          "height": 175
        },
        "id": "Yt6VCuUlf6hi",
        "outputId": "c60407d4-fea6-4c19-a231-c01c48d9d08e"
      },
      "execution_count": null,
      "outputs": [
        {
          "output_type": "execute_result",
          "data": {
            "text/plain": [
              "  employee        group  hire_date supervisor\n",
              "0      Bob   Accounting       2008      Carly\n",
              "1     Jake  Engineering       2012      Guido\n",
              "2     Lisa  Engineering       2004      Guido\n",
              "3      Sue           HR       2014      Steve"
            ],
            "text/html": [
              "\n",
              "  <div id=\"df-3af740ce-013d-42c0-b9a5-3758dd51da92\">\n",
              "    <div class=\"colab-df-container\">\n",
              "      <div>\n",
              "<style scoped>\n",
              "    .dataframe tbody tr th:only-of-type {\n",
              "        vertical-align: middle;\n",
              "    }\n",
              "\n",
              "    .dataframe tbody tr th {\n",
              "        vertical-align: top;\n",
              "    }\n",
              "\n",
              "    .dataframe thead th {\n",
              "        text-align: right;\n",
              "    }\n",
              "</style>\n",
              "<table border=\"1\" class=\"dataframe\">\n",
              "  <thead>\n",
              "    <tr style=\"text-align: right;\">\n",
              "      <th></th>\n",
              "      <th>employee</th>\n",
              "      <th>group</th>\n",
              "      <th>hire_date</th>\n",
              "      <th>supervisor</th>\n",
              "    </tr>\n",
              "  </thead>\n",
              "  <tbody>\n",
              "    <tr>\n",
              "      <th>0</th>\n",
              "      <td>Bob</td>\n",
              "      <td>Accounting</td>\n",
              "      <td>2008</td>\n",
              "      <td>Carly</td>\n",
              "    </tr>\n",
              "    <tr>\n",
              "      <th>1</th>\n",
              "      <td>Jake</td>\n",
              "      <td>Engineering</td>\n",
              "      <td>2012</td>\n",
              "      <td>Guido</td>\n",
              "    </tr>\n",
              "    <tr>\n",
              "      <th>2</th>\n",
              "      <td>Lisa</td>\n",
              "      <td>Engineering</td>\n",
              "      <td>2004</td>\n",
              "      <td>Guido</td>\n",
              "    </tr>\n",
              "    <tr>\n",
              "      <th>3</th>\n",
              "      <td>Sue</td>\n",
              "      <td>HR</td>\n",
              "      <td>2014</td>\n",
              "      <td>Steve</td>\n",
              "    </tr>\n",
              "  </tbody>\n",
              "</table>\n",
              "</div>\n",
              "      <button class=\"colab-df-convert\" onclick=\"convertToInteractive('df-3af740ce-013d-42c0-b9a5-3758dd51da92')\"\n",
              "              title=\"Convert this dataframe to an interactive table.\"\n",
              "              style=\"display:none;\">\n",
              "        \n",
              "  <svg xmlns=\"http://www.w3.org/2000/svg\" height=\"24px\"viewBox=\"0 0 24 24\"\n",
              "       width=\"24px\">\n",
              "    <path d=\"M0 0h24v24H0V0z\" fill=\"none\"/>\n",
              "    <path d=\"M18.56 5.44l.94 2.06.94-2.06 2.06-.94-2.06-.94-.94-2.06-.94 2.06-2.06.94zm-11 1L8.5 8.5l.94-2.06 2.06-.94-2.06-.94L8.5 2.5l-.94 2.06-2.06.94zm10 10l.94 2.06.94-2.06 2.06-.94-2.06-.94-.94-2.06-.94 2.06-2.06.94z\"/><path d=\"M17.41 7.96l-1.37-1.37c-.4-.4-.92-.59-1.43-.59-.52 0-1.04.2-1.43.59L10.3 9.45l-7.72 7.72c-.78.78-.78 2.05 0 2.83L4 21.41c.39.39.9.59 1.41.59.51 0 1.02-.2 1.41-.59l7.78-7.78 2.81-2.81c.8-.78.8-2.07 0-2.86zM5.41 20L4 18.59l7.72-7.72 1.47 1.35L5.41 20z\"/>\n",
              "  </svg>\n",
              "      </button>\n",
              "      \n",
              "  <style>\n",
              "    .colab-df-container {\n",
              "      display:flex;\n",
              "      flex-wrap:wrap;\n",
              "      gap: 12px;\n",
              "    }\n",
              "\n",
              "    .colab-df-convert {\n",
              "      background-color: #E8F0FE;\n",
              "      border: none;\n",
              "      border-radius: 50%;\n",
              "      cursor: pointer;\n",
              "      display: none;\n",
              "      fill: #1967D2;\n",
              "      height: 32px;\n",
              "      padding: 0 0 0 0;\n",
              "      width: 32px;\n",
              "    }\n",
              "\n",
              "    .colab-df-convert:hover {\n",
              "      background-color: #E2EBFA;\n",
              "      box-shadow: 0px 1px 2px rgba(60, 64, 67, 0.3), 0px 1px 3px 1px rgba(60, 64, 67, 0.15);\n",
              "      fill: #174EA6;\n",
              "    }\n",
              "\n",
              "    [theme=dark] .colab-df-convert {\n",
              "      background-color: #3B4455;\n",
              "      fill: #D2E3FC;\n",
              "    }\n",
              "\n",
              "    [theme=dark] .colab-df-convert:hover {\n",
              "      background-color: #434B5C;\n",
              "      box-shadow: 0px 1px 3px 1px rgba(0, 0, 0, 0.15);\n",
              "      filter: drop-shadow(0px 1px 2px rgba(0, 0, 0, 0.3));\n",
              "      fill: #FFFFFF;\n",
              "    }\n",
              "  </style>\n",
              "\n",
              "      <script>\n",
              "        const buttonEl =\n",
              "          document.querySelector('#df-3af740ce-013d-42c0-b9a5-3758dd51da92 button.colab-df-convert');\n",
              "        buttonEl.style.display =\n",
              "          google.colab.kernel.accessAllowed ? 'block' : 'none';\n",
              "\n",
              "        async function convertToInteractive(key) {\n",
              "          const element = document.querySelector('#df-3af740ce-013d-42c0-b9a5-3758dd51da92');\n",
              "          const dataTable =\n",
              "            await google.colab.kernel.invokeFunction('convertToInteractive',\n",
              "                                                     [key], {});\n",
              "          if (!dataTable) return;\n",
              "\n",
              "          const docLinkHtml = 'Like what you see? Visit the ' +\n",
              "            '<a target=\"_blank\" href=https://colab.research.google.com/notebooks/data_table.ipynb>data table notebook</a>'\n",
              "            + ' to learn more about interactive tables.';\n",
              "          element.innerHTML = '';\n",
              "          dataTable['output_type'] = 'display_data';\n",
              "          await google.colab.output.renderOutput(dataTable, element);\n",
              "          const docLink = document.createElement('div');\n",
              "          docLink.innerHTML = docLinkHtml;\n",
              "          element.appendChild(docLink);\n",
              "        }\n",
              "      </script>\n",
              "    </div>\n",
              "  </div>\n",
              "  "
            ]
          },
          "metadata": {},
          "execution_count": 19
        }
      ]
    },
    {
      "cell_type": "code",
      "source": [
        "#Many-to-many joins\n",
        "df5 = pd.DataFrame({'group': ['Accounting', 'Accounting','Engineering', 'Engineering', 'HR', 'HR'],'skills': ['math', 'spreadsheets', 'coding', 'linux',\n",
        "'spreadsheets', 'organization']})"
      ],
      "metadata": {
        "id": "KCI-oheCf-IV"
      },
      "execution_count": null,
      "outputs": []
    },
    {
      "cell_type": "code",
      "source": [
        "pd.merge(df1, df5)"
      ],
      "metadata": {
        "colab": {
          "base_uri": "https://localhost:8080/",
          "height": 300
        },
        "id": "CziwTWs1gIMO",
        "outputId": "fdcf4edd-779c-4603-abfb-9e25c2c729e6"
      },
      "execution_count": null,
      "outputs": [
        {
          "output_type": "execute_result",
          "data": {
            "text/plain": [
              "  employee        group        skills\n",
              "0      Bob   Accounting          math\n",
              "1      Bob   Accounting  spreadsheets\n",
              "2     Jake  Engineering        coding\n",
              "3     Jake  Engineering         linux\n",
              "4     Lisa  Engineering        coding\n",
              "5     Lisa  Engineering         linux\n",
              "6      Sue           HR  spreadsheets\n",
              "7      Sue           HR  organization"
            ],
            "text/html": [
              "\n",
              "  <div id=\"df-bd6cff38-67f4-4b1d-ae67-e3d461771dcc\">\n",
              "    <div class=\"colab-df-container\">\n",
              "      <div>\n",
              "<style scoped>\n",
              "    .dataframe tbody tr th:only-of-type {\n",
              "        vertical-align: middle;\n",
              "    }\n",
              "\n",
              "    .dataframe tbody tr th {\n",
              "        vertical-align: top;\n",
              "    }\n",
              "\n",
              "    .dataframe thead th {\n",
              "        text-align: right;\n",
              "    }\n",
              "</style>\n",
              "<table border=\"1\" class=\"dataframe\">\n",
              "  <thead>\n",
              "    <tr style=\"text-align: right;\">\n",
              "      <th></th>\n",
              "      <th>employee</th>\n",
              "      <th>group</th>\n",
              "      <th>skills</th>\n",
              "    </tr>\n",
              "  </thead>\n",
              "  <tbody>\n",
              "    <tr>\n",
              "      <th>0</th>\n",
              "      <td>Bob</td>\n",
              "      <td>Accounting</td>\n",
              "      <td>math</td>\n",
              "    </tr>\n",
              "    <tr>\n",
              "      <th>1</th>\n",
              "      <td>Bob</td>\n",
              "      <td>Accounting</td>\n",
              "      <td>spreadsheets</td>\n",
              "    </tr>\n",
              "    <tr>\n",
              "      <th>2</th>\n",
              "      <td>Jake</td>\n",
              "      <td>Engineering</td>\n",
              "      <td>coding</td>\n",
              "    </tr>\n",
              "    <tr>\n",
              "      <th>3</th>\n",
              "      <td>Jake</td>\n",
              "      <td>Engineering</td>\n",
              "      <td>linux</td>\n",
              "    </tr>\n",
              "    <tr>\n",
              "      <th>4</th>\n",
              "      <td>Lisa</td>\n",
              "      <td>Engineering</td>\n",
              "      <td>coding</td>\n",
              "    </tr>\n",
              "    <tr>\n",
              "      <th>5</th>\n",
              "      <td>Lisa</td>\n",
              "      <td>Engineering</td>\n",
              "      <td>linux</td>\n",
              "    </tr>\n",
              "    <tr>\n",
              "      <th>6</th>\n",
              "      <td>Sue</td>\n",
              "      <td>HR</td>\n",
              "      <td>spreadsheets</td>\n",
              "    </tr>\n",
              "    <tr>\n",
              "      <th>7</th>\n",
              "      <td>Sue</td>\n",
              "      <td>HR</td>\n",
              "      <td>organization</td>\n",
              "    </tr>\n",
              "  </tbody>\n",
              "</table>\n",
              "</div>\n",
              "      <button class=\"colab-df-convert\" onclick=\"convertToInteractive('df-bd6cff38-67f4-4b1d-ae67-e3d461771dcc')\"\n",
              "              title=\"Convert this dataframe to an interactive table.\"\n",
              "              style=\"display:none;\">\n",
              "        \n",
              "  <svg xmlns=\"http://www.w3.org/2000/svg\" height=\"24px\"viewBox=\"0 0 24 24\"\n",
              "       width=\"24px\">\n",
              "    <path d=\"M0 0h24v24H0V0z\" fill=\"none\"/>\n",
              "    <path d=\"M18.56 5.44l.94 2.06.94-2.06 2.06-.94-2.06-.94-.94-2.06-.94 2.06-2.06.94zm-11 1L8.5 8.5l.94-2.06 2.06-.94-2.06-.94L8.5 2.5l-.94 2.06-2.06.94zm10 10l.94 2.06.94-2.06 2.06-.94-2.06-.94-.94-2.06-.94 2.06-2.06.94z\"/><path d=\"M17.41 7.96l-1.37-1.37c-.4-.4-.92-.59-1.43-.59-.52 0-1.04.2-1.43.59L10.3 9.45l-7.72 7.72c-.78.78-.78 2.05 0 2.83L4 21.41c.39.39.9.59 1.41.59.51 0 1.02-.2 1.41-.59l7.78-7.78 2.81-2.81c.8-.78.8-2.07 0-2.86zM5.41 20L4 18.59l7.72-7.72 1.47 1.35L5.41 20z\"/>\n",
              "  </svg>\n",
              "      </button>\n",
              "      \n",
              "  <style>\n",
              "    .colab-df-container {\n",
              "      display:flex;\n",
              "      flex-wrap:wrap;\n",
              "      gap: 12px;\n",
              "    }\n",
              "\n",
              "    .colab-df-convert {\n",
              "      background-color: #E8F0FE;\n",
              "      border: none;\n",
              "      border-radius: 50%;\n",
              "      cursor: pointer;\n",
              "      display: none;\n",
              "      fill: #1967D2;\n",
              "      height: 32px;\n",
              "      padding: 0 0 0 0;\n",
              "      width: 32px;\n",
              "    }\n",
              "\n",
              "    .colab-df-convert:hover {\n",
              "      background-color: #E2EBFA;\n",
              "      box-shadow: 0px 1px 2px rgba(60, 64, 67, 0.3), 0px 1px 3px 1px rgba(60, 64, 67, 0.15);\n",
              "      fill: #174EA6;\n",
              "    }\n",
              "\n",
              "    [theme=dark] .colab-df-convert {\n",
              "      background-color: #3B4455;\n",
              "      fill: #D2E3FC;\n",
              "    }\n",
              "\n",
              "    [theme=dark] .colab-df-convert:hover {\n",
              "      background-color: #434B5C;\n",
              "      box-shadow: 0px 1px 3px 1px rgba(0, 0, 0, 0.15);\n",
              "      filter: drop-shadow(0px 1px 2px rgba(0, 0, 0, 0.3));\n",
              "      fill: #FFFFFF;\n",
              "    }\n",
              "  </style>\n",
              "\n",
              "      <script>\n",
              "        const buttonEl =\n",
              "          document.querySelector('#df-bd6cff38-67f4-4b1d-ae67-e3d461771dcc button.colab-df-convert');\n",
              "        buttonEl.style.display =\n",
              "          google.colab.kernel.accessAllowed ? 'block' : 'none';\n",
              "\n",
              "        async function convertToInteractive(key) {\n",
              "          const element = document.querySelector('#df-bd6cff38-67f4-4b1d-ae67-e3d461771dcc');\n",
              "          const dataTable =\n",
              "            await google.colab.kernel.invokeFunction('convertToInteractive',\n",
              "                                                     [key], {});\n",
              "          if (!dataTable) return;\n",
              "\n",
              "          const docLinkHtml = 'Like what you see? Visit the ' +\n",
              "            '<a target=\"_blank\" href=https://colab.research.google.com/notebooks/data_table.ipynb>data table notebook</a>'\n",
              "            + ' to learn more about interactive tables.';\n",
              "          element.innerHTML = '';\n",
              "          dataTable['output_type'] = 'display_data';\n",
              "          await google.colab.output.renderOutput(dataTable, element);\n",
              "          const docLink = document.createElement('div');\n",
              "          docLink.innerHTML = docLinkHtml;\n",
              "          element.appendChild(docLink);\n",
              "        }\n",
              "      </script>\n",
              "    </div>\n",
              "  </div>\n",
              "  "
            ]
          },
          "metadata": {},
          "execution_count": 30
        }
      ]
    },
    {
      "cell_type": "code",
      "source": [
        "#The on keyword - explicitly speify the merge keyword\n",
        "print(df1); print(df2); print(pd.merge(df1, df2, on='employee'))"
      ],
      "metadata": {
        "colab": {
          "base_uri": "https://localhost:8080/"
        },
        "id": "9MltB-K1gKsF",
        "outputId": "e1ca8738-2f59-4b07-f71b-64f5128ece89"
      },
      "execution_count": null,
      "outputs": [
        {
          "output_type": "stream",
          "name": "stdout",
          "text": [
            "  employee        group\n",
            "0      Bob   Accounting\n",
            "1     Jake  Engineering\n",
            "2     Lisa  Engineering\n",
            "3      Sue           HR\n",
            "  employee  hire_date\n",
            "0     Lisa       2004\n",
            "1      Bob       2008\n",
            "2     Jake       2012\n",
            "3      Sue       2014\n",
            "  employee        group  hire_date\n",
            "0      Bob   Accounting       2008\n",
            "1     Jake  Engineering       2012\n",
            "2     Lisa  Engineering       2004\n",
            "3      Sue           HR       2014\n"
          ]
        }
      ]
    },
    {
      "cell_type": "code",
      "source": [
        "pd.merge(df1, df2, on='employee')"
      ],
      "metadata": {
        "colab": {
          "base_uri": "https://localhost:8080/",
          "height": 175
        },
        "id": "JQUk6Egfgcll",
        "outputId": "743925fe-0b1f-44aa-eb7b-8b2e74736075"
      },
      "execution_count": null,
      "outputs": [
        {
          "output_type": "execute_result",
          "data": {
            "text/plain": [
              "  employee        group  hire_date\n",
              "0      Bob   Accounting       2008\n",
              "1     Jake  Engineering       2012\n",
              "2     Lisa  Engineering       2004\n",
              "3      Sue           HR       2014"
            ],
            "text/html": [
              "\n",
              "  <div id=\"df-30545dc4-a714-4e6d-9b8e-273e61f8e7a1\">\n",
              "    <div class=\"colab-df-container\">\n",
              "      <div>\n",
              "<style scoped>\n",
              "    .dataframe tbody tr th:only-of-type {\n",
              "        vertical-align: middle;\n",
              "    }\n",
              "\n",
              "    .dataframe tbody tr th {\n",
              "        vertical-align: top;\n",
              "    }\n",
              "\n",
              "    .dataframe thead th {\n",
              "        text-align: right;\n",
              "    }\n",
              "</style>\n",
              "<table border=\"1\" class=\"dataframe\">\n",
              "  <thead>\n",
              "    <tr style=\"text-align: right;\">\n",
              "      <th></th>\n",
              "      <th>employee</th>\n",
              "      <th>group</th>\n",
              "      <th>hire_date</th>\n",
              "    </tr>\n",
              "  </thead>\n",
              "  <tbody>\n",
              "    <tr>\n",
              "      <th>0</th>\n",
              "      <td>Bob</td>\n",
              "      <td>Accounting</td>\n",
              "      <td>2008</td>\n",
              "    </tr>\n",
              "    <tr>\n",
              "      <th>1</th>\n",
              "      <td>Jake</td>\n",
              "      <td>Engineering</td>\n",
              "      <td>2012</td>\n",
              "    </tr>\n",
              "    <tr>\n",
              "      <th>2</th>\n",
              "      <td>Lisa</td>\n",
              "      <td>Engineering</td>\n",
              "      <td>2004</td>\n",
              "    </tr>\n",
              "    <tr>\n",
              "      <th>3</th>\n",
              "      <td>Sue</td>\n",
              "      <td>HR</td>\n",
              "      <td>2014</td>\n",
              "    </tr>\n",
              "  </tbody>\n",
              "</table>\n",
              "</div>\n",
              "      <button class=\"colab-df-convert\" onclick=\"convertToInteractive('df-30545dc4-a714-4e6d-9b8e-273e61f8e7a1')\"\n",
              "              title=\"Convert this dataframe to an interactive table.\"\n",
              "              style=\"display:none;\">\n",
              "        \n",
              "  <svg xmlns=\"http://www.w3.org/2000/svg\" height=\"24px\"viewBox=\"0 0 24 24\"\n",
              "       width=\"24px\">\n",
              "    <path d=\"M0 0h24v24H0V0z\" fill=\"none\"/>\n",
              "    <path d=\"M18.56 5.44l.94 2.06.94-2.06 2.06-.94-2.06-.94-.94-2.06-.94 2.06-2.06.94zm-11 1L8.5 8.5l.94-2.06 2.06-.94-2.06-.94L8.5 2.5l-.94 2.06-2.06.94zm10 10l.94 2.06.94-2.06 2.06-.94-2.06-.94-.94-2.06-.94 2.06-2.06.94z\"/><path d=\"M17.41 7.96l-1.37-1.37c-.4-.4-.92-.59-1.43-.59-.52 0-1.04.2-1.43.59L10.3 9.45l-7.72 7.72c-.78.78-.78 2.05 0 2.83L4 21.41c.39.39.9.59 1.41.59.51 0 1.02-.2 1.41-.59l7.78-7.78 2.81-2.81c.8-.78.8-2.07 0-2.86zM5.41 20L4 18.59l7.72-7.72 1.47 1.35L5.41 20z\"/>\n",
              "  </svg>\n",
              "      </button>\n",
              "      \n",
              "  <style>\n",
              "    .colab-df-container {\n",
              "      display:flex;\n",
              "      flex-wrap:wrap;\n",
              "      gap: 12px;\n",
              "    }\n",
              "\n",
              "    .colab-df-convert {\n",
              "      background-color: #E8F0FE;\n",
              "      border: none;\n",
              "      border-radius: 50%;\n",
              "      cursor: pointer;\n",
              "      display: none;\n",
              "      fill: #1967D2;\n",
              "      height: 32px;\n",
              "      padding: 0 0 0 0;\n",
              "      width: 32px;\n",
              "    }\n",
              "\n",
              "    .colab-df-convert:hover {\n",
              "      background-color: #E2EBFA;\n",
              "      box-shadow: 0px 1px 2px rgba(60, 64, 67, 0.3), 0px 1px 3px 1px rgba(60, 64, 67, 0.15);\n",
              "      fill: #174EA6;\n",
              "    }\n",
              "\n",
              "    [theme=dark] .colab-df-convert {\n",
              "      background-color: #3B4455;\n",
              "      fill: #D2E3FC;\n",
              "    }\n",
              "\n",
              "    [theme=dark] .colab-df-convert:hover {\n",
              "      background-color: #434B5C;\n",
              "      box-shadow: 0px 1px 3px 1px rgba(0, 0, 0, 0.15);\n",
              "      filter: drop-shadow(0px 1px 2px rgba(0, 0, 0, 0.3));\n",
              "      fill: #FFFFFF;\n",
              "    }\n",
              "  </style>\n",
              "\n",
              "      <script>\n",
              "        const buttonEl =\n",
              "          document.querySelector('#df-30545dc4-a714-4e6d-9b8e-273e61f8e7a1 button.colab-df-convert');\n",
              "        buttonEl.style.display =\n",
              "          google.colab.kernel.accessAllowed ? 'block' : 'none';\n",
              "\n",
              "        async function convertToInteractive(key) {\n",
              "          const element = document.querySelector('#df-30545dc4-a714-4e6d-9b8e-273e61f8e7a1');\n",
              "          const dataTable =\n",
              "            await google.colab.kernel.invokeFunction('convertToInteractive',\n",
              "                                                     [key], {});\n",
              "          if (!dataTable) return;\n",
              "\n",
              "          const docLinkHtml = 'Like what you see? Visit the ' +\n",
              "            '<a target=\"_blank\" href=https://colab.research.google.com/notebooks/data_table.ipynb>data table notebook</a>'\n",
              "            + ' to learn more about interactive tables.';\n",
              "          element.innerHTML = '';\n",
              "          dataTable['output_type'] = 'display_data';\n",
              "          await google.colab.output.renderOutput(dataTable, element);\n",
              "          const docLink = document.createElement('div');\n",
              "          docLink.innerHTML = docLinkHtml;\n",
              "          element.appendChild(docLink);\n",
              "        }\n",
              "      </script>\n",
              "    </div>\n",
              "  </div>\n",
              "  "
            ]
          },
          "metadata": {},
          "execution_count": 23
        }
      ]
    },
    {
      "cell_type": "code",
      "source": [
        "#The left_on and right_on keywords\n",
        "df3 = pd.DataFrame({'name': ['Bob', 'Jake', 'Lisa', 'Sue'],'salary': [70000, 80000, 120000, 90000]})\n",
        "print(df1); print(df3);\n",
        "print(pd.merge(df1, df3, left_on=\"employee\", right_on=\"name\"))"
      ],
      "metadata": {
        "colab": {
          "base_uri": "https://localhost:8080/"
        },
        "id": "-5E3Xgntgg8r",
        "outputId": "b72829c0-d22a-49ea-9f2f-bb661ec250f9"
      },
      "execution_count": null,
      "outputs": [
        {
          "output_type": "stream",
          "name": "stdout",
          "text": [
            "  employee        group\n",
            "0      Bob   Accounting\n",
            "1     Jake  Engineering\n",
            "2     Lisa  Engineering\n",
            "3      Sue           HR\n",
            "   name  salary\n",
            "0   Bob   70000\n",
            "1  Jake   80000\n",
            "2  Lisa  120000\n",
            "3   Sue   90000\n",
            "  employee        group  name  salary\n",
            "0      Bob   Accounting   Bob   70000\n",
            "1     Jake  Engineering  Jake   80000\n",
            "2     Lisa  Engineering  Lisa  120000\n",
            "3      Sue           HR   Sue   90000\n"
          ]
        }
      ]
    },
    {
      "cell_type": "code",
      "source": [
        "pd.merge(df1, df3, left_on=\"employee\", right_on=\"name\")"
      ],
      "metadata": {
        "colab": {
          "base_uri": "https://localhost:8080/",
          "height": 175
        },
        "id": "wlocRLvYgp3d",
        "outputId": "81e5a9fb-ebe8-4c99-841f-dc66dba743ed"
      },
      "execution_count": null,
      "outputs": [
        {
          "output_type": "execute_result",
          "data": {
            "text/plain": [
              "  employee        group  name  salary\n",
              "0      Bob   Accounting   Bob   70000\n",
              "1     Jake  Engineering  Jake   80000\n",
              "2     Lisa  Engineering  Lisa  120000\n",
              "3      Sue           HR   Sue   90000"
            ],
            "text/html": [
              "\n",
              "  <div id=\"df-07f1752f-3eb1-4972-b319-3afb860ea7a6\">\n",
              "    <div class=\"colab-df-container\">\n",
              "      <div>\n",
              "<style scoped>\n",
              "    .dataframe tbody tr th:only-of-type {\n",
              "        vertical-align: middle;\n",
              "    }\n",
              "\n",
              "    .dataframe tbody tr th {\n",
              "        vertical-align: top;\n",
              "    }\n",
              "\n",
              "    .dataframe thead th {\n",
              "        text-align: right;\n",
              "    }\n",
              "</style>\n",
              "<table border=\"1\" class=\"dataframe\">\n",
              "  <thead>\n",
              "    <tr style=\"text-align: right;\">\n",
              "      <th></th>\n",
              "      <th>employee</th>\n",
              "      <th>group</th>\n",
              "      <th>name</th>\n",
              "      <th>salary</th>\n",
              "    </tr>\n",
              "  </thead>\n",
              "  <tbody>\n",
              "    <tr>\n",
              "      <th>0</th>\n",
              "      <td>Bob</td>\n",
              "      <td>Accounting</td>\n",
              "      <td>Bob</td>\n",
              "      <td>70000</td>\n",
              "    </tr>\n",
              "    <tr>\n",
              "      <th>1</th>\n",
              "      <td>Jake</td>\n",
              "      <td>Engineering</td>\n",
              "      <td>Jake</td>\n",
              "      <td>80000</td>\n",
              "    </tr>\n",
              "    <tr>\n",
              "      <th>2</th>\n",
              "      <td>Lisa</td>\n",
              "      <td>Engineering</td>\n",
              "      <td>Lisa</td>\n",
              "      <td>120000</td>\n",
              "    </tr>\n",
              "    <tr>\n",
              "      <th>3</th>\n",
              "      <td>Sue</td>\n",
              "      <td>HR</td>\n",
              "      <td>Sue</td>\n",
              "      <td>90000</td>\n",
              "    </tr>\n",
              "  </tbody>\n",
              "</table>\n",
              "</div>\n",
              "      <button class=\"colab-df-convert\" onclick=\"convertToInteractive('df-07f1752f-3eb1-4972-b319-3afb860ea7a6')\"\n",
              "              title=\"Convert this dataframe to an interactive table.\"\n",
              "              style=\"display:none;\">\n",
              "        \n",
              "  <svg xmlns=\"http://www.w3.org/2000/svg\" height=\"24px\"viewBox=\"0 0 24 24\"\n",
              "       width=\"24px\">\n",
              "    <path d=\"M0 0h24v24H0V0z\" fill=\"none\"/>\n",
              "    <path d=\"M18.56 5.44l.94 2.06.94-2.06 2.06-.94-2.06-.94-.94-2.06-.94 2.06-2.06.94zm-11 1L8.5 8.5l.94-2.06 2.06-.94-2.06-.94L8.5 2.5l-.94 2.06-2.06.94zm10 10l.94 2.06.94-2.06 2.06-.94-2.06-.94-.94-2.06-.94 2.06-2.06.94z\"/><path d=\"M17.41 7.96l-1.37-1.37c-.4-.4-.92-.59-1.43-.59-.52 0-1.04.2-1.43.59L10.3 9.45l-7.72 7.72c-.78.78-.78 2.05 0 2.83L4 21.41c.39.39.9.59 1.41.59.51 0 1.02-.2 1.41-.59l7.78-7.78 2.81-2.81c.8-.78.8-2.07 0-2.86zM5.41 20L4 18.59l7.72-7.72 1.47 1.35L5.41 20z\"/>\n",
              "  </svg>\n",
              "      </button>\n",
              "      \n",
              "  <style>\n",
              "    .colab-df-container {\n",
              "      display:flex;\n",
              "      flex-wrap:wrap;\n",
              "      gap: 12px;\n",
              "    }\n",
              "\n",
              "    .colab-df-convert {\n",
              "      background-color: #E8F0FE;\n",
              "      border: none;\n",
              "      border-radius: 50%;\n",
              "      cursor: pointer;\n",
              "      display: none;\n",
              "      fill: #1967D2;\n",
              "      height: 32px;\n",
              "      padding: 0 0 0 0;\n",
              "      width: 32px;\n",
              "    }\n",
              "\n",
              "    .colab-df-convert:hover {\n",
              "      background-color: #E2EBFA;\n",
              "      box-shadow: 0px 1px 2px rgba(60, 64, 67, 0.3), 0px 1px 3px 1px rgba(60, 64, 67, 0.15);\n",
              "      fill: #174EA6;\n",
              "    }\n",
              "\n",
              "    [theme=dark] .colab-df-convert {\n",
              "      background-color: #3B4455;\n",
              "      fill: #D2E3FC;\n",
              "    }\n",
              "\n",
              "    [theme=dark] .colab-df-convert:hover {\n",
              "      background-color: #434B5C;\n",
              "      box-shadow: 0px 1px 3px 1px rgba(0, 0, 0, 0.15);\n",
              "      filter: drop-shadow(0px 1px 2px rgba(0, 0, 0, 0.3));\n",
              "      fill: #FFFFFF;\n",
              "    }\n",
              "  </style>\n",
              "\n",
              "      <script>\n",
              "        const buttonEl =\n",
              "          document.querySelector('#df-07f1752f-3eb1-4972-b319-3afb860ea7a6 button.colab-df-convert');\n",
              "        buttonEl.style.display =\n",
              "          google.colab.kernel.accessAllowed ? 'block' : 'none';\n",
              "\n",
              "        async function convertToInteractive(key) {\n",
              "          const element = document.querySelector('#df-07f1752f-3eb1-4972-b319-3afb860ea7a6');\n",
              "          const dataTable =\n",
              "            await google.colab.kernel.invokeFunction('convertToInteractive',\n",
              "                                                     [key], {});\n",
              "          if (!dataTable) return;\n",
              "\n",
              "          const docLinkHtml = 'Like what you see? Visit the ' +\n",
              "            '<a target=\"_blank\" href=https://colab.research.google.com/notebooks/data_table.ipynb>data table notebook</a>'\n",
              "            + ' to learn more about interactive tables.';\n",
              "          element.innerHTML = '';\n",
              "          dataTable['output_type'] = 'display_data';\n",
              "          await google.colab.output.renderOutput(dataTable, element);\n",
              "          const docLink = document.createElement('div');\n",
              "          docLink.innerHTML = docLinkHtml;\n",
              "          element.appendChild(docLink);\n",
              "        }\n",
              "      </script>\n",
              "    </div>\n",
              "  </div>\n",
              "  "
            ]
          },
          "metadata": {},
          "execution_count": 35
        }
      ]
    },
    {
      "cell_type": "code",
      "source": [
        "pd.merge(df1, df3, left_on=\"employee\", right_on=\"name\").drop('name', axis=1)"
      ],
      "metadata": {
        "colab": {
          "base_uri": "https://localhost:8080/",
          "height": 175
        },
        "id": "DyWGlWv0gtqG",
        "outputId": "72776d71-88bb-4842-d5b5-7b13bd1a6c97"
      },
      "execution_count": null,
      "outputs": [
        {
          "output_type": "execute_result",
          "data": {
            "text/plain": [
              "  employee        group  salary\n",
              "0      Bob   Accounting   70000\n",
              "1     Jake  Engineering   80000\n",
              "2     Lisa  Engineering  120000\n",
              "3      Sue           HR   90000"
            ],
            "text/html": [
              "\n",
              "  <div id=\"df-3a896ae1-8ac0-46e3-96d1-6ecd4d77a15b\">\n",
              "    <div class=\"colab-df-container\">\n",
              "      <div>\n",
              "<style scoped>\n",
              "    .dataframe tbody tr th:only-of-type {\n",
              "        vertical-align: middle;\n",
              "    }\n",
              "\n",
              "    .dataframe tbody tr th {\n",
              "        vertical-align: top;\n",
              "    }\n",
              "\n",
              "    .dataframe thead th {\n",
              "        text-align: right;\n",
              "    }\n",
              "</style>\n",
              "<table border=\"1\" class=\"dataframe\">\n",
              "  <thead>\n",
              "    <tr style=\"text-align: right;\">\n",
              "      <th></th>\n",
              "      <th>employee</th>\n",
              "      <th>group</th>\n",
              "      <th>salary</th>\n",
              "    </tr>\n",
              "  </thead>\n",
              "  <tbody>\n",
              "    <tr>\n",
              "      <th>0</th>\n",
              "      <td>Bob</td>\n",
              "      <td>Accounting</td>\n",
              "      <td>70000</td>\n",
              "    </tr>\n",
              "    <tr>\n",
              "      <th>1</th>\n",
              "      <td>Jake</td>\n",
              "      <td>Engineering</td>\n",
              "      <td>80000</td>\n",
              "    </tr>\n",
              "    <tr>\n",
              "      <th>2</th>\n",
              "      <td>Lisa</td>\n",
              "      <td>Engineering</td>\n",
              "      <td>120000</td>\n",
              "    </tr>\n",
              "    <tr>\n",
              "      <th>3</th>\n",
              "      <td>Sue</td>\n",
              "      <td>HR</td>\n",
              "      <td>90000</td>\n",
              "    </tr>\n",
              "  </tbody>\n",
              "</table>\n",
              "</div>\n",
              "      <button class=\"colab-df-convert\" onclick=\"convertToInteractive('df-3a896ae1-8ac0-46e3-96d1-6ecd4d77a15b')\"\n",
              "              title=\"Convert this dataframe to an interactive table.\"\n",
              "              style=\"display:none;\">\n",
              "        \n",
              "  <svg xmlns=\"http://www.w3.org/2000/svg\" height=\"24px\"viewBox=\"0 0 24 24\"\n",
              "       width=\"24px\">\n",
              "    <path d=\"M0 0h24v24H0V0z\" fill=\"none\"/>\n",
              "    <path d=\"M18.56 5.44l.94 2.06.94-2.06 2.06-.94-2.06-.94-.94-2.06-.94 2.06-2.06.94zm-11 1L8.5 8.5l.94-2.06 2.06-.94-2.06-.94L8.5 2.5l-.94 2.06-2.06.94zm10 10l.94 2.06.94-2.06 2.06-.94-2.06-.94-.94-2.06-.94 2.06-2.06.94z\"/><path d=\"M17.41 7.96l-1.37-1.37c-.4-.4-.92-.59-1.43-.59-.52 0-1.04.2-1.43.59L10.3 9.45l-7.72 7.72c-.78.78-.78 2.05 0 2.83L4 21.41c.39.39.9.59 1.41.59.51 0 1.02-.2 1.41-.59l7.78-7.78 2.81-2.81c.8-.78.8-2.07 0-2.86zM5.41 20L4 18.59l7.72-7.72 1.47 1.35L5.41 20z\"/>\n",
              "  </svg>\n",
              "      </button>\n",
              "      \n",
              "  <style>\n",
              "    .colab-df-container {\n",
              "      display:flex;\n",
              "      flex-wrap:wrap;\n",
              "      gap: 12px;\n",
              "    }\n",
              "\n",
              "    .colab-df-convert {\n",
              "      background-color: #E8F0FE;\n",
              "      border: none;\n",
              "      border-radius: 50%;\n",
              "      cursor: pointer;\n",
              "      display: none;\n",
              "      fill: #1967D2;\n",
              "      height: 32px;\n",
              "      padding: 0 0 0 0;\n",
              "      width: 32px;\n",
              "    }\n",
              "\n",
              "    .colab-df-convert:hover {\n",
              "      background-color: #E2EBFA;\n",
              "      box-shadow: 0px 1px 2px rgba(60, 64, 67, 0.3), 0px 1px 3px 1px rgba(60, 64, 67, 0.15);\n",
              "      fill: #174EA6;\n",
              "    }\n",
              "\n",
              "    [theme=dark] .colab-df-convert {\n",
              "      background-color: #3B4455;\n",
              "      fill: #D2E3FC;\n",
              "    }\n",
              "\n",
              "    [theme=dark] .colab-df-convert:hover {\n",
              "      background-color: #434B5C;\n",
              "      box-shadow: 0px 1px 3px 1px rgba(0, 0, 0, 0.15);\n",
              "      filter: drop-shadow(0px 1px 2px rgba(0, 0, 0, 0.3));\n",
              "      fill: #FFFFFF;\n",
              "    }\n",
              "  </style>\n",
              "\n",
              "      <script>\n",
              "        const buttonEl =\n",
              "          document.querySelector('#df-3a896ae1-8ac0-46e3-96d1-6ecd4d77a15b button.colab-df-convert');\n",
              "        buttonEl.style.display =\n",
              "          google.colab.kernel.accessAllowed ? 'block' : 'none';\n",
              "\n",
              "        async function convertToInteractive(key) {\n",
              "          const element = document.querySelector('#df-3a896ae1-8ac0-46e3-96d1-6ecd4d77a15b');\n",
              "          const dataTable =\n",
              "            await google.colab.kernel.invokeFunction('convertToInteractive',\n",
              "                                                     [key], {});\n",
              "          if (!dataTable) return;\n",
              "\n",
              "          const docLinkHtml = 'Like what you see? Visit the ' +\n",
              "            '<a target=\"_blank\" href=https://colab.research.google.com/notebooks/data_table.ipynb>data table notebook</a>'\n",
              "            + ' to learn more about interactive tables.';\n",
              "          element.innerHTML = '';\n",
              "          dataTable['output_type'] = 'display_data';\n",
              "          await google.colab.output.renderOutput(dataTable, element);\n",
              "          const docLink = document.createElement('div');\n",
              "          docLink.innerHTML = docLinkHtml;\n",
              "          element.appendChild(docLink);\n",
              "        }\n",
              "      </script>\n",
              "    </div>\n",
              "  </div>\n",
              "  "
            ]
          },
          "metadata": {},
          "execution_count": 36
        }
      ]
    }
  ]
}